{
 "cells": [
  {
   "cell_type": "markdown",
   "source": [
    "\n",
    "For\n",
    "the\n",
    "GA\n",
    "to\n",
    "work, we\n",
    "would\n",
    "need\n",
    "4\n",
    "entities:\n",
    "- population(here\n",
    "the\n",
    "set\n",
    "of\n",
    "all\n",
    "players\n",
    "' actions)\n",
    "- fitess\n",
    "function(here\n",
    "payoffs)\n",
    "- selection(process\n",
    "of\n",
    "choosing\n",
    "individuals\n",
    "from the population\n",
    "\n",
    "based\n",
    "on\n",
    "their\n",
    "fitness\n",
    "value)\n",
    "- genetic\n",
    "operators(The\n",
    "two\n",
    "main\n",
    "genetic\n",
    "operators\n",
    "are\n",
    "crossover(recombination) and mutation)"
   ],
   "metadata": {
    "collapsed": false
   },
   "outputs": [
    {
     "ename": "SyntaxError",
     "evalue": "invalid syntax (1565392328.py, line 9)",
     "output_type": "error",
     "traceback": [
      "\u001B[1;36m  Cell \u001B[1;32mIn[1], line 9\u001B[1;36m\u001B[0m\n\u001B[1;33m    entities:\u001B[0m\n\u001B[1;37m             ^\u001B[0m\n\u001B[1;31mSyntaxError\u001B[0m\u001B[1;31m:\u001B[0m invalid syntax\n"
     ]
    }
   ],
   "execution_count": 1
  },
  {
   "cell_type": "code",
   "execution_count": null,
   "outputs": [],
   "source": [
    "def generate_population(*args):\n",
    "    df_pop = pd.DataFrame({args[0]: [1, 2]})\n",
    "    for arg in args[1:]:\n",
    "        df_added = pd.DataFrame({arg: [1, 2]})\n",
    "        df_pop = df_pop.merge(df_added, how='cross')\n",
    "    return df_pop\n",
    "\n",
    "\n",
    "generate_population('p_choices', 'prediction').sample(2)\n",
    "\n",
    "\n",
    "def generate_tournament(data_observed=data_control, cost_player=50):\n",
    "    gameplay_opponent = pd.DataFrame(data_observed.iloc[random.choice(range(data_observed.shape[0])), 1:]).transpose()\n",
    "    gameplay_player = generate_population('p_choices', 'prediction').assign(cost=cost_player).sample(1)\n",
    "    res_df = pd.concat([gameplay_opponent, gameplay_player])\n",
    "    res_df.index = ['opponent', 'player']\n",
    "    return res_df\n",
    "\n",
    "\n",
    "tournament = generate_tournament()\n",
    "tournament\n",
    "calculate_payoffs(tournament.loc['player', 'cost'].squeeze(), tournament.loc['player', 'p_choices'].squeeze(),\n",
    "                  tournament.loc['opponent', 'p_choices'].squeeze())"
   ],
   "metadata": {
    "collapsed": false
   }
  }
 ],
 "metadata": {
  "kernelspec": {
   "display_name": "Python 3",
   "language": "python",
   "name": "python3"
  },
  "language_info": {
   "codemirror_mode": {
    "name": "ipython",
    "version": 2
   },
   "file_extension": ".py",
   "mimetype": "text/x-python",
   "name": "python",
   "nbconvert_exporter": "python",
   "pygments_lexer": "ipython2",
   "version": "2.7.6"
  }
 },
 "nbformat": 4,
 "nbformat_minor": 0
}
