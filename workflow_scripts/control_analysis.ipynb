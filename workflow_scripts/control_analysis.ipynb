{
 "cells": [
  {
   "cell_type": "code",
   "execution_count": 4,
   "metadata": {
    "collapsed": true
   },
   "outputs": [],
   "source": [
    "import os\n",
    "import pandas as pd"
   ]
  },
  {
   "cell_type": "markdown",
   "source": [
    "# 1 Control Dataset Analysis"
   ],
   "metadata": {
    "collapsed": false
   }
  },
  {
   "cell_type": "markdown",
   "source": [
    "In the first step, I load all the necessary data that has been processed beforehand. From our experiment, data has been divided into 6 data sets of which each describes a\n",
    "different group/different action in the experiment.\n",
    "\n",
    "- In the *control* data sets, participants were picking their actions based on their current costs\n",
    "- In the *treatment* data sets, participants were picking not only their actions, but also their prediction about the opponent's behavior"
   ],
   "metadata": {
    "collapsed": false
   }
  },
  {
   "cell_type": "code",
   "execution_count": 5,
   "outputs": [],
   "source": [
    "def load_data(group):\n",
    "    assert group in ['control', 'treatment']\n",
    "    data_processed = {}\n",
    "    for res_file in os.listdir(\"../data/data_processed/\"):\n",
    "        if group in res_file:\n",
    "            data_processed[str(res_file).split(\".\")[0]] = pd.read_csv(f\"../data/data_processed/{res_file}\").drop(\"Unnamed: 0\", axis=1)\n",
    "\n",
    "    print(f\"Loaded data: {data_processed.keys()}\")\n",
    "    return data_processed"
   ],
   "metadata": {
    "collapsed": false
   }
  },
  {
   "cell_type": "code",
   "execution_count": 6,
   "outputs": [
    {
     "name": "stdout",
     "output_type": "stream",
     "text": [
      "Loaded data: dict_keys(['control_actions', 'control_pred'])\n"
     ]
    }
   ],
   "source": [
    "data_processed = load_data('control')"
   ],
   "metadata": {
    "collapsed": false
   }
  },
  {
   "cell_type": "code",
   "execution_count": 7,
   "outputs": [
    {
     "data": {
      "text/plain": "     id  p_choices  cost  prediction\n0     0          1    10           1\n1     0          2    30           2\n2     0          2    50           2\n3     0          2    70           2\n4     0          2    90           2\n..   ..        ...   ...         ...\n215  21          1   110           2\n216  21          2   130           2\n217  21          2   150           2\n218  21          2   170           2\n219  21          2   190           2\n\n[220 rows x 4 columns]",
      "text/html": "<div>\n<style scoped>\n    .dataframe tbody tr th:only-of-type {\n        vertical-align: middle;\n    }\n\n    .dataframe tbody tr th {\n        vertical-align: top;\n    }\n\n    .dataframe thead th {\n        text-align: right;\n    }\n</style>\n<table border=\"1\" class=\"dataframe\">\n  <thead>\n    <tr style=\"text-align: right;\">\n      <th></th>\n      <th>id</th>\n      <th>p_choices</th>\n      <th>cost</th>\n      <th>prediction</th>\n    </tr>\n  </thead>\n  <tbody>\n    <tr>\n      <th>0</th>\n      <td>0</td>\n      <td>1</td>\n      <td>10</td>\n      <td>1</td>\n    </tr>\n    <tr>\n      <th>1</th>\n      <td>0</td>\n      <td>2</td>\n      <td>30</td>\n      <td>2</td>\n    </tr>\n    <tr>\n      <th>2</th>\n      <td>0</td>\n      <td>2</td>\n      <td>50</td>\n      <td>2</td>\n    </tr>\n    <tr>\n      <th>3</th>\n      <td>0</td>\n      <td>2</td>\n      <td>70</td>\n      <td>2</td>\n    </tr>\n    <tr>\n      <th>4</th>\n      <td>0</td>\n      <td>2</td>\n      <td>90</td>\n      <td>2</td>\n    </tr>\n    <tr>\n      <th>...</th>\n      <td>...</td>\n      <td>...</td>\n      <td>...</td>\n      <td>...</td>\n    </tr>\n    <tr>\n      <th>215</th>\n      <td>21</td>\n      <td>1</td>\n      <td>110</td>\n      <td>2</td>\n    </tr>\n    <tr>\n      <th>216</th>\n      <td>21</td>\n      <td>2</td>\n      <td>130</td>\n      <td>2</td>\n    </tr>\n    <tr>\n      <th>217</th>\n      <td>21</td>\n      <td>2</td>\n      <td>150</td>\n      <td>2</td>\n    </tr>\n    <tr>\n      <th>218</th>\n      <td>21</td>\n      <td>2</td>\n      <td>170</td>\n      <td>2</td>\n    </tr>\n    <tr>\n      <th>219</th>\n      <td>21</td>\n      <td>2</td>\n      <td>190</td>\n      <td>2</td>\n    </tr>\n  </tbody>\n</table>\n<p>220 rows × 4 columns</p>\n</div>"
     },
     "execution_count": 7,
     "metadata": {},
     "output_type": "execute_result"
    }
   ],
   "source": [
    "def data_into_df(df_dict):\n",
    "    df_out = pd.concat(df_dict.values(), axis=1)\n",
    "    df_out = df_out.loc[:, ~df_out.columns.duplicated()]\n",
    "    return df_out\n",
    "\n",
    "data_into_df(data_processed)"
   ],
   "metadata": {
    "collapsed": false
   }
  },
  {
   "cell_type": "markdown",
   "source": [
    "Hereby I concatenate the dataframes for both treatment and control groups"
   ],
   "metadata": {
    "collapsed": false
   }
  },
  {
   "cell_type": "code",
   "execution_count": 8,
   "outputs": [
    {
     "name": "stdout",
     "output_type": "stream",
     "text": [
      "Loaded data: dict_keys(['control_actions', 'control_pred'])\n"
     ]
    },
    {
     "data": {
      "text/plain": "     id  p_choices  cost  prediction\n0     0          1    10           1\n1     0          2    30           2\n2     0          2    50           2\n3     0          2    70           2\n4     0          2    90           2\n..   ..        ...   ...         ...\n215  21          1   110           2\n216  21          2   130           2\n217  21          2   150           2\n218  21          2   170           2\n219  21          2   190           2\n\n[220 rows x 4 columns]",
      "text/html": "<div>\n<style scoped>\n    .dataframe tbody tr th:only-of-type {\n        vertical-align: middle;\n    }\n\n    .dataframe tbody tr th {\n        vertical-align: top;\n    }\n\n    .dataframe thead th {\n        text-align: right;\n    }\n</style>\n<table border=\"1\" class=\"dataframe\">\n  <thead>\n    <tr style=\"text-align: right;\">\n      <th></th>\n      <th>id</th>\n      <th>p_choices</th>\n      <th>cost</th>\n      <th>prediction</th>\n    </tr>\n  </thead>\n  <tbody>\n    <tr>\n      <th>0</th>\n      <td>0</td>\n      <td>1</td>\n      <td>10</td>\n      <td>1</td>\n    </tr>\n    <tr>\n      <th>1</th>\n      <td>0</td>\n      <td>2</td>\n      <td>30</td>\n      <td>2</td>\n    </tr>\n    <tr>\n      <th>2</th>\n      <td>0</td>\n      <td>2</td>\n      <td>50</td>\n      <td>2</td>\n    </tr>\n    <tr>\n      <th>3</th>\n      <td>0</td>\n      <td>2</td>\n      <td>70</td>\n      <td>2</td>\n    </tr>\n    <tr>\n      <th>4</th>\n      <td>0</td>\n      <td>2</td>\n      <td>90</td>\n      <td>2</td>\n    </tr>\n    <tr>\n      <th>...</th>\n      <td>...</td>\n      <td>...</td>\n      <td>...</td>\n      <td>...</td>\n    </tr>\n    <tr>\n      <th>215</th>\n      <td>21</td>\n      <td>1</td>\n      <td>110</td>\n      <td>2</td>\n    </tr>\n    <tr>\n      <th>216</th>\n      <td>21</td>\n      <td>2</td>\n      <td>130</td>\n      <td>2</td>\n    </tr>\n    <tr>\n      <th>217</th>\n      <td>21</td>\n      <td>2</td>\n      <td>150</td>\n      <td>2</td>\n    </tr>\n    <tr>\n      <th>218</th>\n      <td>21</td>\n      <td>2</td>\n      <td>170</td>\n      <td>2</td>\n    </tr>\n    <tr>\n      <th>219</th>\n      <td>21</td>\n      <td>2</td>\n      <td>190</td>\n      <td>2</td>\n    </tr>\n  </tbody>\n</table>\n<p>220 rows × 4 columns</p>\n</div>"
     },
     "execution_count": 8,
     "metadata": {},
     "output_type": "execute_result"
    }
   ],
   "source": [
    "control_full_df = data_into_df(load_data('control'))\n",
    "control_full_df"
   ],
   "metadata": {
    "collapsed": false
   }
  },
  {
   "cell_type": "markdown",
   "source": [
    "Now I have both data sets ready for further analysis"
   ],
   "metadata": {
    "collapsed": false
   }
  },
  {
   "cell_type": "markdown",
   "source": [
    "# 1 Analysing the Control Data Set"
   ],
   "metadata": {
    "collapsed": false
   }
  },
  {
   "cell_type": "markdown",
   "source": [
    "In the next step, I will identify the costs under which the players do change their actions. THis would yield two important information:\n",
    "- are the players consistent?\n",
    "- what is the overall strategy for the players?"
   ],
   "metadata": {
    "collapsed": false
   }
  },
  {
   "cell_type": "code",
   "execution_count": 9,
   "outputs": [],
   "source": [
    "def get_player_type(row_value):\n",
    "    if len(row_value) > 1:\n",
    "        return 'irrational'\n",
    "    elif len(row_value) == 0:\n",
    "        return 'static'\n",
    "    elif row_value[0][1] == 1:\n",
    "        return 'aggresive'\n",
    "    elif row_value[0][1] == 2:\n",
    "        return 'peaceful'"
   ],
   "metadata": {
    "collapsed": false
   }
  },
  {
   "cell_type": "code",
   "execution_count": 10,
   "outputs": [],
   "source": [
    "def get_cutoff(df, action_col, cost_col='cost', id_col='id'):\n",
    "    \"\"\"\n",
    "    To each unique id, assign all costs at which his strategy has changed\n",
    "    \"\"\"\n",
    "    cutoff = {k: [] for k in df[id_col].unique()}\n",
    "    for i in range(len(df[cost_col]) - 1):\n",
    "        if df[action_col][i + 1] != df[action_col][i] and df[id_col][i + 1] == df[id_col][i]:\n",
    "            cutoff[df[id_col][i]].append((df[cost_col][i], df[action_col][i]))\n",
    "\n",
    "    df_cutoffs = pd.DataFrame({'id': cutoff.keys(),\n",
    "                               f'{action_col}_cutoff': [v for v in cutoff.values()]})\n",
    "\n",
    "    df_cutoffs[f'{action_col}_player_type'] = df_cutoffs[f'{action_col}_cutoff'].apply(get_player_type)\n",
    "\n",
    "    return df_cutoffs"
   ],
   "metadata": {
    "collapsed": false
   }
  },
  {
   "cell_type": "code",
   "execution_count": 11,
   "outputs": [],
   "source": [
    "def get_all_cutoffs(df, action_cols):\n",
    "    df_out = get_cutoff(df, action_cols[0])\n",
    "    for col in action_cols[1:]:\n",
    "        df_out = df_out.merge(get_cutoff(df, col))\n",
    "    return df_out"
   ],
   "metadata": {
    "collapsed": false
   }
  },
  {
   "cell_type": "code",
   "execution_count": 12,
   "outputs": [
    {
     "data": {
      "text/plain": "    id               p_choices_cutoff p_choices_player_type  \\\n0    0                      [(10, 1)]             aggresive   \n1    1   [(50, 1), (70, 2), (130, 1)]            irrational   \n2    2                      [(70, 1)]             aggresive   \n3    3                      [(30, 1)]             aggresive   \n4    4  [(30, 1), (110, 2), (130, 1)]            irrational   \n5    5                      [(30, 1)]             aggresive   \n6    6             [(30, 2), (50, 1)]            irrational   \n7    7             [(10, 2), (30, 1)]            irrational   \n8    8                      [(90, 1)]             aggresive   \n9    9                      [(90, 1)]             aggresive   \n10  10    [(10, 1), (30, 2), (90, 1)]            irrational   \n11  11                      [(50, 1)]             aggresive   \n12  12                      [(50, 1)]             aggresive   \n13  13                      [(90, 1)]             aggresive   \n14  14                      [(50, 1)]             aggresive   \n15  15                      [(50, 1)]             aggresive   \n16  16                     [(130, 1)]             aggresive   \n17  17                      [(90, 1)]             aggresive   \n18  18                      [(90, 1)]             aggresive   \n19  19                      [(50, 1)]             aggresive   \n20  20                     [(110, 1)]             aggresive   \n21  21                     [(110, 1)]             aggresive   \n\n                prediction_cutoff prediction_player_type  \n0                       [(10, 1)]              aggresive  \n1             [(70, 2), (130, 1)]             irrational  \n2                       [(50, 1)]              aggresive  \n3                       [(30, 1)]              aggresive  \n4   [(10, 1), (110, 2), (130, 1)]             irrational  \n5                       [(30, 1)]              aggresive  \n6                       [(50, 1)]              aggresive  \n7                       [(10, 1)]              aggresive  \n8                       [(90, 1)]              aggresive  \n9                       [(90, 1)]              aggresive  \n10    [(10, 1), (30, 2), (90, 1)]             irrational  \n11                      [(30, 1)]              aggresive  \n12                      [(50, 1)]              aggresive  \n13                      [(70, 1)]              aggresive  \n14                      [(50, 1)]              aggresive  \n15                      [(50, 1)]              aggresive  \n16                     [(130, 1)]              aggresive  \n17                      [(70, 1)]              aggresive  \n18                      [(90, 1)]              aggresive  \n19                      [(70, 1)]              aggresive  \n20                     [(110, 1)]              aggresive  \n21                      [(90, 1)]              aggresive  ",
      "text/html": "<div>\n<style scoped>\n    .dataframe tbody tr th:only-of-type {\n        vertical-align: middle;\n    }\n\n    .dataframe tbody tr th {\n        vertical-align: top;\n    }\n\n    .dataframe thead th {\n        text-align: right;\n    }\n</style>\n<table border=\"1\" class=\"dataframe\">\n  <thead>\n    <tr style=\"text-align: right;\">\n      <th></th>\n      <th>id</th>\n      <th>p_choices_cutoff</th>\n      <th>p_choices_player_type</th>\n      <th>prediction_cutoff</th>\n      <th>prediction_player_type</th>\n    </tr>\n  </thead>\n  <tbody>\n    <tr>\n      <th>0</th>\n      <td>0</td>\n      <td>[(10, 1)]</td>\n      <td>aggresive</td>\n      <td>[(10, 1)]</td>\n      <td>aggresive</td>\n    </tr>\n    <tr>\n      <th>1</th>\n      <td>1</td>\n      <td>[(50, 1), (70, 2), (130, 1)]</td>\n      <td>irrational</td>\n      <td>[(70, 2), (130, 1)]</td>\n      <td>irrational</td>\n    </tr>\n    <tr>\n      <th>2</th>\n      <td>2</td>\n      <td>[(70, 1)]</td>\n      <td>aggresive</td>\n      <td>[(50, 1)]</td>\n      <td>aggresive</td>\n    </tr>\n    <tr>\n      <th>3</th>\n      <td>3</td>\n      <td>[(30, 1)]</td>\n      <td>aggresive</td>\n      <td>[(30, 1)]</td>\n      <td>aggresive</td>\n    </tr>\n    <tr>\n      <th>4</th>\n      <td>4</td>\n      <td>[(30, 1), (110, 2), (130, 1)]</td>\n      <td>irrational</td>\n      <td>[(10, 1), (110, 2), (130, 1)]</td>\n      <td>irrational</td>\n    </tr>\n    <tr>\n      <th>5</th>\n      <td>5</td>\n      <td>[(30, 1)]</td>\n      <td>aggresive</td>\n      <td>[(30, 1)]</td>\n      <td>aggresive</td>\n    </tr>\n    <tr>\n      <th>6</th>\n      <td>6</td>\n      <td>[(30, 2), (50, 1)]</td>\n      <td>irrational</td>\n      <td>[(50, 1)]</td>\n      <td>aggresive</td>\n    </tr>\n    <tr>\n      <th>7</th>\n      <td>7</td>\n      <td>[(10, 2), (30, 1)]</td>\n      <td>irrational</td>\n      <td>[(10, 1)]</td>\n      <td>aggresive</td>\n    </tr>\n    <tr>\n      <th>8</th>\n      <td>8</td>\n      <td>[(90, 1)]</td>\n      <td>aggresive</td>\n      <td>[(90, 1)]</td>\n      <td>aggresive</td>\n    </tr>\n    <tr>\n      <th>9</th>\n      <td>9</td>\n      <td>[(90, 1)]</td>\n      <td>aggresive</td>\n      <td>[(90, 1)]</td>\n      <td>aggresive</td>\n    </tr>\n    <tr>\n      <th>10</th>\n      <td>10</td>\n      <td>[(10, 1), (30, 2), (90, 1)]</td>\n      <td>irrational</td>\n      <td>[(10, 1), (30, 2), (90, 1)]</td>\n      <td>irrational</td>\n    </tr>\n    <tr>\n      <th>11</th>\n      <td>11</td>\n      <td>[(50, 1)]</td>\n      <td>aggresive</td>\n      <td>[(30, 1)]</td>\n      <td>aggresive</td>\n    </tr>\n    <tr>\n      <th>12</th>\n      <td>12</td>\n      <td>[(50, 1)]</td>\n      <td>aggresive</td>\n      <td>[(50, 1)]</td>\n      <td>aggresive</td>\n    </tr>\n    <tr>\n      <th>13</th>\n      <td>13</td>\n      <td>[(90, 1)]</td>\n      <td>aggresive</td>\n      <td>[(70, 1)]</td>\n      <td>aggresive</td>\n    </tr>\n    <tr>\n      <th>14</th>\n      <td>14</td>\n      <td>[(50, 1)]</td>\n      <td>aggresive</td>\n      <td>[(50, 1)]</td>\n      <td>aggresive</td>\n    </tr>\n    <tr>\n      <th>15</th>\n      <td>15</td>\n      <td>[(50, 1)]</td>\n      <td>aggresive</td>\n      <td>[(50, 1)]</td>\n      <td>aggresive</td>\n    </tr>\n    <tr>\n      <th>16</th>\n      <td>16</td>\n      <td>[(130, 1)]</td>\n      <td>aggresive</td>\n      <td>[(130, 1)]</td>\n      <td>aggresive</td>\n    </tr>\n    <tr>\n      <th>17</th>\n      <td>17</td>\n      <td>[(90, 1)]</td>\n      <td>aggresive</td>\n      <td>[(70, 1)]</td>\n      <td>aggresive</td>\n    </tr>\n    <tr>\n      <th>18</th>\n      <td>18</td>\n      <td>[(90, 1)]</td>\n      <td>aggresive</td>\n      <td>[(90, 1)]</td>\n      <td>aggresive</td>\n    </tr>\n    <tr>\n      <th>19</th>\n      <td>19</td>\n      <td>[(50, 1)]</td>\n      <td>aggresive</td>\n      <td>[(70, 1)]</td>\n      <td>aggresive</td>\n    </tr>\n    <tr>\n      <th>20</th>\n      <td>20</td>\n      <td>[(110, 1)]</td>\n      <td>aggresive</td>\n      <td>[(110, 1)]</td>\n      <td>aggresive</td>\n    </tr>\n    <tr>\n      <th>21</th>\n      <td>21</td>\n      <td>[(110, 1)]</td>\n      <td>aggresive</td>\n      <td>[(90, 1)]</td>\n      <td>aggresive</td>\n    </tr>\n  </tbody>\n</table>\n</div>"
     },
     "execution_count": 12,
     "metadata": {},
     "output_type": "execute_result"
    }
   ],
   "source": [
    "control_cutoff_df = get_all_cutoffs(control_full_df, ['p_choices', 'prediction'])\n",
    "control_cutoff_df"
   ],
   "metadata": {
    "collapsed": false
   }
  },
  {
   "cell_type": "code",
   "execution_count": 13,
   "outputs": [],
   "source": [
    "def get_first_cutoffs(df, cutoff_cols):\n",
    "    df_out = df.copy()\n",
    "    for cutoff_col in cutoff_cols:\n",
    "        df_out[f'{cutoff_col}_first'] = df_out[cutoff_col].apply(lambda x: x[0][0])\n",
    "    return df_out"
   ],
   "metadata": {
    "collapsed": false
   }
  },
  {
   "cell_type": "code",
   "execution_count": 14,
   "outputs": [
    {
     "data": {
      "text/plain": "    id               p_choices_cutoff p_choices_player_type  \\\n0    0                      [(10, 1)]             aggresive   \n1    1   [(50, 1), (70, 2), (130, 1)]            irrational   \n2    2                      [(70, 1)]             aggresive   \n3    3                      [(30, 1)]             aggresive   \n4    4  [(30, 1), (110, 2), (130, 1)]            irrational   \n5    5                      [(30, 1)]             aggresive   \n6    6             [(30, 2), (50, 1)]            irrational   \n7    7             [(10, 2), (30, 1)]            irrational   \n8    8                      [(90, 1)]             aggresive   \n9    9                      [(90, 1)]             aggresive   \n10  10    [(10, 1), (30, 2), (90, 1)]            irrational   \n11  11                      [(50, 1)]             aggresive   \n12  12                      [(50, 1)]             aggresive   \n13  13                      [(90, 1)]             aggresive   \n14  14                      [(50, 1)]             aggresive   \n15  15                      [(50, 1)]             aggresive   \n16  16                     [(130, 1)]             aggresive   \n17  17                      [(90, 1)]             aggresive   \n18  18                      [(90, 1)]             aggresive   \n19  19                      [(50, 1)]             aggresive   \n20  20                     [(110, 1)]             aggresive   \n21  21                     [(110, 1)]             aggresive   \n\n                prediction_cutoff prediction_player_type  \\\n0                       [(10, 1)]              aggresive   \n1             [(70, 2), (130, 1)]             irrational   \n2                       [(50, 1)]              aggresive   \n3                       [(30, 1)]              aggresive   \n4   [(10, 1), (110, 2), (130, 1)]             irrational   \n5                       [(30, 1)]              aggresive   \n6                       [(50, 1)]              aggresive   \n7                       [(10, 1)]              aggresive   \n8                       [(90, 1)]              aggresive   \n9                       [(90, 1)]              aggresive   \n10    [(10, 1), (30, 2), (90, 1)]             irrational   \n11                      [(30, 1)]              aggresive   \n12                      [(50, 1)]              aggresive   \n13                      [(70, 1)]              aggresive   \n14                      [(50, 1)]              aggresive   \n15                      [(50, 1)]              aggresive   \n16                     [(130, 1)]              aggresive   \n17                      [(70, 1)]              aggresive   \n18                      [(90, 1)]              aggresive   \n19                      [(70, 1)]              aggresive   \n20                     [(110, 1)]              aggresive   \n21                      [(90, 1)]              aggresive   \n\n    p_choices_cutoff_first  prediction_cutoff_first  \n0                       10                       10  \n1                       50                       70  \n2                       70                       50  \n3                       30                       30  \n4                       30                       10  \n5                       30                       30  \n6                       30                       50  \n7                       10                       10  \n8                       90                       90  \n9                       90                       90  \n10                      10                       10  \n11                      50                       30  \n12                      50                       50  \n13                      90                       70  \n14                      50                       50  \n15                      50                       50  \n16                     130                      130  \n17                      90                       70  \n18                      90                       90  \n19                      50                       70  \n20                     110                      110  \n21                     110                       90  ",
      "text/html": "<div>\n<style scoped>\n    .dataframe tbody tr th:only-of-type {\n        vertical-align: middle;\n    }\n\n    .dataframe tbody tr th {\n        vertical-align: top;\n    }\n\n    .dataframe thead th {\n        text-align: right;\n    }\n</style>\n<table border=\"1\" class=\"dataframe\">\n  <thead>\n    <tr style=\"text-align: right;\">\n      <th></th>\n      <th>id</th>\n      <th>p_choices_cutoff</th>\n      <th>p_choices_player_type</th>\n      <th>prediction_cutoff</th>\n      <th>prediction_player_type</th>\n      <th>p_choices_cutoff_first</th>\n      <th>prediction_cutoff_first</th>\n    </tr>\n  </thead>\n  <tbody>\n    <tr>\n      <th>0</th>\n      <td>0</td>\n      <td>[(10, 1)]</td>\n      <td>aggresive</td>\n      <td>[(10, 1)]</td>\n      <td>aggresive</td>\n      <td>10</td>\n      <td>10</td>\n    </tr>\n    <tr>\n      <th>1</th>\n      <td>1</td>\n      <td>[(50, 1), (70, 2), (130, 1)]</td>\n      <td>irrational</td>\n      <td>[(70, 2), (130, 1)]</td>\n      <td>irrational</td>\n      <td>50</td>\n      <td>70</td>\n    </tr>\n    <tr>\n      <th>2</th>\n      <td>2</td>\n      <td>[(70, 1)]</td>\n      <td>aggresive</td>\n      <td>[(50, 1)]</td>\n      <td>aggresive</td>\n      <td>70</td>\n      <td>50</td>\n    </tr>\n    <tr>\n      <th>3</th>\n      <td>3</td>\n      <td>[(30, 1)]</td>\n      <td>aggresive</td>\n      <td>[(30, 1)]</td>\n      <td>aggresive</td>\n      <td>30</td>\n      <td>30</td>\n    </tr>\n    <tr>\n      <th>4</th>\n      <td>4</td>\n      <td>[(30, 1), (110, 2), (130, 1)]</td>\n      <td>irrational</td>\n      <td>[(10, 1), (110, 2), (130, 1)]</td>\n      <td>irrational</td>\n      <td>30</td>\n      <td>10</td>\n    </tr>\n    <tr>\n      <th>5</th>\n      <td>5</td>\n      <td>[(30, 1)]</td>\n      <td>aggresive</td>\n      <td>[(30, 1)]</td>\n      <td>aggresive</td>\n      <td>30</td>\n      <td>30</td>\n    </tr>\n    <tr>\n      <th>6</th>\n      <td>6</td>\n      <td>[(30, 2), (50, 1)]</td>\n      <td>irrational</td>\n      <td>[(50, 1)]</td>\n      <td>aggresive</td>\n      <td>30</td>\n      <td>50</td>\n    </tr>\n    <tr>\n      <th>7</th>\n      <td>7</td>\n      <td>[(10, 2), (30, 1)]</td>\n      <td>irrational</td>\n      <td>[(10, 1)]</td>\n      <td>aggresive</td>\n      <td>10</td>\n      <td>10</td>\n    </tr>\n    <tr>\n      <th>8</th>\n      <td>8</td>\n      <td>[(90, 1)]</td>\n      <td>aggresive</td>\n      <td>[(90, 1)]</td>\n      <td>aggresive</td>\n      <td>90</td>\n      <td>90</td>\n    </tr>\n    <tr>\n      <th>9</th>\n      <td>9</td>\n      <td>[(90, 1)]</td>\n      <td>aggresive</td>\n      <td>[(90, 1)]</td>\n      <td>aggresive</td>\n      <td>90</td>\n      <td>90</td>\n    </tr>\n    <tr>\n      <th>10</th>\n      <td>10</td>\n      <td>[(10, 1), (30, 2), (90, 1)]</td>\n      <td>irrational</td>\n      <td>[(10, 1), (30, 2), (90, 1)]</td>\n      <td>irrational</td>\n      <td>10</td>\n      <td>10</td>\n    </tr>\n    <tr>\n      <th>11</th>\n      <td>11</td>\n      <td>[(50, 1)]</td>\n      <td>aggresive</td>\n      <td>[(30, 1)]</td>\n      <td>aggresive</td>\n      <td>50</td>\n      <td>30</td>\n    </tr>\n    <tr>\n      <th>12</th>\n      <td>12</td>\n      <td>[(50, 1)]</td>\n      <td>aggresive</td>\n      <td>[(50, 1)]</td>\n      <td>aggresive</td>\n      <td>50</td>\n      <td>50</td>\n    </tr>\n    <tr>\n      <th>13</th>\n      <td>13</td>\n      <td>[(90, 1)]</td>\n      <td>aggresive</td>\n      <td>[(70, 1)]</td>\n      <td>aggresive</td>\n      <td>90</td>\n      <td>70</td>\n    </tr>\n    <tr>\n      <th>14</th>\n      <td>14</td>\n      <td>[(50, 1)]</td>\n      <td>aggresive</td>\n      <td>[(50, 1)]</td>\n      <td>aggresive</td>\n      <td>50</td>\n      <td>50</td>\n    </tr>\n    <tr>\n      <th>15</th>\n      <td>15</td>\n      <td>[(50, 1)]</td>\n      <td>aggresive</td>\n      <td>[(50, 1)]</td>\n      <td>aggresive</td>\n      <td>50</td>\n      <td>50</td>\n    </tr>\n    <tr>\n      <th>16</th>\n      <td>16</td>\n      <td>[(130, 1)]</td>\n      <td>aggresive</td>\n      <td>[(130, 1)]</td>\n      <td>aggresive</td>\n      <td>130</td>\n      <td>130</td>\n    </tr>\n    <tr>\n      <th>17</th>\n      <td>17</td>\n      <td>[(90, 1)]</td>\n      <td>aggresive</td>\n      <td>[(70, 1)]</td>\n      <td>aggresive</td>\n      <td>90</td>\n      <td>70</td>\n    </tr>\n    <tr>\n      <th>18</th>\n      <td>18</td>\n      <td>[(90, 1)]</td>\n      <td>aggresive</td>\n      <td>[(90, 1)]</td>\n      <td>aggresive</td>\n      <td>90</td>\n      <td>90</td>\n    </tr>\n    <tr>\n      <th>19</th>\n      <td>19</td>\n      <td>[(50, 1)]</td>\n      <td>aggresive</td>\n      <td>[(70, 1)]</td>\n      <td>aggresive</td>\n      <td>50</td>\n      <td>70</td>\n    </tr>\n    <tr>\n      <th>20</th>\n      <td>20</td>\n      <td>[(110, 1)]</td>\n      <td>aggresive</td>\n      <td>[(110, 1)]</td>\n      <td>aggresive</td>\n      <td>110</td>\n      <td>110</td>\n    </tr>\n    <tr>\n      <th>21</th>\n      <td>21</td>\n      <td>[(110, 1)]</td>\n      <td>aggresive</td>\n      <td>[(90, 1)]</td>\n      <td>aggresive</td>\n      <td>110</td>\n      <td>90</td>\n    </tr>\n  </tbody>\n</table>\n</div>"
     },
     "execution_count": 14,
     "metadata": {},
     "output_type": "execute_result"
    }
   ],
   "source": [
    "cutoffs_full = get_first_cutoffs(control_cutoff_df, ['p_choices_cutoff', 'prediction_cutoff'])\n",
    "cutoffs_full"
   ],
   "metadata": {
    "collapsed": false
   }
  },
  {
   "cell_type": "code",
   "execution_count": 15,
   "outputs": [],
   "source": [
    "def get_combination_count(df, action_cols):\n",
    "    return df.groupby(action_cols).size().reset_index().rename(columns={0: 'combination_count'})"
   ],
   "metadata": {
    "collapsed": false
   }
  },
  {
   "cell_type": "code",
   "execution_count": 16,
   "outputs": [
    {
     "data": {
      "text/plain": "  p_choices_player_type prediction_player_type  combination_count\n0             aggresive              aggresive                 17\n1            irrational              aggresive                  2\n2            irrational             irrational                  3",
      "text/html": "<div>\n<style scoped>\n    .dataframe tbody tr th:only-of-type {\n        vertical-align: middle;\n    }\n\n    .dataframe tbody tr th {\n        vertical-align: top;\n    }\n\n    .dataframe thead th {\n        text-align: right;\n    }\n</style>\n<table border=\"1\" class=\"dataframe\">\n  <thead>\n    <tr style=\"text-align: right;\">\n      <th></th>\n      <th>p_choices_player_type</th>\n      <th>prediction_player_type</th>\n      <th>combination_count</th>\n    </tr>\n  </thead>\n  <tbody>\n    <tr>\n      <th>0</th>\n      <td>aggresive</td>\n      <td>aggresive</td>\n      <td>17</td>\n    </tr>\n    <tr>\n      <th>1</th>\n      <td>irrational</td>\n      <td>aggresive</td>\n      <td>2</td>\n    </tr>\n    <tr>\n      <th>2</th>\n      <td>irrational</td>\n      <td>irrational</td>\n      <td>3</td>\n    </tr>\n  </tbody>\n</table>\n</div>"
     },
     "execution_count": 16,
     "metadata": {},
     "output_type": "execute_result"
    }
   ],
   "source": [
    "get_combination_count(cutoffs_full, ['p_choices_player_type', 'prediction_player_type'])"
   ],
   "metadata": {
    "collapsed": false
   }
  },
  {
   "cell_type": "code",
   "execution_count": 21,
   "outputs": [],
   "source": [
    "control_rational = cutoffs_full.loc[(cutoffs_full['p_choices_player_type'] != 'irrational') & (cutoffs_full['prediction_player_type'] != 'irrational')][['id', 'p_choices_cutoff_first', 'prediction_cutoff_first']]"
   ],
   "metadata": {
    "collapsed": false
   }
  },
  {
   "cell_type": "code",
   "execution_count": 49,
   "outputs": [
    {
     "data": {
      "text/plain": "<seaborn.axisgrid.FacetGrid at 0x1dd3da6e310>"
     },
     "execution_count": 49,
     "metadata": {},
     "output_type": "execute_result"
    },
    {
     "data": {
      "text/plain": "<Figure size 701.5x500 with 1 Axes>",
      "image/png": "[encoded data removed]"
     },
     "metadata": {},
     "output_type": "display_data"
    }
   ],
   "source": [
    "import seaborn as sns\n",
    "import matplotlib.pyplot as plt\n",
    "control_rational_plot = control_rational.melt(id_vars='id')\n",
    "kde_plot = sns.displot(control_rational_plot, x='value', hue='variable', kind='kde', fill=True)\n",
    "kde_plot"
   ],
   "metadata": {
    "collapsed": false
   }
  },
  {
   "cell_type": "markdown",
   "source": [
    "I can see that majority of the players had started playing the *aggressive* action, changing it only once. However, some players haven't changed the strategy at all and\n",
    "some have changed it twice which is a proof of their irrationality"
   ],
   "metadata": {
    "collapsed": false
   }
  },
  {
   "cell_type": "code",
   "execution_count": null,
   "outputs": [],
   "source": [
    "cutoffs_full"
   ],
   "metadata": {
    "collapsed": false
   }
  }
 ],
 "metadata": {
  "kernelspec": {
   "display_name": "Python 3",
   "language": "python",
   "name": "python3"
  },
  "language_info": {
   "codemirror_mode": {
    "name": "ipython",
    "version": 2
   },
   "file_extension": ".py",
   "mimetype": "text/x-python",
   "name": "python",
   "nbconvert_exporter": "python",
   "pygments_lexer": "ipython2",
   "version": "2.7.6"
  }
 },
 "nbformat": 4,
 "nbformat_minor": 0
}
