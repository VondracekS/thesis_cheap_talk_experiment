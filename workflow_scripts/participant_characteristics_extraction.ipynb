{
 "cells": [
  {
   "cell_type": "code",
   "execution_count": 61,
   "id": "initial_id",
   "metadata": {
    "collapsed": true,
    "ExecuteTime": {
     "end_time": "2023-11-20T21:38:15.643688800Z",
     "start_time": "2023-11-20T21:38:15.528722200Z"
    }
   },
   "outputs": [],
   "source": [
    "import pandas as pd"
   ]
  },
  {
   "cell_type": "code",
   "execution_count": 62,
   "outputs": [],
   "source": [
    "df_control = pd.read_csv(\"../data/data_original/s_01_ctrl.csv\")\n",
    "df_treatment = pd.read_csv((\"../data/data_original/s_01_trt.csv\"))"
   ],
   "metadata": {
    "collapsed": false,
    "ExecuteTime": {
     "end_time": "2023-11-20T21:38:15.722447900Z",
     "start_time": "2023-11-20T21:38:15.558848300Z"
    }
   },
   "id": "d14b7ccea48d00a7"
  },
  {
   "cell_type": "code",
   "execution_count": 63,
   "outputs": [],
   "source": [
    "df_control.columns = [col.split('.')[-1].lower() for col in df_control.columns]\n",
    "df_treatment.columns = [col.split('.')[-1].lower() for col in df_treatment.columns]"
   ],
   "metadata": {
    "collapsed": false,
    "ExecuteTime": {
     "end_time": "2023-11-20T21:38:15.732460200Z",
     "start_time": "2023-11-20T21:38:15.717202100Z"
    }
   },
   "id": "49793ebff0e14d70"
  },
  {
   "cell_type": "code",
   "execution_count": 64,
   "outputs": [],
   "source": [
    "df_treatment = df_treatment.loc[:, ['id_in_session', 'gender', 'age', 'studyfield']]\n",
    "df_control = df_control.loc[:, ['id_in_session', 'gender', 'age', 'studyfield']]"
   ],
   "metadata": {
    "collapsed": false,
    "ExecuteTime": {
     "end_time": "2023-11-20T21:38:15.780770800Z",
     "start_time": "2023-11-20T21:38:15.736652300Z"
    }
   },
   "id": "ddf559640bb0074b"
  },
  {
   "cell_type": "code",
   "execution_count": 65,
   "outputs": [],
   "source": [
    "df_treatment = df_treatment.replace({'Muž': 1, 'Žena': 0, 'Jiné': 0, 'Ekonomika nebo podnikání': 1})\n",
    "df_control = df_control.replace({'Muž': 1, 'Žena': 0, 'Jiné': 0, 'Ekonomika nebo podnikání': 1})"
   ],
   "metadata": {
    "collapsed": false,
    "ExecuteTime": {
     "end_time": "2023-11-20T21:38:15.780770800Z",
     "start_time": "2023-11-20T21:38:15.767477500Z"
    }
   },
   "id": "d3f0849a0d063fd2"
  },
  {
   "cell_type": "code",
   "execution_count": 66,
   "outputs": [],
   "source": [
    "df_control.columns = ['id', 'male', 'age', 'econ_study']\n",
    "df_treatment.columns = ['id', 'male', 'age', 'econ_study']"
   ],
   "metadata": {
    "collapsed": false,
    "ExecuteTime": {
     "end_time": "2023-11-20T21:38:15.798529800Z",
     "start_time": "2023-11-20T21:38:15.783774300Z"
    }
   },
   "id": "a8103f19dfae11e0"
  },
  {
   "cell_type": "code",
   "execution_count": 67,
   "outputs": [],
   "source": [
    "df_control['treatment'] = 0\n",
    "df_treatment['treatment'] = 1"
   ],
   "metadata": {
    "collapsed": false,
    "ExecuteTime": {
     "end_time": "2023-11-20T21:38:15.827815500Z",
     "start_time": "2023-11-20T21:38:15.796530400Z"
    }
   },
   "id": "7863acc5aab7b4fb"
  },
  {
   "cell_type": "code",
   "execution_count": 68,
   "outputs": [],
   "source": [
    "df_control['id'] = df_control['id'] - 1\n",
    "df_treatment['id'] = df_treatment['id'] - 1"
   ],
   "metadata": {
    "collapsed": false,
    "ExecuteTime": {
     "end_time": "2023-11-20T21:38:15.828814800Z",
     "start_time": "2023-11-20T21:38:15.809218200Z"
    }
   },
   "id": "bcbf709305654d86"
  },
  {
   "cell_type": "code",
   "execution_count": 69,
   "outputs": [],
   "source": [
    "df_treatment['id'] = df_treatment['id'].astype('str') + \"_\" +df_treatment['treatment'].astype('str')\n",
    "df_control['id'] = df_control['id'].astype('str') + \"_\" + df_control['treatment'].astype('str')"
   ],
   "metadata": {
    "collapsed": false,
    "ExecuteTime": {
     "end_time": "2023-11-20T21:38:15.838765500Z",
     "start_time": "2023-11-20T21:38:15.824825400Z"
    }
   },
   "id": "b1210a805bd60d5"
  },
  {
   "cell_type": "code",
   "execution_count": 70,
   "outputs": [
    {
     "data": {
      "text/plain": "      id  male  age  econ_study  treatment\n0    0_1     1   24           0          1\n1    1_1     1   24           0          1\n2    2_1     0   22           1          1\n3    3_1     1   23           1          1\n4    4_1     1   19           1          1\n5    5_1     0   19           1          1\n6    6_1     0   21           0          1\n7    7_1     1   20           0          1\n8    8_1     0   26           1          1\n9    9_1     1   20           0          1\n10  10_1     1   23           0          1\n11  11_1     0   20           1          1\n12  12_1     0   19           1          1\n13  13_1     0   22           1          1\n14  14_1     1   24           1          1\n15  15_1     0   19           1          1\n16  16_1     1   25           1          1\n17  17_1     1   23           1          1\n18  18_1     1   23           1          1\n19  19_1     1   25           0          1\n20  20_1     1   20           1          1\n21  21_1     0   25           0          1",
      "text/html": "<div>\n<style scoped>\n    .dataframe tbody tr th:only-of-type {\n        vertical-align: middle;\n    }\n\n    .dataframe tbody tr th {\n        vertical-align: top;\n    }\n\n    .dataframe thead th {\n        text-align: right;\n    }\n</style>\n<table border=\"1\" class=\"dataframe\">\n  <thead>\n    <tr style=\"text-align: right;\">\n      <th></th>\n      <th>id</th>\n      <th>male</th>\n      <th>age</th>\n      <th>econ_study</th>\n      <th>treatment</th>\n    </tr>\n  </thead>\n  <tbody>\n    <tr>\n      <th>0</th>\n      <td>0_1</td>\n      <td>1</td>\n      <td>24</td>\n      <td>0</td>\n      <td>1</td>\n    </tr>\n    <tr>\n      <th>1</th>\n      <td>1_1</td>\n      <td>1</td>\n      <td>24</td>\n      <td>0</td>\n      <td>1</td>\n    </tr>\n    <tr>\n      <th>2</th>\n      <td>2_1</td>\n      <td>0</td>\n      <td>22</td>\n      <td>1</td>\n      <td>1</td>\n    </tr>\n    <tr>\n      <th>3</th>\n      <td>3_1</td>\n      <td>1</td>\n      <td>23</td>\n      <td>1</td>\n      <td>1</td>\n    </tr>\n    <tr>\n      <th>4</th>\n      <td>4_1</td>\n      <td>1</td>\n      <td>19</td>\n      <td>1</td>\n      <td>1</td>\n    </tr>\n    <tr>\n      <th>5</th>\n      <td>5_1</td>\n      <td>0</td>\n      <td>19</td>\n      <td>1</td>\n      <td>1</td>\n    </tr>\n    <tr>\n      <th>6</th>\n      <td>6_1</td>\n      <td>0</td>\n      <td>21</td>\n      <td>0</td>\n      <td>1</td>\n    </tr>\n    <tr>\n      <th>7</th>\n      <td>7_1</td>\n      <td>1</td>\n      <td>20</td>\n      <td>0</td>\n      <td>1</td>\n    </tr>\n    <tr>\n      <th>8</th>\n      <td>8_1</td>\n      <td>0</td>\n      <td>26</td>\n      <td>1</td>\n      <td>1</td>\n    </tr>\n    <tr>\n      <th>9</th>\n      <td>9_1</td>\n      <td>1</td>\n      <td>20</td>\n      <td>0</td>\n      <td>1</td>\n    </tr>\n    <tr>\n      <th>10</th>\n      <td>10_1</td>\n      <td>1</td>\n      <td>23</td>\n      <td>0</td>\n      <td>1</td>\n    </tr>\n    <tr>\n      <th>11</th>\n      <td>11_1</td>\n      <td>0</td>\n      <td>20</td>\n      <td>1</td>\n      <td>1</td>\n    </tr>\n    <tr>\n      <th>12</th>\n      <td>12_1</td>\n      <td>0</td>\n      <td>19</td>\n      <td>1</td>\n      <td>1</td>\n    </tr>\n    <tr>\n      <th>13</th>\n      <td>13_1</td>\n      <td>0</td>\n      <td>22</td>\n      <td>1</td>\n      <td>1</td>\n    </tr>\n    <tr>\n      <th>14</th>\n      <td>14_1</td>\n      <td>1</td>\n      <td>24</td>\n      <td>1</td>\n      <td>1</td>\n    </tr>\n    <tr>\n      <th>15</th>\n      <td>15_1</td>\n      <td>0</td>\n      <td>19</td>\n      <td>1</td>\n      <td>1</td>\n    </tr>\n    <tr>\n      <th>16</th>\n      <td>16_1</td>\n      <td>1</td>\n      <td>25</td>\n      <td>1</td>\n      <td>1</td>\n    </tr>\n    <tr>\n      <th>17</th>\n      <td>17_1</td>\n      <td>1</td>\n      <td>23</td>\n      <td>1</td>\n      <td>1</td>\n    </tr>\n    <tr>\n      <th>18</th>\n      <td>18_1</td>\n      <td>1</td>\n      <td>23</td>\n      <td>1</td>\n      <td>1</td>\n    </tr>\n    <tr>\n      <th>19</th>\n      <td>19_1</td>\n      <td>1</td>\n      <td>25</td>\n      <td>0</td>\n      <td>1</td>\n    </tr>\n    <tr>\n      <th>20</th>\n      <td>20_1</td>\n      <td>1</td>\n      <td>20</td>\n      <td>1</td>\n      <td>1</td>\n    </tr>\n    <tr>\n      <th>21</th>\n      <td>21_1</td>\n      <td>0</td>\n      <td>25</td>\n      <td>0</td>\n      <td>1</td>\n    </tr>\n  </tbody>\n</table>\n</div>"
     },
     "execution_count": 70,
     "metadata": {},
     "output_type": "execute_result"
    }
   ],
   "source": [
    "df_treatment"
   ],
   "metadata": {
    "collapsed": false,
    "ExecuteTime": {
     "end_time": "2023-11-20T21:38:15.887057600Z",
     "start_time": "2023-11-20T21:38:15.840240400Z"
    }
   },
   "id": "5d5d6d8ee6b72612"
  },
  {
   "cell_type": "code",
   "execution_count": 71,
   "outputs": [],
   "source": [
    "from scipy.stats import zscore\n",
    "df_treatment['age'] = zscore(df_treatment['age'])\n",
    "df_control['age'] = zscore(df_control['age'])"
   ],
   "metadata": {
    "collapsed": false,
    "ExecuteTime": {
     "end_time": "2023-11-20T21:38:15.888082600Z",
     "start_time": "2023-11-20T21:38:15.872404800Z"
    }
   },
   "id": "dc9db88d25a01a44"
  },
  {
   "cell_type": "code",
   "execution_count": 72,
   "outputs": [],
   "source": [
    "df_control.to_csv(\"../data/data_processed/control_info.csv\")\n",
    "df_treatment.to_csv(\"../data/data_processed/treatment_info.csv\")"
   ],
   "metadata": {
    "collapsed": false,
    "ExecuteTime": {
     "end_time": "2023-11-20T21:38:15.929978800Z",
     "start_time": "2023-11-20T21:38:15.888082600Z"
    }
   },
   "id": "9f416d40cc43f0e4"
  },
  {
   "cell_type": "code",
   "execution_count": 73,
   "outputs": [],
   "source": [
    "pd.concat([df_control, df_treatment]).to_csv(\"../data/data_processed/data_info.csv\")"
   ],
   "metadata": {
    "collapsed": false,
    "ExecuteTime": {
     "end_time": "2023-11-20T21:38:15.966525600Z",
     "start_time": "2023-11-20T21:38:15.917569800Z"
    }
   },
   "id": "9046e0471953d9c5"
  }
 ],
 "metadata": {
  "kernelspec": {
   "display_name": "Python 3",
   "language": "python",
   "name": "python3"
  },
  "language_info": {
   "codemirror_mode": {
    "name": "ipython",
    "version": 2
   },
   "file_extension": ".py",
   "mimetype": "text/x-python",
   "name": "python",
   "nbconvert_exporter": "python",
   "pygments_lexer": "ipython2",
   "version": "2.7.6"
  }
 },
 "nbformat": 4,
 "nbformat_minor": 5
}
