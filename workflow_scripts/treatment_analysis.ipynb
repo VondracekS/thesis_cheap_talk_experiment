{
 "cells": [
  {
   "cell_type": "code",
   "execution_count": 3,
   "outputs": [],
   "source": [
    "import os\n",
    "import pandas as pd\n",
    "\n",
    "from util import DataWranglingUtils as dwu"
   ],
   "metadata": {
    "collapsed": false
   }
  },
  {
   "cell_type": "code",
   "execution_count": 4,
   "outputs": [
    {
     "name": "stdout",
     "output_type": "stream",
     "text": [
      "Loaded data: dict_keys(['treatment_actions_a', 'treatment_actions_b', 'treatment_pred_a', 'treatment_pred_b'])\n"
     ]
    }
   ],
   "source": [
    "data_processed = dwu.load_data('treatment')"
   ],
   "metadata": {
    "collapsed": false
   }
  },
  {
   "cell_type": "code",
   "execution_count": 5,
   "outputs": [
    {
     "name": "stdout",
     "output_type": "stream",
     "text": [
      "Loaded data: dict_keys(['treatment_actions_a', 'treatment_actions_b', 'treatment_pred_a', 'treatment_pred_b'])\n"
     ]
    },
    {
     "data": {
      "text/plain": "     id  p_choices_ca  cost  p_choices_cm  prediction_ca  prediction_cm\n0     0             1    10             1              1              1\n1     0             1    30             1              1              2\n2     0             2    50             2              2              2\n3     0             2    70             2              2              2\n4     0             2    90             2              2              2\n..   ..           ...   ...           ...            ...            ...\n215  21             2   110             2              2              2\n216  21             2   130             2              2              2\n217  21             2   150             2              2              2\n218  21             2   170             2              2              2\n219  21             2   190             2              2              2\n\n[220 rows x 6 columns]",
      "text/html": "<div>\n<style scoped>\n    .dataframe tbody tr th:only-of-type {\n        vertical-align: middle;\n    }\n\n    .dataframe tbody tr th {\n        vertical-align: top;\n    }\n\n    .dataframe thead th {\n        text-align: right;\n    }\n</style>\n<table border=\"1\" class=\"dataframe\">\n  <thead>\n    <tr style=\"text-align: right;\">\n      <th></th>\n      <th>id</th>\n      <th>p_choices_ca</th>\n      <th>cost</th>\n      <th>p_choices_cm</th>\n      <th>prediction_ca</th>\n      <th>prediction_cm</th>\n    </tr>\n  </thead>\n  <tbody>\n    <tr>\n      <th>0</th>\n      <td>0</td>\n      <td>1</td>\n      <td>10</td>\n      <td>1</td>\n      <td>1</td>\n      <td>1</td>\n    </tr>\n    <tr>\n      <th>1</th>\n      <td>0</td>\n      <td>1</td>\n      <td>30</td>\n      <td>1</td>\n      <td>1</td>\n      <td>2</td>\n    </tr>\n    <tr>\n      <th>2</th>\n      <td>0</td>\n      <td>2</td>\n      <td>50</td>\n      <td>2</td>\n      <td>2</td>\n      <td>2</td>\n    </tr>\n    <tr>\n      <th>3</th>\n      <td>0</td>\n      <td>2</td>\n      <td>70</td>\n      <td>2</td>\n      <td>2</td>\n      <td>2</td>\n    </tr>\n    <tr>\n      <th>4</th>\n      <td>0</td>\n      <td>2</td>\n      <td>90</td>\n      <td>2</td>\n      <td>2</td>\n      <td>2</td>\n    </tr>\n    <tr>\n      <th>...</th>\n      <td>...</td>\n      <td>...</td>\n      <td>...</td>\n      <td>...</td>\n      <td>...</td>\n      <td>...</td>\n    </tr>\n    <tr>\n      <th>215</th>\n      <td>21</td>\n      <td>2</td>\n      <td>110</td>\n      <td>2</td>\n      <td>2</td>\n      <td>2</td>\n    </tr>\n    <tr>\n      <th>216</th>\n      <td>21</td>\n      <td>2</td>\n      <td>130</td>\n      <td>2</td>\n      <td>2</td>\n      <td>2</td>\n    </tr>\n    <tr>\n      <th>217</th>\n      <td>21</td>\n      <td>2</td>\n      <td>150</td>\n      <td>2</td>\n      <td>2</td>\n      <td>2</td>\n    </tr>\n    <tr>\n      <th>218</th>\n      <td>21</td>\n      <td>2</td>\n      <td>170</td>\n      <td>2</td>\n      <td>2</td>\n      <td>2</td>\n    </tr>\n    <tr>\n      <th>219</th>\n      <td>21</td>\n      <td>2</td>\n      <td>190</td>\n      <td>2</td>\n      <td>2</td>\n      <td>2</td>\n    </tr>\n  </tbody>\n</table>\n<p>220 rows × 6 columns</p>\n</div>"
     },
     "execution_count": 5,
     "metadata": {},
     "output_type": "execute_result"
    }
   ],
   "source": [
    "treatment_full_df = dwu.data_into_df(dwu.load_data('treatment'))\n",
    "treatment_full_df"
   ],
   "metadata": {
    "collapsed": false
   }
  },
  {
   "cell_type": "code",
   "execution_count": 6,
   "outputs": [
    {
     "data": {
      "text/plain": "     id  p_choices_ca  cost  p_choices_cm  prediction_ca  prediction_cm\n0     0             1    10             1              1              1\n1     0             1    30             1              1              2\n2     0             2    50             2              2              2\n3     0             2    70             2              2              2\n4     0             2    90             2              2              2\n..   ..           ...   ...           ...            ...            ...\n215  21             2   110             2              2              2\n216  21             2   130             2              2              2\n217  21             2   150             2              2              2\n218  21             2   170             2              2              2\n219  21             2   190             2              2              2\n\n[220 rows x 6 columns]",
      "text/html": "<div>\n<style scoped>\n    .dataframe tbody tr th:only-of-type {\n        vertical-align: middle;\n    }\n\n    .dataframe tbody tr th {\n        vertical-align: top;\n    }\n\n    .dataframe thead th {\n        text-align: right;\n    }\n</style>\n<table border=\"1\" class=\"dataframe\">\n  <thead>\n    <tr style=\"text-align: right;\">\n      <th></th>\n      <th>id</th>\n      <th>p_choices_ca</th>\n      <th>cost</th>\n      <th>p_choices_cm</th>\n      <th>prediction_ca</th>\n      <th>prediction_cm</th>\n    </tr>\n  </thead>\n  <tbody>\n    <tr>\n      <th>0</th>\n      <td>0</td>\n      <td>1</td>\n      <td>10</td>\n      <td>1</td>\n      <td>1</td>\n      <td>1</td>\n    </tr>\n    <tr>\n      <th>1</th>\n      <td>0</td>\n      <td>1</td>\n      <td>30</td>\n      <td>1</td>\n      <td>1</td>\n      <td>2</td>\n    </tr>\n    <tr>\n      <th>2</th>\n      <td>0</td>\n      <td>2</td>\n      <td>50</td>\n      <td>2</td>\n      <td>2</td>\n      <td>2</td>\n    </tr>\n    <tr>\n      <th>3</th>\n      <td>0</td>\n      <td>2</td>\n      <td>70</td>\n      <td>2</td>\n      <td>2</td>\n      <td>2</td>\n    </tr>\n    <tr>\n      <th>4</th>\n      <td>0</td>\n      <td>2</td>\n      <td>90</td>\n      <td>2</td>\n      <td>2</td>\n      <td>2</td>\n    </tr>\n    <tr>\n      <th>...</th>\n      <td>...</td>\n      <td>...</td>\n      <td>...</td>\n      <td>...</td>\n      <td>...</td>\n      <td>...</td>\n    </tr>\n    <tr>\n      <th>215</th>\n      <td>21</td>\n      <td>2</td>\n      <td>110</td>\n      <td>2</td>\n      <td>2</td>\n      <td>2</td>\n    </tr>\n    <tr>\n      <th>216</th>\n      <td>21</td>\n      <td>2</td>\n      <td>130</td>\n      <td>2</td>\n      <td>2</td>\n      <td>2</td>\n    </tr>\n    <tr>\n      <th>217</th>\n      <td>21</td>\n      <td>2</td>\n      <td>150</td>\n      <td>2</td>\n      <td>2</td>\n      <td>2</td>\n    </tr>\n    <tr>\n      <th>218</th>\n      <td>21</td>\n      <td>2</td>\n      <td>170</td>\n      <td>2</td>\n      <td>2</td>\n      <td>2</td>\n    </tr>\n    <tr>\n      <th>219</th>\n      <td>21</td>\n      <td>2</td>\n      <td>190</td>\n      <td>2</td>\n      <td>2</td>\n      <td>2</td>\n    </tr>\n  </tbody>\n</table>\n<p>220 rows × 6 columns</p>\n</div>"
     },
     "execution_count": 6,
     "metadata": {},
     "output_type": "execute_result"
    }
   ],
   "source": [
    "treatment_full_df"
   ],
   "metadata": {
    "collapsed": false
   }
  },
  {
   "cell_type": "code",
   "execution_count": 7,
   "outputs": [
    {
     "data": {
      "text/plain": "    id   p_choices_ca_cutoff p_choices_ca_player_type p_choices_cm_cutoff  \\\n0    0             [(30, 1)]                aggresive           [(30, 1)]   \n1    1             [(70, 1)]                aggresive           [(10, 1)]   \n2    2            [(130, 1)]                aggresive           [(50, 1)]   \n3    3             [(90, 1)]                aggresive           [(90, 1)]   \n4    4             [(90, 1)]                aggresive           [(70, 1)]   \n5    5            [(130, 1)]                aggresive           [(30, 1)]   \n6    6            [(130, 1)]                aggresive           [(10, 1)]   \n7    7            [(110, 1)]                aggresive           [(90, 1)]   \n8    8            [(130, 1)]                aggresive           [(70, 1)]   \n9    9            [(130, 1)]                aggresive           [(30, 1)]   \n10  10            [(110, 1)]                aggresive           [(50, 1)]   \n11  11             [(90, 1)]                aggresive                  []   \n12  12  [(130, 1), (170, 2)]               irrational           [(30, 1)]   \n13  13            [(130, 1)]                aggresive           [(50, 1)]   \n14  14                    []                   static                  []   \n15  15            [(130, 1)]                aggresive           [(50, 1)]   \n16  16            [(130, 1)]                aggresive           [(90, 1)]   \n17  17            [(130, 1)]                aggresive           [(90, 1)]   \n18  18                    []                   static                  []   \n19  19    [(10, 2), (90, 1)]               irrational                  []   \n20  20            [(130, 1)]                aggresive           [(50, 1)]   \n21  21             [(50, 1)]                aggresive                  []   \n\n   p_choices_cm_player_type           prediction_ca_cutoff  \\\n0                 aggresive                      [(30, 1)]   \n1                 aggresive  [(70, 1), (150, 2), (170, 1)]   \n2                 aggresive                     [(130, 1)]   \n3                 aggresive                      [(90, 1)]   \n4                 aggresive                     [(110, 1)]   \n5                 aggresive                     [(130, 1)]   \n6                 aggresive                     [(130, 1)]   \n7                 aggresive                     [(130, 1)]   \n8                 aggresive                     [(150, 1)]   \n9                 aggresive                     [(130, 1)]   \n10                aggresive                     [(110, 1)]   \n11                   static             [(10, 2), (90, 1)]   \n12                aggresive            [(10, 2), (130, 1)]   \n13                aggresive                     [(130, 1)]   \n14                   static                             []   \n15                aggresive                     [(130, 1)]   \n16                aggresive   [(70, 1), (90, 2), (130, 1)]   \n17                aggresive                     [(130, 1)]   \n18                   static                             []   \n19                   static    [(50, 1), (70, 2), (90, 1)]   \n20                aggresive                     [(130, 1)]   \n21                   static                      [(50, 1)]   \n\n   prediction_ca_player_type                             prediction_cm_cutoff  \\\n0                  aggresive                                        [(10, 1)]   \n1                 irrational                               [(10, 2), (50, 1)]   \n2                  aggresive                                       [(130, 1)]   \n3                  aggresive                                       [(130, 1)]   \n4                  aggresive                                        [(90, 1)]   \n5                  aggresive                                       [(130, 1)]   \n6                  aggresive                     [(30, 1), (50, 2), (170, 1)]   \n7                  aggresive                                       [(130, 1)]   \n8                  aggresive                                       [(130, 1)]   \n9                  aggresive                              [(10, 2), (130, 1)]   \n10                 aggresive                                       [(130, 1)]   \n11                irrational                     [(50, 1), (70, 2), (130, 1)]   \n12                irrational  [(30, 1), (50, 2), (90, 1), (110, 2), (130, 1)]   \n13                 aggresive                                       [(150, 1)]   \n14                    static                               [(10, 2), (30, 1)]   \n15                 aggresive                                       [(130, 1)]   \n16                irrational                     [(50, 1), (90, 2), (110, 1)]   \n17                 aggresive                                        [(90, 1)]   \n18                    static                                        [(50, 1)]   \n19                irrational                              [(50, 2), (150, 1)]   \n20                 aggresive                                        [(50, 1)]   \n21                 aggresive                                               []   \n\n   prediction_cm_player_type  \n0                  aggresive  \n1                 irrational  \n2                  aggresive  \n3                  aggresive  \n4                  aggresive  \n5                  aggresive  \n6                 irrational  \n7                  aggresive  \n8                  aggresive  \n9                 irrational  \n10                 aggresive  \n11                irrational  \n12                irrational  \n13                 aggresive  \n14                irrational  \n15                 aggresive  \n16                irrational  \n17                 aggresive  \n18                 aggresive  \n19                irrational  \n20                 aggresive  \n21                    static  ",
      "text/html": "<div>\n<style scoped>\n    .dataframe tbody tr th:only-of-type {\n        vertical-align: middle;\n    }\n\n    .dataframe tbody tr th {\n        vertical-align: top;\n    }\n\n    .dataframe thead th {\n        text-align: right;\n    }\n</style>\n<table border=\"1\" class=\"dataframe\">\n  <thead>\n    <tr style=\"text-align: right;\">\n      <th></th>\n      <th>id</th>\n      <th>p_choices_ca_cutoff</th>\n      <th>p_choices_ca_player_type</th>\n      <th>p_choices_cm_cutoff</th>\n      <th>p_choices_cm_player_type</th>\n      <th>prediction_ca_cutoff</th>\n      <th>prediction_ca_player_type</th>\n      <th>prediction_cm_cutoff</th>\n      <th>prediction_cm_player_type</th>\n    </tr>\n  </thead>\n  <tbody>\n    <tr>\n      <th>0</th>\n      <td>0</td>\n      <td>[(30, 1)]</td>\n      <td>aggresive</td>\n      <td>[(30, 1)]</td>\n      <td>aggresive</td>\n      <td>[(30, 1)]</td>\n      <td>aggresive</td>\n      <td>[(10, 1)]</td>\n      <td>aggresive</td>\n    </tr>\n    <tr>\n      <th>1</th>\n      <td>1</td>\n      <td>[(70, 1)]</td>\n      <td>aggresive</td>\n      <td>[(10, 1)]</td>\n      <td>aggresive</td>\n      <td>[(70, 1), (150, 2), (170, 1)]</td>\n      <td>irrational</td>\n      <td>[(10, 2), (50, 1)]</td>\n      <td>irrational</td>\n    </tr>\n    <tr>\n      <th>2</th>\n      <td>2</td>\n      <td>[(130, 1)]</td>\n      <td>aggresive</td>\n      <td>[(50, 1)]</td>\n      <td>aggresive</td>\n      <td>[(130, 1)]</td>\n      <td>aggresive</td>\n      <td>[(130, 1)]</td>\n      <td>aggresive</td>\n    </tr>\n    <tr>\n      <th>3</th>\n      <td>3</td>\n      <td>[(90, 1)]</td>\n      <td>aggresive</td>\n      <td>[(90, 1)]</td>\n      <td>aggresive</td>\n      <td>[(90, 1)]</td>\n      <td>aggresive</td>\n      <td>[(130, 1)]</td>\n      <td>aggresive</td>\n    </tr>\n    <tr>\n      <th>4</th>\n      <td>4</td>\n      <td>[(90, 1)]</td>\n      <td>aggresive</td>\n      <td>[(70, 1)]</td>\n      <td>aggresive</td>\n      <td>[(110, 1)]</td>\n      <td>aggresive</td>\n      <td>[(90, 1)]</td>\n      <td>aggresive</td>\n    </tr>\n    <tr>\n      <th>5</th>\n      <td>5</td>\n      <td>[(130, 1)]</td>\n      <td>aggresive</td>\n      <td>[(30, 1)]</td>\n      <td>aggresive</td>\n      <td>[(130, 1)]</td>\n      <td>aggresive</td>\n      <td>[(130, 1)]</td>\n      <td>aggresive</td>\n    </tr>\n    <tr>\n      <th>6</th>\n      <td>6</td>\n      <td>[(130, 1)]</td>\n      <td>aggresive</td>\n      <td>[(10, 1)]</td>\n      <td>aggresive</td>\n      <td>[(130, 1)]</td>\n      <td>aggresive</td>\n      <td>[(30, 1), (50, 2), (170, 1)]</td>\n      <td>irrational</td>\n    </tr>\n    <tr>\n      <th>7</th>\n      <td>7</td>\n      <td>[(110, 1)]</td>\n      <td>aggresive</td>\n      <td>[(90, 1)]</td>\n      <td>aggresive</td>\n      <td>[(130, 1)]</td>\n      <td>aggresive</td>\n      <td>[(130, 1)]</td>\n      <td>aggresive</td>\n    </tr>\n    <tr>\n      <th>8</th>\n      <td>8</td>\n      <td>[(130, 1)]</td>\n      <td>aggresive</td>\n      <td>[(70, 1)]</td>\n      <td>aggresive</td>\n      <td>[(150, 1)]</td>\n      <td>aggresive</td>\n      <td>[(130, 1)]</td>\n      <td>aggresive</td>\n    </tr>\n    <tr>\n      <th>9</th>\n      <td>9</td>\n      <td>[(130, 1)]</td>\n      <td>aggresive</td>\n      <td>[(30, 1)]</td>\n      <td>aggresive</td>\n      <td>[(130, 1)]</td>\n      <td>aggresive</td>\n      <td>[(10, 2), (130, 1)]</td>\n      <td>irrational</td>\n    </tr>\n    <tr>\n      <th>10</th>\n      <td>10</td>\n      <td>[(110, 1)]</td>\n      <td>aggresive</td>\n      <td>[(50, 1)]</td>\n      <td>aggresive</td>\n      <td>[(110, 1)]</td>\n      <td>aggresive</td>\n      <td>[(130, 1)]</td>\n      <td>aggresive</td>\n    </tr>\n    <tr>\n      <th>11</th>\n      <td>11</td>\n      <td>[(90, 1)]</td>\n      <td>aggresive</td>\n      <td>[]</td>\n      <td>static</td>\n      <td>[(10, 2), (90, 1)]</td>\n      <td>irrational</td>\n      <td>[(50, 1), (70, 2), (130, 1)]</td>\n      <td>irrational</td>\n    </tr>\n    <tr>\n      <th>12</th>\n      <td>12</td>\n      <td>[(130, 1), (170, 2)]</td>\n      <td>irrational</td>\n      <td>[(30, 1)]</td>\n      <td>aggresive</td>\n      <td>[(10, 2), (130, 1)]</td>\n      <td>irrational</td>\n      <td>[(30, 1), (50, 2), (90, 1), (110, 2), (130, 1)]</td>\n      <td>irrational</td>\n    </tr>\n    <tr>\n      <th>13</th>\n      <td>13</td>\n      <td>[(130, 1)]</td>\n      <td>aggresive</td>\n      <td>[(50, 1)]</td>\n      <td>aggresive</td>\n      <td>[(130, 1)]</td>\n      <td>aggresive</td>\n      <td>[(150, 1)]</td>\n      <td>aggresive</td>\n    </tr>\n    <tr>\n      <th>14</th>\n      <td>14</td>\n      <td>[]</td>\n      <td>static</td>\n      <td>[]</td>\n      <td>static</td>\n      <td>[]</td>\n      <td>static</td>\n      <td>[(10, 2), (30, 1)]</td>\n      <td>irrational</td>\n    </tr>\n    <tr>\n      <th>15</th>\n      <td>15</td>\n      <td>[(130, 1)]</td>\n      <td>aggresive</td>\n      <td>[(50, 1)]</td>\n      <td>aggresive</td>\n      <td>[(130, 1)]</td>\n      <td>aggresive</td>\n      <td>[(130, 1)]</td>\n      <td>aggresive</td>\n    </tr>\n    <tr>\n      <th>16</th>\n      <td>16</td>\n      <td>[(130, 1)]</td>\n      <td>aggresive</td>\n      <td>[(90, 1)]</td>\n      <td>aggresive</td>\n      <td>[(70, 1), (90, 2), (130, 1)]</td>\n      <td>irrational</td>\n      <td>[(50, 1), (90, 2), (110, 1)]</td>\n      <td>irrational</td>\n    </tr>\n    <tr>\n      <th>17</th>\n      <td>17</td>\n      <td>[(130, 1)]</td>\n      <td>aggresive</td>\n      <td>[(90, 1)]</td>\n      <td>aggresive</td>\n      <td>[(130, 1)]</td>\n      <td>aggresive</td>\n      <td>[(90, 1)]</td>\n      <td>aggresive</td>\n    </tr>\n    <tr>\n      <th>18</th>\n      <td>18</td>\n      <td>[]</td>\n      <td>static</td>\n      <td>[]</td>\n      <td>static</td>\n      <td>[]</td>\n      <td>static</td>\n      <td>[(50, 1)]</td>\n      <td>aggresive</td>\n    </tr>\n    <tr>\n      <th>19</th>\n      <td>19</td>\n      <td>[(10, 2), (90, 1)]</td>\n      <td>irrational</td>\n      <td>[]</td>\n      <td>static</td>\n      <td>[(50, 1), (70, 2), (90, 1)]</td>\n      <td>irrational</td>\n      <td>[(50, 2), (150, 1)]</td>\n      <td>irrational</td>\n    </tr>\n    <tr>\n      <th>20</th>\n      <td>20</td>\n      <td>[(130, 1)]</td>\n      <td>aggresive</td>\n      <td>[(50, 1)]</td>\n      <td>aggresive</td>\n      <td>[(130, 1)]</td>\n      <td>aggresive</td>\n      <td>[(50, 1)]</td>\n      <td>aggresive</td>\n    </tr>\n    <tr>\n      <th>21</th>\n      <td>21</td>\n      <td>[(50, 1)]</td>\n      <td>aggresive</td>\n      <td>[]</td>\n      <td>static</td>\n      <td>[(50, 1)]</td>\n      <td>aggresive</td>\n      <td>[]</td>\n      <td>static</td>\n    </tr>\n  </tbody>\n</table>\n</div>"
     },
     "execution_count": 7,
     "metadata": {},
     "output_type": "execute_result"
    }
   ],
   "source": [
    "treatment_cutoff_df = dwu.get_all_cutoffs(treatment_full_df, ['p_choices_ca', 'p_choices_cm', 'prediction_ca', 'prediction_cm'])\n",
    "treatment_cutoff_df"
   ],
   "metadata": {
    "collapsed": false
   }
  },
  {
   "cell_type": "code",
   "execution_count": 8,
   "outputs": [],
   "source": [
    "treatment_cutoffs_full = dwu.get_first_cutoffs(treatment_cutoff_df, ['p_choices_ca_cutoff', 'p_choices_cm_cutoff', 'prediction_ca_cutoff', 'prediction_cm_cutoff'])"
   ],
   "metadata": {
    "collapsed": false
   }
  },
  {
   "cell_type": "code",
   "execution_count": 9,
   "outputs": [
    {
     "data": {
      "text/plain": "    id   p_choices_ca_cutoff p_choices_ca_player_type p_choices_cm_cutoff  \\\n0    0             [(30, 1)]                aggresive           [(30, 1)]   \n1    1             [(70, 1)]                aggresive           [(10, 1)]   \n2    2            [(130, 1)]                aggresive           [(50, 1)]   \n3    3             [(90, 1)]                aggresive           [(90, 1)]   \n4    4             [(90, 1)]                aggresive           [(70, 1)]   \n5    5            [(130, 1)]                aggresive           [(30, 1)]   \n6    6            [(130, 1)]                aggresive           [(10, 1)]   \n7    7            [(110, 1)]                aggresive           [(90, 1)]   \n8    8            [(130, 1)]                aggresive           [(70, 1)]   \n9    9            [(130, 1)]                aggresive           [(30, 1)]   \n10  10            [(110, 1)]                aggresive           [(50, 1)]   \n11  11             [(90, 1)]                aggresive                  []   \n12  12  [(130, 1), (170, 2)]               irrational           [(30, 1)]   \n13  13            [(130, 1)]                aggresive           [(50, 1)]   \n14  14                    []                   static                  []   \n15  15            [(130, 1)]                aggresive           [(50, 1)]   \n16  16            [(130, 1)]                aggresive           [(90, 1)]   \n17  17            [(130, 1)]                aggresive           [(90, 1)]   \n18  18                    []                   static                  []   \n19  19    [(10, 2), (90, 1)]               irrational                  []   \n20  20            [(130, 1)]                aggresive           [(50, 1)]   \n21  21             [(50, 1)]                aggresive                  []   \n\n   p_choices_cm_player_type           prediction_ca_cutoff  \\\n0                 aggresive                      [(30, 1)]   \n1                 aggresive  [(70, 1), (150, 2), (170, 1)]   \n2                 aggresive                     [(130, 1)]   \n3                 aggresive                      [(90, 1)]   \n4                 aggresive                     [(110, 1)]   \n5                 aggresive                     [(130, 1)]   \n6                 aggresive                     [(130, 1)]   \n7                 aggresive                     [(130, 1)]   \n8                 aggresive                     [(150, 1)]   \n9                 aggresive                     [(130, 1)]   \n10                aggresive                     [(110, 1)]   \n11                   static             [(10, 2), (90, 1)]   \n12                aggresive            [(10, 2), (130, 1)]   \n13                aggresive                     [(130, 1)]   \n14                   static                             []   \n15                aggresive                     [(130, 1)]   \n16                aggresive   [(70, 1), (90, 2), (130, 1)]   \n17                aggresive                     [(130, 1)]   \n18                   static                             []   \n19                   static    [(50, 1), (70, 2), (90, 1)]   \n20                aggresive                     [(130, 1)]   \n21                   static                      [(50, 1)]   \n\n   prediction_ca_player_type                             prediction_cm_cutoff  \\\n0                  aggresive                                        [(10, 1)]   \n1                 irrational                               [(10, 2), (50, 1)]   \n2                  aggresive                                       [(130, 1)]   \n3                  aggresive                                       [(130, 1)]   \n4                  aggresive                                        [(90, 1)]   \n5                  aggresive                                       [(130, 1)]   \n6                  aggresive                     [(30, 1), (50, 2), (170, 1)]   \n7                  aggresive                                       [(130, 1)]   \n8                  aggresive                                       [(130, 1)]   \n9                  aggresive                              [(10, 2), (130, 1)]   \n10                 aggresive                                       [(130, 1)]   \n11                irrational                     [(50, 1), (70, 2), (130, 1)]   \n12                irrational  [(30, 1), (50, 2), (90, 1), (110, 2), (130, 1)]   \n13                 aggresive                                       [(150, 1)]   \n14                    static                               [(10, 2), (30, 1)]   \n15                 aggresive                                       [(130, 1)]   \n16                irrational                     [(50, 1), (90, 2), (110, 1)]   \n17                 aggresive                                        [(90, 1)]   \n18                    static                                        [(50, 1)]   \n19                irrational                              [(50, 2), (150, 1)]   \n20                 aggresive                                        [(50, 1)]   \n21                 aggresive                                               []   \n\n   prediction_cm_player_type  p_choices_ca_cutoff_first  \\\n0                  aggresive                       30.0   \n1                 irrational                       70.0   \n2                  aggresive                      130.0   \n3                  aggresive                       90.0   \n4                  aggresive                       90.0   \n5                  aggresive                      130.0   \n6                 irrational                      130.0   \n7                  aggresive                      110.0   \n8                  aggresive                      130.0   \n9                 irrational                      130.0   \n10                 aggresive                      110.0   \n11                irrational                       90.0   \n12                irrational                      130.0   \n13                 aggresive                      130.0   \n14                irrational                        NaN   \n15                 aggresive                      130.0   \n16                irrational                      130.0   \n17                 aggresive                      130.0   \n18                 aggresive                        NaN   \n19                irrational                       10.0   \n20                 aggresive                      130.0   \n21                    static                       50.0   \n\n    p_choices_cm_cutoff_first  prediction_ca_cutoff_first  \\\n0                        30.0                        30.0   \n1                        10.0                        70.0   \n2                        50.0                       130.0   \n3                        90.0                        90.0   \n4                        70.0                       110.0   \n5                        30.0                       130.0   \n6                        10.0                       130.0   \n7                        90.0                       130.0   \n8                        70.0                       150.0   \n9                        30.0                       130.0   \n10                       50.0                       110.0   \n11                        NaN                        10.0   \n12                       30.0                        10.0   \n13                       50.0                       130.0   \n14                        NaN                         NaN   \n15                       50.0                       130.0   \n16                       90.0                        70.0   \n17                       90.0                       130.0   \n18                        NaN                         NaN   \n19                        NaN                        50.0   \n20                       50.0                       130.0   \n21                        NaN                        50.0   \n\n    prediction_cm_cutoff_first  \n0                         10.0  \n1                         10.0  \n2                        130.0  \n3                        130.0  \n4                         90.0  \n5                        130.0  \n6                         30.0  \n7                        130.0  \n8                        130.0  \n9                         10.0  \n10                       130.0  \n11                        50.0  \n12                        30.0  \n13                       150.0  \n14                        10.0  \n15                       130.0  \n16                        50.0  \n17                        90.0  \n18                        50.0  \n19                        50.0  \n20                        50.0  \n21                         NaN  ",
      "text/html": "<div>\n<style scoped>\n    .dataframe tbody tr th:only-of-type {\n        vertical-align: middle;\n    }\n\n    .dataframe tbody tr th {\n        vertical-align: top;\n    }\n\n    .dataframe thead th {\n        text-align: right;\n    }\n</style>\n<table border=\"1\" class=\"dataframe\">\n  <thead>\n    <tr style=\"text-align: right;\">\n      <th></th>\n      <th>id</th>\n      <th>p_choices_ca_cutoff</th>\n      <th>p_choices_ca_player_type</th>\n      <th>p_choices_cm_cutoff</th>\n      <th>p_choices_cm_player_type</th>\n      <th>prediction_ca_cutoff</th>\n      <th>prediction_ca_player_type</th>\n      <th>prediction_cm_cutoff</th>\n      <th>prediction_cm_player_type</th>\n      <th>p_choices_ca_cutoff_first</th>\n      <th>p_choices_cm_cutoff_first</th>\n      <th>prediction_ca_cutoff_first</th>\n      <th>prediction_cm_cutoff_first</th>\n    </tr>\n  </thead>\n  <tbody>\n    <tr>\n      <th>0</th>\n      <td>0</td>\n      <td>[(30, 1)]</td>\n      <td>aggresive</td>\n      <td>[(30, 1)]</td>\n      <td>aggresive</td>\n      <td>[(30, 1)]</td>\n      <td>aggresive</td>\n      <td>[(10, 1)]</td>\n      <td>aggresive</td>\n      <td>30.0</td>\n      <td>30.0</td>\n      <td>30.0</td>\n      <td>10.0</td>\n    </tr>\n    <tr>\n      <th>1</th>\n      <td>1</td>\n      <td>[(70, 1)]</td>\n      <td>aggresive</td>\n      <td>[(10, 1)]</td>\n      <td>aggresive</td>\n      <td>[(70, 1), (150, 2), (170, 1)]</td>\n      <td>irrational</td>\n      <td>[(10, 2), (50, 1)]</td>\n      <td>irrational</td>\n      <td>70.0</td>\n      <td>10.0</td>\n      <td>70.0</td>\n      <td>10.0</td>\n    </tr>\n    <tr>\n      <th>2</th>\n      <td>2</td>\n      <td>[(130, 1)]</td>\n      <td>aggresive</td>\n      <td>[(50, 1)]</td>\n      <td>aggresive</td>\n      <td>[(130, 1)]</td>\n      <td>aggresive</td>\n      <td>[(130, 1)]</td>\n      <td>aggresive</td>\n      <td>130.0</td>\n      <td>50.0</td>\n      <td>130.0</td>\n      <td>130.0</td>\n    </tr>\n    <tr>\n      <th>3</th>\n      <td>3</td>\n      <td>[(90, 1)]</td>\n      <td>aggresive</td>\n      <td>[(90, 1)]</td>\n      <td>aggresive</td>\n      <td>[(90, 1)]</td>\n      <td>aggresive</td>\n      <td>[(130, 1)]</td>\n      <td>aggresive</td>\n      <td>90.0</td>\n      <td>90.0</td>\n      <td>90.0</td>\n      <td>130.0</td>\n    </tr>\n    <tr>\n      <th>4</th>\n      <td>4</td>\n      <td>[(90, 1)]</td>\n      <td>aggresive</td>\n      <td>[(70, 1)]</td>\n      <td>aggresive</td>\n      <td>[(110, 1)]</td>\n      <td>aggresive</td>\n      <td>[(90, 1)]</td>\n      <td>aggresive</td>\n      <td>90.0</td>\n      <td>70.0</td>\n      <td>110.0</td>\n      <td>90.0</td>\n    </tr>\n    <tr>\n      <th>5</th>\n      <td>5</td>\n      <td>[(130, 1)]</td>\n      <td>aggresive</td>\n      <td>[(30, 1)]</td>\n      <td>aggresive</td>\n      <td>[(130, 1)]</td>\n      <td>aggresive</td>\n      <td>[(130, 1)]</td>\n      <td>aggresive</td>\n      <td>130.0</td>\n      <td>30.0</td>\n      <td>130.0</td>\n      <td>130.0</td>\n    </tr>\n    <tr>\n      <th>6</th>\n      <td>6</td>\n      <td>[(130, 1)]</td>\n      <td>aggresive</td>\n      <td>[(10, 1)]</td>\n      <td>aggresive</td>\n      <td>[(130, 1)]</td>\n      <td>aggresive</td>\n      <td>[(30, 1), (50, 2), (170, 1)]</td>\n      <td>irrational</td>\n      <td>130.0</td>\n      <td>10.0</td>\n      <td>130.0</td>\n      <td>30.0</td>\n    </tr>\n    <tr>\n      <th>7</th>\n      <td>7</td>\n      <td>[(110, 1)]</td>\n      <td>aggresive</td>\n      <td>[(90, 1)]</td>\n      <td>aggresive</td>\n      <td>[(130, 1)]</td>\n      <td>aggresive</td>\n      <td>[(130, 1)]</td>\n      <td>aggresive</td>\n      <td>110.0</td>\n      <td>90.0</td>\n      <td>130.0</td>\n      <td>130.0</td>\n    </tr>\n    <tr>\n      <th>8</th>\n      <td>8</td>\n      <td>[(130, 1)]</td>\n      <td>aggresive</td>\n      <td>[(70, 1)]</td>\n      <td>aggresive</td>\n      <td>[(150, 1)]</td>\n      <td>aggresive</td>\n      <td>[(130, 1)]</td>\n      <td>aggresive</td>\n      <td>130.0</td>\n      <td>70.0</td>\n      <td>150.0</td>\n      <td>130.0</td>\n    </tr>\n    <tr>\n      <th>9</th>\n      <td>9</td>\n      <td>[(130, 1)]</td>\n      <td>aggresive</td>\n      <td>[(30, 1)]</td>\n      <td>aggresive</td>\n      <td>[(130, 1)]</td>\n      <td>aggresive</td>\n      <td>[(10, 2), (130, 1)]</td>\n      <td>irrational</td>\n      <td>130.0</td>\n      <td>30.0</td>\n      <td>130.0</td>\n      <td>10.0</td>\n    </tr>\n    <tr>\n      <th>10</th>\n      <td>10</td>\n      <td>[(110, 1)]</td>\n      <td>aggresive</td>\n      <td>[(50, 1)]</td>\n      <td>aggresive</td>\n      <td>[(110, 1)]</td>\n      <td>aggresive</td>\n      <td>[(130, 1)]</td>\n      <td>aggresive</td>\n      <td>110.0</td>\n      <td>50.0</td>\n      <td>110.0</td>\n      <td>130.0</td>\n    </tr>\n    <tr>\n      <th>11</th>\n      <td>11</td>\n      <td>[(90, 1)]</td>\n      <td>aggresive</td>\n      <td>[]</td>\n      <td>static</td>\n      <td>[(10, 2), (90, 1)]</td>\n      <td>irrational</td>\n      <td>[(50, 1), (70, 2), (130, 1)]</td>\n      <td>irrational</td>\n      <td>90.0</td>\n      <td>NaN</td>\n      <td>10.0</td>\n      <td>50.0</td>\n    </tr>\n    <tr>\n      <th>12</th>\n      <td>12</td>\n      <td>[(130, 1), (170, 2)]</td>\n      <td>irrational</td>\n      <td>[(30, 1)]</td>\n      <td>aggresive</td>\n      <td>[(10, 2), (130, 1)]</td>\n      <td>irrational</td>\n      <td>[(30, 1), (50, 2), (90, 1), (110, 2), (130, 1)]</td>\n      <td>irrational</td>\n      <td>130.0</td>\n      <td>30.0</td>\n      <td>10.0</td>\n      <td>30.0</td>\n    </tr>\n    <tr>\n      <th>13</th>\n      <td>13</td>\n      <td>[(130, 1)]</td>\n      <td>aggresive</td>\n      <td>[(50, 1)]</td>\n      <td>aggresive</td>\n      <td>[(130, 1)]</td>\n      <td>aggresive</td>\n      <td>[(150, 1)]</td>\n      <td>aggresive</td>\n      <td>130.0</td>\n      <td>50.0</td>\n      <td>130.0</td>\n      <td>150.0</td>\n    </tr>\n    <tr>\n      <th>14</th>\n      <td>14</td>\n      <td>[]</td>\n      <td>static</td>\n      <td>[]</td>\n      <td>static</td>\n      <td>[]</td>\n      <td>static</td>\n      <td>[(10, 2), (30, 1)]</td>\n      <td>irrational</td>\n      <td>NaN</td>\n      <td>NaN</td>\n      <td>NaN</td>\n      <td>10.0</td>\n    </tr>\n    <tr>\n      <th>15</th>\n      <td>15</td>\n      <td>[(130, 1)]</td>\n      <td>aggresive</td>\n      <td>[(50, 1)]</td>\n      <td>aggresive</td>\n      <td>[(130, 1)]</td>\n      <td>aggresive</td>\n      <td>[(130, 1)]</td>\n      <td>aggresive</td>\n      <td>130.0</td>\n      <td>50.0</td>\n      <td>130.0</td>\n      <td>130.0</td>\n    </tr>\n    <tr>\n      <th>16</th>\n      <td>16</td>\n      <td>[(130, 1)]</td>\n      <td>aggresive</td>\n      <td>[(90, 1)]</td>\n      <td>aggresive</td>\n      <td>[(70, 1), (90, 2), (130, 1)]</td>\n      <td>irrational</td>\n      <td>[(50, 1), (90, 2), (110, 1)]</td>\n      <td>irrational</td>\n      <td>130.0</td>\n      <td>90.0</td>\n      <td>70.0</td>\n      <td>50.0</td>\n    </tr>\n    <tr>\n      <th>17</th>\n      <td>17</td>\n      <td>[(130, 1)]</td>\n      <td>aggresive</td>\n      <td>[(90, 1)]</td>\n      <td>aggresive</td>\n      <td>[(130, 1)]</td>\n      <td>aggresive</td>\n      <td>[(90, 1)]</td>\n      <td>aggresive</td>\n      <td>130.0</td>\n      <td>90.0</td>\n      <td>130.0</td>\n      <td>90.0</td>\n    </tr>\n    <tr>\n      <th>18</th>\n      <td>18</td>\n      <td>[]</td>\n      <td>static</td>\n      <td>[]</td>\n      <td>static</td>\n      <td>[]</td>\n      <td>static</td>\n      <td>[(50, 1)]</td>\n      <td>aggresive</td>\n      <td>NaN</td>\n      <td>NaN</td>\n      <td>NaN</td>\n      <td>50.0</td>\n    </tr>\n    <tr>\n      <th>19</th>\n      <td>19</td>\n      <td>[(10, 2), (90, 1)]</td>\n      <td>irrational</td>\n      <td>[]</td>\n      <td>static</td>\n      <td>[(50, 1), (70, 2), (90, 1)]</td>\n      <td>irrational</td>\n      <td>[(50, 2), (150, 1)]</td>\n      <td>irrational</td>\n      <td>10.0</td>\n      <td>NaN</td>\n      <td>50.0</td>\n      <td>50.0</td>\n    </tr>\n    <tr>\n      <th>20</th>\n      <td>20</td>\n      <td>[(130, 1)]</td>\n      <td>aggresive</td>\n      <td>[(50, 1)]</td>\n      <td>aggresive</td>\n      <td>[(130, 1)]</td>\n      <td>aggresive</td>\n      <td>[(50, 1)]</td>\n      <td>aggresive</td>\n      <td>130.0</td>\n      <td>50.0</td>\n      <td>130.0</td>\n      <td>50.0</td>\n    </tr>\n    <tr>\n      <th>21</th>\n      <td>21</td>\n      <td>[(50, 1)]</td>\n      <td>aggresive</td>\n      <td>[]</td>\n      <td>static</td>\n      <td>[(50, 1)]</td>\n      <td>aggresive</td>\n      <td>[]</td>\n      <td>static</td>\n      <td>50.0</td>\n      <td>NaN</td>\n      <td>50.0</td>\n      <td>NaN</td>\n    </tr>\n  </tbody>\n</table>\n</div>"
     },
     "execution_count": 9,
     "metadata": {},
     "output_type": "execute_result"
    }
   ],
   "source": [
    "treatment_cutoffs_full"
   ],
   "metadata": {
    "collapsed": false
   }
  },
  {
   "cell_type": "code",
   "execution_count": 10,
   "outputs": [
    {
     "data": {
      "text/plain": "  p_choices_ca_player_type p_choices_cm_player_type prediction_ca_player_type  \\\n0                aggresive                aggresive                 aggresive   \n1                aggresive                aggresive                 aggresive   \n2                aggresive                aggresive                irrational   \n3                aggresive                   static                 aggresive   \n4                aggresive                   static                irrational   \n5               irrational                aggresive                irrational   \n6               irrational                   static                irrational   \n7                   static                   static                    static   \n8                   static                   static                    static   \n\n  prediction_cm_player_type  combination_count  \n0                 aggresive                 12  \n1                irrational                  2  \n2                irrational                  2  \n3                    static                  1  \n4                irrational                  1  \n5                irrational                  1  \n6                irrational                  1  \n7                 aggresive                  1  \n8                irrational                  1  ",
      "text/html": "<div>\n<style scoped>\n    .dataframe tbody tr th:only-of-type {\n        vertical-align: middle;\n    }\n\n    .dataframe tbody tr th {\n        vertical-align: top;\n    }\n\n    .dataframe thead th {\n        text-align: right;\n    }\n</style>\n<table border=\"1\" class=\"dataframe\">\n  <thead>\n    <tr style=\"text-align: right;\">\n      <th></th>\n      <th>p_choices_ca_player_type</th>\n      <th>p_choices_cm_player_type</th>\n      <th>prediction_ca_player_type</th>\n      <th>prediction_cm_player_type</th>\n      <th>combination_count</th>\n    </tr>\n  </thead>\n  <tbody>\n    <tr>\n      <th>0</th>\n      <td>aggresive</td>\n      <td>aggresive</td>\n      <td>aggresive</td>\n      <td>aggresive</td>\n      <td>12</td>\n    </tr>\n    <tr>\n      <th>1</th>\n      <td>aggresive</td>\n      <td>aggresive</td>\n      <td>aggresive</td>\n      <td>irrational</td>\n      <td>2</td>\n    </tr>\n    <tr>\n      <th>2</th>\n      <td>aggresive</td>\n      <td>aggresive</td>\n      <td>irrational</td>\n      <td>irrational</td>\n      <td>2</td>\n    </tr>\n    <tr>\n      <th>3</th>\n      <td>aggresive</td>\n      <td>static</td>\n      <td>aggresive</td>\n      <td>static</td>\n      <td>1</td>\n    </tr>\n    <tr>\n      <th>4</th>\n      <td>aggresive</td>\n      <td>static</td>\n      <td>irrational</td>\n      <td>irrational</td>\n      <td>1</td>\n    </tr>\n    <tr>\n      <th>5</th>\n      <td>irrational</td>\n      <td>aggresive</td>\n      <td>irrational</td>\n      <td>irrational</td>\n      <td>1</td>\n    </tr>\n    <tr>\n      <th>6</th>\n      <td>irrational</td>\n      <td>static</td>\n      <td>irrational</td>\n      <td>irrational</td>\n      <td>1</td>\n    </tr>\n    <tr>\n      <th>7</th>\n      <td>static</td>\n      <td>static</td>\n      <td>static</td>\n      <td>aggresive</td>\n      <td>1</td>\n    </tr>\n    <tr>\n      <th>8</th>\n      <td>static</td>\n      <td>static</td>\n      <td>static</td>\n      <td>irrational</td>\n      <td>1</td>\n    </tr>\n  </tbody>\n</table>\n</div>"
     },
     "execution_count": 10,
     "metadata": {},
     "output_type": "execute_result"
    }
   ],
   "source": [
    "dwu.get_combination_count(treatment_cutoffs_full, ['p_choices_ca_player_type', 'p_choices_cm_player_type', 'prediction_ca_player_type', 'prediction_cm_player_type'])"
   ],
   "metadata": {
    "collapsed": false
   }
  },
  {
   "cell_type": "code",
   "execution_count": 11,
   "outputs": [],
   "source": [
    "# # 2 Analysing the Treatment data set\n",
    "# import statsmodels.api as sm\n",
    "# import os\n",
    "#\n",
    "# os.getcwd()\n",
    "# import os\n",
    "#\n",
    "# treatment_dfs = {}\n",
    "# for element in os.listdir(\"../data/data_processed\"):\n",
    "#     if \"treatment\" in element or \"control\" in element:\n",
    "#         treatment_dfs[element.split(\".\")[0]] = pd.read_csv(f\"../data/data_processed/{element}\").drop(\n",
    "#             'Unnamed: 0', axis=1)\n",
    "# treatment_dfs.keys()\n",
    "# cutoffs_t = {}\n",
    "# for k, v in treatment_dfs.items():\n",
    "#     vals_col = v.columns.drop(['id', 'cost'])[0]\n",
    "#     cutoffs_t[k] = get_cutoff(v['cost'], v[vals_col], v['id'])\n",
    "#\n",
    "#\n",
    "# def load_data_csv(path=\"../data/data_processed\", data_type=\"control\"):\n",
    "#     df_dict = {}\n",
    "#     for element in os.listdir(path):\n",
    "#         if data_type in element:\n",
    "#             df_dict[element.split(\".\")[0]] = pd.read_csv(f\"../data/data_processed/{element}\").drop(\n",
    "#                 'Unnamed: 0', axis=1)\n",
    "#     return df_dict\n",
    "#\n",
    "#\n",
    "# def map_cutoffs(df_dict):\n",
    "#     cutoffs_t = {}\n",
    "#     for k, v in df_dict.items():\n",
    "#         vals_col = v.columns.drop(['id', 'cost'])[0]\n",
    "#         cutoffs_t[k] = get_cutoff(v['cost'], v[vals_col], v['id'])\n",
    "#     return cutoffs_t\n",
    "#\n",
    "#\n",
    "# def join_from_dict(df_dict, regex_filter=\"^.*\"):\n",
    "#     df_out = pd.DataFrame(df_dict[sorted(df_dict)[0]])\n",
    "#     k_joined = [sorted(df_dict)[0]]\n",
    "#     for k, v in df_dict.items():\n",
    "#         if k not in k_joined:\n",
    "#             df_out = df_out.merge(v, on='id', suffixes=(\"\", f\"_{k}\"), how=\"outer\")\n",
    "#             k_joined.append(k)\n",
    "#     return df_out.filter(regex=regex_filter, axis=1).sort_values('id')\n",
    "#\n",
    "#\n",
    "# control = join_from_dict(map_cutoffs(load_data_csv()), regex_filter=\"id|cutoff\")\n",
    "# treatment = join_from_dict(map_cutoffs(load_data_csv(data_type=\"treatment\")), regex_filter=\"id|cutoff\")\n",
    "# control['tretment'] = 0\n",
    "# treatment['tretment'] = 1\n",
    "# pd.concat([control, treatment], axis=1)\n",
    "# treatment_dfs\n",
    "# treatment\n",
    "# t_cutoffs = join_from_dict(cutoffs_t, regex_filter=\"id|cutoff\")\n",
    "# t_cutoffs\n",
    "# t_cutoffs.describe()\n",
    "# import plotly.express as px\n",
    "#\n",
    "# data_plot = pd.melt(t_cutoffs, id_vars=['id']).sort_values('id')\n",
    "#\n",
    "# px.line(data_plot, x='variable', y='value', color='id')\n",
    "# # Regression Models\n",
    "# control = load_data_csv()\n",
    "# control\n",
    "# a = map_cutoffs(control)['control_pred']\n"
   ],
   "metadata": {
    "collapsed": false
   }
  }
 ],
 "metadata": {
  "kernelspec": {
   "display_name": "Python 3",
   "language": "python",
   "name": "python3"
  },
  "language_info": {
   "codemirror_mode": {
    "name": "ipython",
    "version": 2
   },
   "file_extension": ".py",
   "mimetype": "text/x-python",
   "name": "python",
   "nbconvert_exporter": "python",
   "pygments_lexer": "ipython2",
   "version": "2.7.6"
  }
 },
 "nbformat": 4,
 "nbformat_minor": 0
}
