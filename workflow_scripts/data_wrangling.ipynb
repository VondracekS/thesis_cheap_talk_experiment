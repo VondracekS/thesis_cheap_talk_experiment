{
 "cells": [
  {
   "cell_type": "markdown",
   "source": [
    "# 1 Preparing the Original Data"
   ],
   "metadata": {
    "collapsed": false
   }
  },
  {
   "cell_type": "code",
   "execution_count": 102,
   "outputs": [],
   "source": [
    "import numpy as np\n",
    "import pandas as pd"
   ],
   "metadata": {
    "collapsed": false,
    "ExecuteTime": {
     "end_time": "2023-12-13T21:08:02.164114600Z",
     "start_time": "2023-12-13T21:08:01.530203800Z"
    }
   }
  },
  {
   "cell_type": "code",
   "execution_count": 103,
   "outputs": [],
   "source": [
    "data = {\n",
    "    'treatment': pd.read_csv(\"../data/data_original/s_01_trt.csv\"),\n",
    "    'control': pd.read_csv(\"../data/data_original/s_01_ctrl.csv\")\n",
    "}"
   ],
   "metadata": {
    "collapsed": false,
    "ExecuteTime": {
     "end_time": "2023-12-13T21:08:07.934337300Z",
     "start_time": "2023-12-13T21:08:01.543701400Z"
    }
   }
  },
  {
   "cell_type": "markdown",
   "source": [
    "## 1.1 Variables Inspection"
   ],
   "metadata": {
    "collapsed": false
   }
  },
  {
   "cell_type": "markdown",
   "source": [
    "For conveniece, I have transformed the data set to long format. Now the columns represent each participant and rows are her attributes.\n",
    "From merely looking at the data, we get following information about the variables:\n",
    "\n",
    " **Initialization variables**\n",
    "- *id_in_session*: marks a unique identifier For future purposes, I will add session number and this will work as a unique identifier\n",
    "- *code*: can be dropped easily as it bears no information (it is simpy a hash)\n",
    "- *label*: not assigned - can be dropped\n",
    "- *_is_bot*: dummy if participant playes automatically, always False, can be dropped\n",
    "- *index_in_pages*: and *max_page_index* can be dropped, no relevant information\n",
    "- *_current_app_name*: can be dropped\n",
    "- *_current_page_name*: can be dropped, marks if all have finished\n",
    "- *time_started_utc*: brings no relevant information, can be dropped\n",
    "- *visited*: no relevant information, all have participated\n",
    "- *mturk_worker_id*: dunno what means\n",
    "- *mturk_worker_id*: neither\n",
    "- *payoff*: not relevant, probably will keep for some descriptive stats\n",
    "- *p_choices*: not relevant, many NaNs\n",
    "- *prediction*: not relevant\n",
    "\n",
    "- *p_choices_ca*: list of all own actions, Oponent sends *A* 1st round - will split into list of data frames\n",
    "- *predictions_ca*: list of all anticipated actions of an opponent, I sent *A*, 1st round - will split into list of data frames\n",
    "- *p_choices_cm*: list of all own actions, Opponent sends *B* - will split into list of data frames\n",
    "- *predictions_cm*: list of all anticipated actions of an opponent, I sent *B* - will split into list of data frames\n",
    "- *message*: list of all messages sent to the opponent\n",
    "- *gr*: NaN, to be dropped\n",
    "\n",
    "**session variables**\n",
    "- unimportant, to be dropped\n",
    "\n",
    "**Instuctions variables:**\n",
    "\n",
    "- player_role: NaN\n",
    "- player_payoff: Drop\n",
    "- *Group ID in subsession*: perhaps marks the round division from which payoffs are made\n",
    "- *subsession round* always 1, don't know\n",
    "\n",
    "**cheaptalk variables:**\n",
    "- id_in_group marks the ID within group\n",
    "- number marks the particular round\n",
    "- p_choice marks the actual action, *prediciton* marks the expected\n",
    "action of opponent\n",
    "- group_id_in_subsession marks the pair ID for the particula r round\n",
    "- group_ran_num Don't know, differs from id_in_group\n",
    "\n",
    "This way it goes 0 times for each round. In I need to clarify the difference.\n",
    "\n",
    "**CheaptalkQ variables**:\n",
    "- number marks the particular round\n",
    "- id_in group & group_id as before\n",
    "- role: NaN, to be dropped\n",
    "- payoff: always 0, drop\n",
    "- subsession round number: redundant\n",
    "- message: which message was sent\n",
    "-\n",
    "\n",
    "**Results 2.1 variables**\n",
    "- id_in_group: not relevant\n",
    "- role: NaN, drop\n",
    "- payoff: amount received after the draw of certain round\n",
    "- rand_num: determines the round to be counted\n",
    "- opponent_cost: after pairing, determines opponent's cost\n",
    "- my_message: message ent by player\n",
    "- opponent_message: analogous\n",
    "- final_prediction: guessed action conditioned upon the randomly draw opponent's cost\n",
    "- opponent's choice: actual opponent's action\n",
    "- final_choice: actual choice of player\n",
    "- id_in_subsession: group id of the pair\n",
    "- ChoiceOrPred: which answer will be paid off\n",
    "- round_number: not informative\n",
    "- ControlOrTreatment: Not informative as all are treatments within session\n",
    "\n",
    "**Control & Results.1.**\n",
    "- no information, all NaN, to be dropped\n"
   ],
   "metadata": {
    "collapsed": false
   }
  },
  {
   "cell_type": "code",
   "execution_count": 104,
   "outputs": [
    {
     "data": {
      "text/plain": "    participant.id_in_session participant.code  participant.label  \\\n0                           1         n37lm9on                NaN   \n1                           2         7beatig7                NaN   \n2                           3         tbhgnmq6                NaN   \n3                           4         3sxeqxq5                NaN   \n4                           5         kj79he0r                NaN   \n5                           6         ac4q174d                NaN   \n6                           7         03t9vn30                NaN   \n7                           8         kg669x6y                NaN   \n8                           9         edumq0st                NaN   \n9                          10         a3abwt9c                NaN   \n10                         11         q6kkxtmg                NaN   \n11                         12         f0zo4f17                NaN   \n12                         13         w5td7fr5                NaN   \n13                         14         lk4qtbr2                NaN   \n14                         15         ez35n9qm                NaN   \n15                         16         5no26q8z                NaN   \n16                         17         pvk6xfbt                NaN   \n17                         18         r16pk00l                NaN   \n18                         19         xgak4te4                NaN   \n19                         20         cuv0xqzq                NaN   \n20                         21         wkkd0tv0                NaN   \n21                         22         mfyq917r                NaN   \n\n    participant._is_bot  participant._index_in_pages  \\\n0                     0                           50   \n1                     0                           50   \n2                     0                           50   \n3                     0                           50   \n4                     0                           50   \n5                     0                           50   \n6                     0                           50   \n7                     0                           50   \n8                     0                           50   \n9                     0                           50   \n10                    0                           50   \n11                    0                           50   \n12                    0                           50   \n13                    0                           50   \n14                    0                           50   \n15                    0                           50   \n16                    0                           50   \n17                    0                           50   \n18                    0                           50   \n19                    0                           50   \n20                    0                           50   \n21                    0                           50   \n\n    participant._max_page_index participant._current_app_name  \\\n0                            49                         quest   \n1                            49                         quest   \n2                            49                         quest   \n3                            49                         quest   \n4                            49                         quest   \n5                            49                         quest   \n6                            49                         quest   \n7                            49                         quest   \n8                            49                         quest   \n9                            49                         quest   \n10                           49                         quest   \n11                           49                         quest   \n12                           49                         quest   \n13                           49                         quest   \n14                           49                         quest   \n15                           49                         quest   \n16                           49                         quest   \n17                           49                         quest   \n18                           49                         quest   \n19                           49                         quest   \n20                           49                         quest   \n21                           49                         quest   \n\n   participant._current_page_name participant.time_started_utc  \\\n0                        LastPage   2022-11-15 13:01:03.131994   \n1                        LastPage   2022-11-15 13:01:03.203143   \n2                        LastPage   2022-11-15 13:01:03.251727   \n3                        LastPage   2022-11-15 13:01:03.366915   \n4                        LastPage   2022-11-15 13:01:03.382537   \n5                        LastPage   2022-11-15 13:01:03.382537   \n6                        LastPage   2022-11-15 13:01:03.398154   \n7                        LastPage   2022-11-15 13:01:03.398154   \n8                        LastPage   2022-11-15 13:01:03.420280   \n9                        LastPage   2022-11-15 13:01:03.420280   \n10                       LastPage   2022-11-15 13:01:03.420280   \n11                       LastPage   2022-11-15 13:01:03.420280   \n12                       LastPage   2022-11-15 13:01:03.435905   \n13                       LastPage   2022-11-15 13:01:03.435905   \n14                       LastPage   2022-11-15 13:01:03.498390   \n15                       LastPage   2022-11-15 13:01:03.514012   \n16                       LastPage   2022-11-15 13:01:03.520516   \n17                       LastPage   2022-11-15 13:01:03.520516   \n18                       LastPage   2022-11-15 13:01:03.520516   \n19                       LastPage   2022-11-15 13:01:03.520516   \n20                       LastPage   2022-11-15 13:01:03.742926   \n21                       LastPage   2022-11-15 13:01:03.752997   \n\n    participant.visited  ...  cheaptalk.20.player.id_in_group  \\\n0                     1  ...                              NaN   \n1                     1  ...                              NaN   \n2                     1  ...                              NaN   \n3                     1  ...                              NaN   \n4                     1  ...                              NaN   \n5                     1  ...                              NaN   \n6                     1  ...                              NaN   \n7                     1  ...                              NaN   \n8                     1  ...                              NaN   \n9                     1  ...                              NaN   \n10                    1  ...                              NaN   \n11                    1  ...                              NaN   \n12                    1  ...                              NaN   \n13                    1  ...                              NaN   \n14                    1  ...                              NaN   \n15                    1  ...                              NaN   \n16                    1  ...                              NaN   \n17                    1  ...                              NaN   \n18                    1  ...                              NaN   \n19                    1  ...                              NaN   \n20                    1  ...                              NaN   \n21                    1  ...                              NaN   \n\n    cheaptalk.20.player.role  cheaptalk.20.player.payoff  \\\n0                        NaN                         NaN   \n1                        NaN                         NaN   \n2                        NaN                         NaN   \n3                        NaN                         NaN   \n4                        NaN                         NaN   \n5                        NaN                         NaN   \n6                        NaN                         NaN   \n7                        NaN                         NaN   \n8                        NaN                         NaN   \n9                        NaN                         NaN   \n10                       NaN                         NaN   \n11                       NaN                         NaN   \n12                       NaN                         NaN   \n13                       NaN                         NaN   \n14                       NaN                         NaN   \n15                       NaN                         NaN   \n16                       NaN                         NaN   \n17                       NaN                         NaN   \n18                       NaN                         NaN   \n19                       NaN                         NaN   \n20                       NaN                         NaN   \n21                       NaN                         NaN   \n\n   cheaptalk.20.player.p_choiceA cheaptalk.20.player.predictionA  \\\n0                            NaN                             NaN   \n1                            NaN                             NaN   \n2                            NaN                             NaN   \n3                            NaN                             NaN   \n4                            NaN                             NaN   \n5                            NaN                             NaN   \n6                            NaN                             NaN   \n7                            NaN                             NaN   \n8                            NaN                             NaN   \n9                            NaN                             NaN   \n10                           NaN                             NaN   \n11                           NaN                             NaN   \n12                           NaN                             NaN   \n13                           NaN                             NaN   \n14                           NaN                             NaN   \n15                           NaN                             NaN   \n16                           NaN                             NaN   \n17                           NaN                             NaN   \n18                           NaN                             NaN   \n19                           NaN                             NaN   \n20                           NaN                             NaN   \n21                           NaN                             NaN   \n\n    cheaptalk.20.player.p_choiceM  cheaptalk.20.player.predictionM  \\\n0                             NaN                              NaN   \n1                             NaN                              NaN   \n2                             NaN                              NaN   \n3                             NaN                              NaN   \n4                             NaN                              NaN   \n5                             NaN                              NaN   \n6                             NaN                              NaN   \n7                             NaN                              NaN   \n8                             NaN                              NaN   \n9                             NaN                              NaN   \n10                            NaN                              NaN   \n11                            NaN                              NaN   \n12                            NaN                              NaN   \n13                            NaN                              NaN   \n14                            NaN                              NaN   \n15                            NaN                              NaN   \n16                            NaN                              NaN   \n17                            NaN                              NaN   \n18                            NaN                              NaN   \n19                            NaN                              NaN   \n20                            NaN                              NaN   \n21                            NaN                              NaN   \n\n    cheaptalk.20.group.id_in_subsession  cheaptalk.20.group.ran_num  \\\n0                                   NaN                         NaN   \n1                                   NaN                         NaN   \n2                                   NaN                         NaN   \n3                                   NaN                         NaN   \n4                                   NaN                         NaN   \n5                                   NaN                         NaN   \n6                                   NaN                         NaN   \n7                                   NaN                         NaN   \n8                                   NaN                         NaN   \n9                                   NaN                         NaN   \n10                                  NaN                         NaN   \n11                                  NaN                         NaN   \n12                                  NaN                         NaN   \n13                                  NaN                         NaN   \n14                                  NaN                         NaN   \n15                                  NaN                         NaN   \n16                                  NaN                         NaN   \n17                                  NaN                         NaN   \n18                                  NaN                         NaN   \n19                                  NaN                         NaN   \n20                                  NaN                         NaN   \n21                                  NaN                         NaN   \n\n    cheaptalk.20.subsession.round_number  \n0                                    NaN  \n1                                    NaN  \n2                                    NaN  \n3                                    NaN  \n4                                    NaN  \n5                                    NaN  \n6                                    NaN  \n7                                    NaN  \n8                                    NaN  \n9                                    NaN  \n10                                   NaN  \n11                                   NaN  \n12                                   NaN  \n13                                   NaN  \n14                                   NaN  \n15                                   NaN  \n16                                   NaN  \n17                                   NaN  \n18                                   NaN  \n19                                   NaN  \n20                                   NaN  \n21                                   NaN  \n\n[22 rows x 401 columns]",
      "text/html": "<div>\n<style scoped>\n    .dataframe tbody tr th:only-of-type {\n        vertical-align: middle;\n    }\n\n    .dataframe tbody tr th {\n        vertical-align: top;\n    }\n\n    .dataframe thead th {\n        text-align: right;\n    }\n</style>\n<table border=\"1\" class=\"dataframe\">\n  <thead>\n    <tr style=\"text-align: right;\">\n      <th></th>\n      <th>participant.id_in_session</th>\n      <th>participant.code</th>\n      <th>participant.label</th>\n      <th>participant._is_bot</th>\n      <th>participant._index_in_pages</th>\n      <th>participant._max_page_index</th>\n      <th>participant._current_app_name</th>\n      <th>participant._current_page_name</th>\n      <th>participant.time_started_utc</th>\n      <th>participant.visited</th>\n      <th>...</th>\n      <th>cheaptalk.20.player.id_in_group</th>\n      <th>cheaptalk.20.player.role</th>\n      <th>cheaptalk.20.player.payoff</th>\n      <th>cheaptalk.20.player.p_choiceA</th>\n      <th>cheaptalk.20.player.predictionA</th>\n      <th>cheaptalk.20.player.p_choiceM</th>\n      <th>cheaptalk.20.player.predictionM</th>\n      <th>cheaptalk.20.group.id_in_subsession</th>\n      <th>cheaptalk.20.group.ran_num</th>\n      <th>cheaptalk.20.subsession.round_number</th>\n    </tr>\n  </thead>\n  <tbody>\n    <tr>\n      <th>0</th>\n      <td>1</td>\n      <td>n37lm9on</td>\n      <td>NaN</td>\n      <td>0</td>\n      <td>50</td>\n      <td>49</td>\n      <td>quest</td>\n      <td>LastPage</td>\n      <td>2022-11-15 13:01:03.131994</td>\n      <td>1</td>\n      <td>...</td>\n      <td>NaN</td>\n      <td>NaN</td>\n      <td>NaN</td>\n      <td>NaN</td>\n      <td>NaN</td>\n      <td>NaN</td>\n      <td>NaN</td>\n      <td>NaN</td>\n      <td>NaN</td>\n      <td>NaN</td>\n    </tr>\n    <tr>\n      <th>1</th>\n      <td>2</td>\n      <td>7beatig7</td>\n      <td>NaN</td>\n      <td>0</td>\n      <td>50</td>\n      <td>49</td>\n      <td>quest</td>\n      <td>LastPage</td>\n      <td>2022-11-15 13:01:03.203143</td>\n      <td>1</td>\n      <td>...</td>\n      <td>NaN</td>\n      <td>NaN</td>\n      <td>NaN</td>\n      <td>NaN</td>\n      <td>NaN</td>\n      <td>NaN</td>\n      <td>NaN</td>\n      <td>NaN</td>\n      <td>NaN</td>\n      <td>NaN</td>\n    </tr>\n    <tr>\n      <th>2</th>\n      <td>3</td>\n      <td>tbhgnmq6</td>\n      <td>NaN</td>\n      <td>0</td>\n      <td>50</td>\n      <td>49</td>\n      <td>quest</td>\n      <td>LastPage</td>\n      <td>2022-11-15 13:01:03.251727</td>\n      <td>1</td>\n      <td>...</td>\n      <td>NaN</td>\n      <td>NaN</td>\n      <td>NaN</td>\n      <td>NaN</td>\n      <td>NaN</td>\n      <td>NaN</td>\n      <td>NaN</td>\n      <td>NaN</td>\n      <td>NaN</td>\n      <td>NaN</td>\n    </tr>\n    <tr>\n      <th>3</th>\n      <td>4</td>\n      <td>3sxeqxq5</td>\n      <td>NaN</td>\n      <td>0</td>\n      <td>50</td>\n      <td>49</td>\n      <td>quest</td>\n      <td>LastPage</td>\n      <td>2022-11-15 13:01:03.366915</td>\n      <td>1</td>\n      <td>...</td>\n      <td>NaN</td>\n      <td>NaN</td>\n      <td>NaN</td>\n      <td>NaN</td>\n      <td>NaN</td>\n      <td>NaN</td>\n      <td>NaN</td>\n      <td>NaN</td>\n      <td>NaN</td>\n      <td>NaN</td>\n    </tr>\n    <tr>\n      <th>4</th>\n      <td>5</td>\n      <td>kj79he0r</td>\n      <td>NaN</td>\n      <td>0</td>\n      <td>50</td>\n      <td>49</td>\n      <td>quest</td>\n      <td>LastPage</td>\n      <td>2022-11-15 13:01:03.382537</td>\n      <td>1</td>\n      <td>...</td>\n      <td>NaN</td>\n      <td>NaN</td>\n      <td>NaN</td>\n      <td>NaN</td>\n      <td>NaN</td>\n      <td>NaN</td>\n      <td>NaN</td>\n      <td>NaN</td>\n      <td>NaN</td>\n      <td>NaN</td>\n    </tr>\n    <tr>\n      <th>5</th>\n      <td>6</td>\n      <td>ac4q174d</td>\n      <td>NaN</td>\n      <td>0</td>\n      <td>50</td>\n      <td>49</td>\n      <td>quest</td>\n      <td>LastPage</td>\n      <td>2022-11-15 13:01:03.382537</td>\n      <td>1</td>\n      <td>...</td>\n      <td>NaN</td>\n      <td>NaN</td>\n      <td>NaN</td>\n      <td>NaN</td>\n      <td>NaN</td>\n      <td>NaN</td>\n      <td>NaN</td>\n      <td>NaN</td>\n      <td>NaN</td>\n      <td>NaN</td>\n    </tr>\n    <tr>\n      <th>6</th>\n      <td>7</td>\n      <td>03t9vn30</td>\n      <td>NaN</td>\n      <td>0</td>\n      <td>50</td>\n      <td>49</td>\n      <td>quest</td>\n      <td>LastPage</td>\n      <td>2022-11-15 13:01:03.398154</td>\n      <td>1</td>\n      <td>...</td>\n      <td>NaN</td>\n      <td>NaN</td>\n      <td>NaN</td>\n      <td>NaN</td>\n      <td>NaN</td>\n      <td>NaN</td>\n      <td>NaN</td>\n      <td>NaN</td>\n      <td>NaN</td>\n      <td>NaN</td>\n    </tr>\n    <tr>\n      <th>7</th>\n      <td>8</td>\n      <td>kg669x6y</td>\n      <td>NaN</td>\n      <td>0</td>\n      <td>50</td>\n      <td>49</td>\n      <td>quest</td>\n      <td>LastPage</td>\n      <td>2022-11-15 13:01:03.398154</td>\n      <td>1</td>\n      <td>...</td>\n      <td>NaN</td>\n      <td>NaN</td>\n      <td>NaN</td>\n      <td>NaN</td>\n      <td>NaN</td>\n      <td>NaN</td>\n      <td>NaN</td>\n      <td>NaN</td>\n      <td>NaN</td>\n      <td>NaN</td>\n    </tr>\n    <tr>\n      <th>8</th>\n      <td>9</td>\n      <td>edumq0st</td>\n      <td>NaN</td>\n      <td>0</td>\n      <td>50</td>\n      <td>49</td>\n      <td>quest</td>\n      <td>LastPage</td>\n      <td>2022-11-15 13:01:03.420280</td>\n      <td>1</td>\n      <td>...</td>\n      <td>NaN</td>\n      <td>NaN</td>\n      <td>NaN</td>\n      <td>NaN</td>\n      <td>NaN</td>\n      <td>NaN</td>\n      <td>NaN</td>\n      <td>NaN</td>\n      <td>NaN</td>\n      <td>NaN</td>\n    </tr>\n    <tr>\n      <th>9</th>\n      <td>10</td>\n      <td>a3abwt9c</td>\n      <td>NaN</td>\n      <td>0</td>\n      <td>50</td>\n      <td>49</td>\n      <td>quest</td>\n      <td>LastPage</td>\n      <td>2022-11-15 13:01:03.420280</td>\n      <td>1</td>\n      <td>...</td>\n      <td>NaN</td>\n      <td>NaN</td>\n      <td>NaN</td>\n      <td>NaN</td>\n      <td>NaN</td>\n      <td>NaN</td>\n      <td>NaN</td>\n      <td>NaN</td>\n      <td>NaN</td>\n      <td>NaN</td>\n    </tr>\n    <tr>\n      <th>10</th>\n      <td>11</td>\n      <td>q6kkxtmg</td>\n      <td>NaN</td>\n      <td>0</td>\n      <td>50</td>\n      <td>49</td>\n      <td>quest</td>\n      <td>LastPage</td>\n      <td>2022-11-15 13:01:03.420280</td>\n      <td>1</td>\n      <td>...</td>\n      <td>NaN</td>\n      <td>NaN</td>\n      <td>NaN</td>\n      <td>NaN</td>\n      <td>NaN</td>\n      <td>NaN</td>\n      <td>NaN</td>\n      <td>NaN</td>\n      <td>NaN</td>\n      <td>NaN</td>\n    </tr>\n    <tr>\n      <th>11</th>\n      <td>12</td>\n      <td>f0zo4f17</td>\n      <td>NaN</td>\n      <td>0</td>\n      <td>50</td>\n      <td>49</td>\n      <td>quest</td>\n      <td>LastPage</td>\n      <td>2022-11-15 13:01:03.420280</td>\n      <td>1</td>\n      <td>...</td>\n      <td>NaN</td>\n      <td>NaN</td>\n      <td>NaN</td>\n      <td>NaN</td>\n      <td>NaN</td>\n      <td>NaN</td>\n      <td>NaN</td>\n      <td>NaN</td>\n      <td>NaN</td>\n      <td>NaN</td>\n    </tr>\n    <tr>\n      <th>12</th>\n      <td>13</td>\n      <td>w5td7fr5</td>\n      <td>NaN</td>\n      <td>0</td>\n      <td>50</td>\n      <td>49</td>\n      <td>quest</td>\n      <td>LastPage</td>\n      <td>2022-11-15 13:01:03.435905</td>\n      <td>1</td>\n      <td>...</td>\n      <td>NaN</td>\n      <td>NaN</td>\n      <td>NaN</td>\n      <td>NaN</td>\n      <td>NaN</td>\n      <td>NaN</td>\n      <td>NaN</td>\n      <td>NaN</td>\n      <td>NaN</td>\n      <td>NaN</td>\n    </tr>\n    <tr>\n      <th>13</th>\n      <td>14</td>\n      <td>lk4qtbr2</td>\n      <td>NaN</td>\n      <td>0</td>\n      <td>50</td>\n      <td>49</td>\n      <td>quest</td>\n      <td>LastPage</td>\n      <td>2022-11-15 13:01:03.435905</td>\n      <td>1</td>\n      <td>...</td>\n      <td>NaN</td>\n      <td>NaN</td>\n      <td>NaN</td>\n      <td>NaN</td>\n      <td>NaN</td>\n      <td>NaN</td>\n      <td>NaN</td>\n      <td>NaN</td>\n      <td>NaN</td>\n      <td>NaN</td>\n    </tr>\n    <tr>\n      <th>14</th>\n      <td>15</td>\n      <td>ez35n9qm</td>\n      <td>NaN</td>\n      <td>0</td>\n      <td>50</td>\n      <td>49</td>\n      <td>quest</td>\n      <td>LastPage</td>\n      <td>2022-11-15 13:01:03.498390</td>\n      <td>1</td>\n      <td>...</td>\n      <td>NaN</td>\n      <td>NaN</td>\n      <td>NaN</td>\n      <td>NaN</td>\n      <td>NaN</td>\n      <td>NaN</td>\n      <td>NaN</td>\n      <td>NaN</td>\n      <td>NaN</td>\n      <td>NaN</td>\n    </tr>\n    <tr>\n      <th>15</th>\n      <td>16</td>\n      <td>5no26q8z</td>\n      <td>NaN</td>\n      <td>0</td>\n      <td>50</td>\n      <td>49</td>\n      <td>quest</td>\n      <td>LastPage</td>\n      <td>2022-11-15 13:01:03.514012</td>\n      <td>1</td>\n      <td>...</td>\n      <td>NaN</td>\n      <td>NaN</td>\n      <td>NaN</td>\n      <td>NaN</td>\n      <td>NaN</td>\n      <td>NaN</td>\n      <td>NaN</td>\n      <td>NaN</td>\n      <td>NaN</td>\n      <td>NaN</td>\n    </tr>\n    <tr>\n      <th>16</th>\n      <td>17</td>\n      <td>pvk6xfbt</td>\n      <td>NaN</td>\n      <td>0</td>\n      <td>50</td>\n      <td>49</td>\n      <td>quest</td>\n      <td>LastPage</td>\n      <td>2022-11-15 13:01:03.520516</td>\n      <td>1</td>\n      <td>...</td>\n      <td>NaN</td>\n      <td>NaN</td>\n      <td>NaN</td>\n      <td>NaN</td>\n      <td>NaN</td>\n      <td>NaN</td>\n      <td>NaN</td>\n      <td>NaN</td>\n      <td>NaN</td>\n      <td>NaN</td>\n    </tr>\n    <tr>\n      <th>17</th>\n      <td>18</td>\n      <td>r16pk00l</td>\n      <td>NaN</td>\n      <td>0</td>\n      <td>50</td>\n      <td>49</td>\n      <td>quest</td>\n      <td>LastPage</td>\n      <td>2022-11-15 13:01:03.520516</td>\n      <td>1</td>\n      <td>...</td>\n      <td>NaN</td>\n      <td>NaN</td>\n      <td>NaN</td>\n      <td>NaN</td>\n      <td>NaN</td>\n      <td>NaN</td>\n      <td>NaN</td>\n      <td>NaN</td>\n      <td>NaN</td>\n      <td>NaN</td>\n    </tr>\n    <tr>\n      <th>18</th>\n      <td>19</td>\n      <td>xgak4te4</td>\n      <td>NaN</td>\n      <td>0</td>\n      <td>50</td>\n      <td>49</td>\n      <td>quest</td>\n      <td>LastPage</td>\n      <td>2022-11-15 13:01:03.520516</td>\n      <td>1</td>\n      <td>...</td>\n      <td>NaN</td>\n      <td>NaN</td>\n      <td>NaN</td>\n      <td>NaN</td>\n      <td>NaN</td>\n      <td>NaN</td>\n      <td>NaN</td>\n      <td>NaN</td>\n      <td>NaN</td>\n      <td>NaN</td>\n    </tr>\n    <tr>\n      <th>19</th>\n      <td>20</td>\n      <td>cuv0xqzq</td>\n      <td>NaN</td>\n      <td>0</td>\n      <td>50</td>\n      <td>49</td>\n      <td>quest</td>\n      <td>LastPage</td>\n      <td>2022-11-15 13:01:03.520516</td>\n      <td>1</td>\n      <td>...</td>\n      <td>NaN</td>\n      <td>NaN</td>\n      <td>NaN</td>\n      <td>NaN</td>\n      <td>NaN</td>\n      <td>NaN</td>\n      <td>NaN</td>\n      <td>NaN</td>\n      <td>NaN</td>\n      <td>NaN</td>\n    </tr>\n    <tr>\n      <th>20</th>\n      <td>21</td>\n      <td>wkkd0tv0</td>\n      <td>NaN</td>\n      <td>0</td>\n      <td>50</td>\n      <td>49</td>\n      <td>quest</td>\n      <td>LastPage</td>\n      <td>2022-11-15 13:01:03.742926</td>\n      <td>1</td>\n      <td>...</td>\n      <td>NaN</td>\n      <td>NaN</td>\n      <td>NaN</td>\n      <td>NaN</td>\n      <td>NaN</td>\n      <td>NaN</td>\n      <td>NaN</td>\n      <td>NaN</td>\n      <td>NaN</td>\n      <td>NaN</td>\n    </tr>\n    <tr>\n      <th>21</th>\n      <td>22</td>\n      <td>mfyq917r</td>\n      <td>NaN</td>\n      <td>0</td>\n      <td>50</td>\n      <td>49</td>\n      <td>quest</td>\n      <td>LastPage</td>\n      <td>2022-11-15 13:01:03.752997</td>\n      <td>1</td>\n      <td>...</td>\n      <td>NaN</td>\n      <td>NaN</td>\n      <td>NaN</td>\n      <td>NaN</td>\n      <td>NaN</td>\n      <td>NaN</td>\n      <td>NaN</td>\n      <td>NaN</td>\n      <td>NaN</td>\n      <td>NaN</td>\n    </tr>\n  </tbody>\n</table>\n<p>22 rows × 401 columns</p>\n</div>"
     },
     "execution_count": 104,
     "metadata": {},
     "output_type": "execute_result"
    }
   ],
   "source": [
    "data['control']"
   ],
   "metadata": {
    "collapsed": false,
    "ExecuteTime": {
     "end_time": "2023-12-13T21:08:07.953858200Z",
     "start_time": "2023-12-13T21:08:01.822291100Z"
    }
   }
  },
  {
   "cell_type": "code",
   "execution_count": 105,
   "outputs": [
    {
     "data": {
      "text/plain": "                                         0         1         2         3   \\\nparticipant.id_in_session                 1         2         3         4   \nparticipant.code                   zf421bce  85eum7ff  2zg9i30i  zg4yjgi8   \nparticipant.label                       NaN       NaN       NaN       NaN   \nparticipant._is_bot                       0         0         0         0   \nparticipant._index_in_pages             230       230       230       230   \n...                                     ...       ...       ...       ...   \nResults.1.player.my_final_choice        NaN       NaN       NaN       NaN   \nResults.1.group.id_in_subsession        NaN       NaN       NaN       NaN   \nResults.1.group.ChoiceOrPred            NaN       NaN       NaN       NaN   \nResults.1.subsession.round_number       NaN       NaN       NaN       NaN   \nResults.1.subsession.ContOrTreat        NaN       NaN       NaN       NaN   \n\n                                         4         5         6         7   \\\nparticipant.id_in_session                 5         6         7         8   \nparticipant.code                   jrj18o9w  rhvyvzwr  jxjv35vh  5bd8wo13   \nparticipant.label                       NaN       NaN       NaN       NaN   \nparticipant._is_bot                       0         0         0         0   \nparticipant._index_in_pages             230       230       230       230   \n...                                     ...       ...       ...       ...   \nResults.1.player.my_final_choice        NaN       NaN       NaN       NaN   \nResults.1.group.id_in_subsession        NaN       NaN       NaN       NaN   \nResults.1.group.ChoiceOrPred            NaN       NaN       NaN       NaN   \nResults.1.subsession.round_number       NaN       NaN       NaN       NaN   \nResults.1.subsession.ContOrTreat        NaN       NaN       NaN       NaN   \n\n                                         8         9   ...        12  \\\nparticipant.id_in_session                 9        10  ...        13   \nparticipant.code                   7l3snkuz  3jx2m3hx  ...  awkcov6m   \nparticipant.label                       NaN       NaN  ...       NaN   \nparticipant._is_bot                       0         0  ...         0   \nparticipant._index_in_pages             230       230  ...       230   \n...                                     ...       ...  ...       ...   \nResults.1.player.my_final_choice        NaN       NaN  ...       NaN   \nResults.1.group.id_in_subsession        NaN       NaN  ...       NaN   \nResults.1.group.ChoiceOrPred            NaN       NaN  ...       NaN   \nResults.1.subsession.round_number       NaN       NaN  ...       NaN   \nResults.1.subsession.ContOrTreat        NaN       NaN  ...       NaN   \n\n                                         13        14        15        16  \\\nparticipant.id_in_session                14        15        16        17   \nparticipant.code                   25f1f097  hjkcy64q  ytog6hpo  ggcf3ioy   \nparticipant.label                       NaN       NaN       NaN       NaN   \nparticipant._is_bot                       0         0         0         0   \nparticipant._index_in_pages             230       230       230       230   \n...                                     ...       ...       ...       ...   \nResults.1.player.my_final_choice        NaN       NaN       NaN       NaN   \nResults.1.group.id_in_subsession        NaN       NaN       NaN       NaN   \nResults.1.group.ChoiceOrPred            NaN       NaN       NaN       NaN   \nResults.1.subsession.round_number       NaN       NaN       NaN       NaN   \nResults.1.subsession.ContOrTreat        NaN       NaN       NaN       NaN   \n\n                                         17        18        19        20  \\\nparticipant.id_in_session                18        19        20        21   \nparticipant.code                   fq2ods4v  4maiiy8d  ra7aqyed  zm5iiy5r   \nparticipant.label                       NaN       NaN       NaN       NaN   \nparticipant._is_bot                       0         0         0         0   \nparticipant._index_in_pages             230       230       230       230   \n...                                     ...       ...       ...       ...   \nResults.1.player.my_final_choice        NaN       NaN       NaN       NaN   \nResults.1.group.id_in_subsession        NaN       NaN       NaN       NaN   \nResults.1.group.ChoiceOrPred            NaN       NaN       NaN       NaN   \nResults.1.subsession.round_number       NaN       NaN       NaN       NaN   \nResults.1.subsession.ContOrTreat        NaN       NaN       NaN       NaN   \n\n                                         21  \nparticipant.id_in_session                22  \nparticipant.code                   0eq7wh4l  \nparticipant.label                       NaN  \nparticipant._is_bot                       0  \nparticipant._index_in_pages             230  \n...                                     ...  \nResults.1.player.my_final_choice        NaN  \nResults.1.group.id_in_subsession        NaN  \nResults.1.group.ChoiceOrPred            NaN  \nResults.1.subsession.round_number       NaN  \nResults.1.subsession.ContOrTreat        NaN  \n\n[401 rows x 22 columns]",
      "text/html": "<div>\n<style scoped>\n    .dataframe tbody tr th:only-of-type {\n        vertical-align: middle;\n    }\n\n    .dataframe tbody tr th {\n        vertical-align: top;\n    }\n\n    .dataframe thead th {\n        text-align: right;\n    }\n</style>\n<table border=\"1\" class=\"dataframe\">\n  <thead>\n    <tr style=\"text-align: right;\">\n      <th></th>\n      <th>0</th>\n      <th>1</th>\n      <th>2</th>\n      <th>3</th>\n      <th>4</th>\n      <th>5</th>\n      <th>6</th>\n      <th>7</th>\n      <th>8</th>\n      <th>9</th>\n      <th>...</th>\n      <th>12</th>\n      <th>13</th>\n      <th>14</th>\n      <th>15</th>\n      <th>16</th>\n      <th>17</th>\n      <th>18</th>\n      <th>19</th>\n      <th>20</th>\n      <th>21</th>\n    </tr>\n  </thead>\n  <tbody>\n    <tr>\n      <th>participant.id_in_session</th>\n      <td>1</td>\n      <td>2</td>\n      <td>3</td>\n      <td>4</td>\n      <td>5</td>\n      <td>6</td>\n      <td>7</td>\n      <td>8</td>\n      <td>9</td>\n      <td>10</td>\n      <td>...</td>\n      <td>13</td>\n      <td>14</td>\n      <td>15</td>\n      <td>16</td>\n      <td>17</td>\n      <td>18</td>\n      <td>19</td>\n      <td>20</td>\n      <td>21</td>\n      <td>22</td>\n    </tr>\n    <tr>\n      <th>participant.code</th>\n      <td>zf421bce</td>\n      <td>85eum7ff</td>\n      <td>2zg9i30i</td>\n      <td>zg4yjgi8</td>\n      <td>jrj18o9w</td>\n      <td>rhvyvzwr</td>\n      <td>jxjv35vh</td>\n      <td>5bd8wo13</td>\n      <td>7l3snkuz</td>\n      <td>3jx2m3hx</td>\n      <td>...</td>\n      <td>awkcov6m</td>\n      <td>25f1f097</td>\n      <td>hjkcy64q</td>\n      <td>ytog6hpo</td>\n      <td>ggcf3ioy</td>\n      <td>fq2ods4v</td>\n      <td>4maiiy8d</td>\n      <td>ra7aqyed</td>\n      <td>zm5iiy5r</td>\n      <td>0eq7wh4l</td>\n    </tr>\n    <tr>\n      <th>participant.label</th>\n      <td>NaN</td>\n      <td>NaN</td>\n      <td>NaN</td>\n      <td>NaN</td>\n      <td>NaN</td>\n      <td>NaN</td>\n      <td>NaN</td>\n      <td>NaN</td>\n      <td>NaN</td>\n      <td>NaN</td>\n      <td>...</td>\n      <td>NaN</td>\n      <td>NaN</td>\n      <td>NaN</td>\n      <td>NaN</td>\n      <td>NaN</td>\n      <td>NaN</td>\n      <td>NaN</td>\n      <td>NaN</td>\n      <td>NaN</td>\n      <td>NaN</td>\n    </tr>\n    <tr>\n      <th>participant._is_bot</th>\n      <td>0</td>\n      <td>0</td>\n      <td>0</td>\n      <td>0</td>\n      <td>0</td>\n      <td>0</td>\n      <td>0</td>\n      <td>0</td>\n      <td>0</td>\n      <td>0</td>\n      <td>...</td>\n      <td>0</td>\n      <td>0</td>\n      <td>0</td>\n      <td>0</td>\n      <td>0</td>\n      <td>0</td>\n      <td>0</td>\n      <td>0</td>\n      <td>0</td>\n      <td>0</td>\n    </tr>\n    <tr>\n      <th>participant._index_in_pages</th>\n      <td>230</td>\n      <td>230</td>\n      <td>230</td>\n      <td>230</td>\n      <td>230</td>\n      <td>230</td>\n      <td>230</td>\n      <td>230</td>\n      <td>230</td>\n      <td>230</td>\n      <td>...</td>\n      <td>230</td>\n      <td>230</td>\n      <td>230</td>\n      <td>230</td>\n      <td>230</td>\n      <td>230</td>\n      <td>230</td>\n      <td>230</td>\n      <td>230</td>\n      <td>230</td>\n    </tr>\n    <tr>\n      <th>...</th>\n      <td>...</td>\n      <td>...</td>\n      <td>...</td>\n      <td>...</td>\n      <td>...</td>\n      <td>...</td>\n      <td>...</td>\n      <td>...</td>\n      <td>...</td>\n      <td>...</td>\n      <td>...</td>\n      <td>...</td>\n      <td>...</td>\n      <td>...</td>\n      <td>...</td>\n      <td>...</td>\n      <td>...</td>\n      <td>...</td>\n      <td>...</td>\n      <td>...</td>\n      <td>...</td>\n    </tr>\n    <tr>\n      <th>Results.1.player.my_final_choice</th>\n      <td>NaN</td>\n      <td>NaN</td>\n      <td>NaN</td>\n      <td>NaN</td>\n      <td>NaN</td>\n      <td>NaN</td>\n      <td>NaN</td>\n      <td>NaN</td>\n      <td>NaN</td>\n      <td>NaN</td>\n      <td>...</td>\n      <td>NaN</td>\n      <td>NaN</td>\n      <td>NaN</td>\n      <td>NaN</td>\n      <td>NaN</td>\n      <td>NaN</td>\n      <td>NaN</td>\n      <td>NaN</td>\n      <td>NaN</td>\n      <td>NaN</td>\n    </tr>\n    <tr>\n      <th>Results.1.group.id_in_subsession</th>\n      <td>NaN</td>\n      <td>NaN</td>\n      <td>NaN</td>\n      <td>NaN</td>\n      <td>NaN</td>\n      <td>NaN</td>\n      <td>NaN</td>\n      <td>NaN</td>\n      <td>NaN</td>\n      <td>NaN</td>\n      <td>...</td>\n      <td>NaN</td>\n      <td>NaN</td>\n      <td>NaN</td>\n      <td>NaN</td>\n      <td>NaN</td>\n      <td>NaN</td>\n      <td>NaN</td>\n      <td>NaN</td>\n      <td>NaN</td>\n      <td>NaN</td>\n    </tr>\n    <tr>\n      <th>Results.1.group.ChoiceOrPred</th>\n      <td>NaN</td>\n      <td>NaN</td>\n      <td>NaN</td>\n      <td>NaN</td>\n      <td>NaN</td>\n      <td>NaN</td>\n      <td>NaN</td>\n      <td>NaN</td>\n      <td>NaN</td>\n      <td>NaN</td>\n      <td>...</td>\n      <td>NaN</td>\n      <td>NaN</td>\n      <td>NaN</td>\n      <td>NaN</td>\n      <td>NaN</td>\n      <td>NaN</td>\n      <td>NaN</td>\n      <td>NaN</td>\n      <td>NaN</td>\n      <td>NaN</td>\n    </tr>\n    <tr>\n      <th>Results.1.subsession.round_number</th>\n      <td>NaN</td>\n      <td>NaN</td>\n      <td>NaN</td>\n      <td>NaN</td>\n      <td>NaN</td>\n      <td>NaN</td>\n      <td>NaN</td>\n      <td>NaN</td>\n      <td>NaN</td>\n      <td>NaN</td>\n      <td>...</td>\n      <td>NaN</td>\n      <td>NaN</td>\n      <td>NaN</td>\n      <td>NaN</td>\n      <td>NaN</td>\n      <td>NaN</td>\n      <td>NaN</td>\n      <td>NaN</td>\n      <td>NaN</td>\n      <td>NaN</td>\n    </tr>\n    <tr>\n      <th>Results.1.subsession.ContOrTreat</th>\n      <td>NaN</td>\n      <td>NaN</td>\n      <td>NaN</td>\n      <td>NaN</td>\n      <td>NaN</td>\n      <td>NaN</td>\n      <td>NaN</td>\n      <td>NaN</td>\n      <td>NaN</td>\n      <td>NaN</td>\n      <td>...</td>\n      <td>NaN</td>\n      <td>NaN</td>\n      <td>NaN</td>\n      <td>NaN</td>\n      <td>NaN</td>\n      <td>NaN</td>\n      <td>NaN</td>\n      <td>NaN</td>\n      <td>NaN</td>\n      <td>NaN</td>\n    </tr>\n  </tbody>\n</table>\n<p>401 rows × 22 columns</p>\n</div>"
     },
     "execution_count": 105,
     "metadata": {},
     "output_type": "execute_result"
    }
   ],
   "source": [
    "data['treatment'].transpose()"
   ],
   "metadata": {
    "collapsed": false,
    "ExecuteTime": {
     "end_time": "2023-12-13T21:08:07.959870800Z",
     "start_time": "2023-12-13T21:08:01.915131700Z"
    }
   }
  },
  {
   "cell_type": "markdown",
   "source": [
    "## 1.2 Creating a list of values read as a string"
   ],
   "metadata": {
    "collapsed": false
   }
  },
  {
   "cell_type": "code",
   "execution_count": 106,
   "outputs": [],
   "source": [
    "def create_gameplay(data: dict) -> dict:\n",
    "    \"\"\"\n",
    "    Create a new dictionary containing only the information desribing how the particular player had played\n",
    "    \"\"\"\n",
    "    data_gameplay = {}\n",
    "    for cat, df in data.items():\n",
    "        data_gameplay[cat] = df.filter(regex=\".*participant\\.(prediction.*|p_choices.*|message.*)\").transpose().dropna().transpose()\n",
    "        data_gameplay[cat].columns = [col.replace(\"participant.\", \"\") for col in data_gameplay[cat].columns]\n",
    "    return data_gameplay"
   ],
   "metadata": {
    "collapsed": false,
    "ExecuteTime": {
     "end_time": "2023-12-13T21:08:07.960869600Z",
     "start_time": "2023-12-13T21:08:01.993344Z"
    }
   }
  },
  {
   "cell_type": "code",
   "execution_count": 107,
   "outputs": [],
   "source": [
    "data_gameplay = create_gameplay(data)"
   ],
   "metadata": {
    "collapsed": false,
    "ExecuteTime": {
     "end_time": "2023-12-13T21:08:07.961858400Z",
     "start_time": "2023-12-13T21:08:02.022893800Z"
    }
   }
  },
  {
   "cell_type": "markdown",
   "source": [
    "In this section, I will present the results of our experiment"
   ],
   "metadata": {
    "collapsed": false
   }
  },
  {
   "cell_type": "markdown",
   "source": [
    "## 1.3 Extracting Actions as a list from string:"
   ],
   "metadata": {
    "collapsed": false
   }
  },
  {
   "cell_type": "code",
   "execution_count": 108,
   "outputs": [],
   "source": [
    "import re\n",
    "def extract_actions_from_string(col):\n",
    "    \"\"\"\n",
    "    All actions are stored as strings. This function\n",
    "    is meant to convert these strings to list\n",
    "\n",
    "    :param col: affected column\n",
    "    :return: series of transformed data\n",
    "    \"\"\"\n",
    "    col_out = col.copy()\n",
    "\n",
    "    i = 0\n",
    "    for val in col_out.values:\n",
    "        col_out.values[i] = re.findall(r\"\\d+\", val)\n",
    "        i += 1\n",
    "    return col_out"
   ],
   "metadata": {
    "collapsed": false,
    "ExecuteTime": {
     "end_time": "2023-12-13T21:08:07.962861Z",
     "start_time": "2023-12-13T21:08:02.056243800Z"
    }
   }
  },
  {
   "cell_type": "code",
   "execution_count": 109,
   "outputs": [],
   "source": [
    "for k, v in data_gameplay.items():\n",
    "    data_gameplay[k] = v.apply(lambda x: extract_actions_from_string(x))"
   ],
   "metadata": {
    "collapsed": false,
    "ExecuteTime": {
     "end_time": "2023-12-13T21:08:07.962861Z",
     "start_time": "2023-12-13T21:08:02.087358800Z"
    }
   }
  },
  {
   "cell_type": "code",
   "execution_count": 110,
   "outputs": [],
   "source": [
    "def map_actions(df_dict):\n",
    "    \"\"\"\n",
    "    Get all actions from any columns\n",
    "    :param df_dict:\n",
    "    :return:\n",
    "    \"\"\"\n",
    "    for key, val in df_dict.items():\n",
    "        df_dict[key] = val.apply(lambda k: extract_actions_from_string(k))\n",
    "    return df_dict"
   ],
   "metadata": {
    "collapsed": false,
    "ExecuteTime": {
     "end_time": "2023-12-13T21:08:07.963858400Z",
     "start_time": "2023-12-13T21:08:02.121133800Z"
    }
   }
  },
  {
   "cell_type": "code",
   "execution_count": 111,
   "outputs": [],
   "source": [
    "def get_gameplay(df, col, id_var):\n",
    "    \"\"\"\n",
    "    Purpose:\n",
    "    Explode the data frame on selected column, i.e. convert the data frame to a long format instead\n",
    "    \"\"\"\n",
    "    df_out = df.explode(col)[col].reset_index().rename(columns={\"index\": id_var})\n",
    "\n",
    "    return df_out"
   ],
   "metadata": {
    "collapsed": false,
    "ExecuteTime": {
     "end_time": "2023-12-13T21:08:07.992024600Z",
     "start_time": "2023-12-13T21:08:02.151304700Z"
    }
   }
  },
  {
   "cell_type": "code",
   "execution_count": 112,
   "outputs": [
    {
     "data": {
      "text/plain": "p_choices     object\nprediction    object\ndtype: object"
     },
     "execution_count": 112,
     "metadata": {},
     "output_type": "execute_result"
    }
   ],
   "source": [
    "data_gameplay['control'].dtypes"
   ],
   "metadata": {
    "collapsed": false,
    "ExecuteTime": {
     "end_time": "2023-12-13T21:08:07.994032500Z",
     "start_time": "2023-12-13T21:08:02.183021700Z"
    }
   }
  },
  {
   "cell_type": "code",
   "execution_count": 113,
   "outputs": [],
   "source": [
    "control_actions = get_gameplay(data_gameplay['control'], 'p_choices', 'id')\n",
    "control_pred = get_gameplay(data_gameplay['control'], 'prediction', 'id')\n",
    "\n",
    "treatment_actions_a = get_gameplay(data_gameplay['treatment'], 'p_choices_ca', 'id')\n",
    "treatment_actions_b = get_gameplay(data_gameplay['treatment'], 'p_choices_cm', 'id')\n",
    "treatment_pred_a = get_gameplay(data_gameplay['treatment'], 'prediction_ca', 'id')\n",
    "treatment_pred_b = get_gameplay(data_gameplay['treatment'], 'prediction_cm', 'id')\n",
    "message = get_gameplay(data_gameplay['treatment'], 'message', 'id')"
   ],
   "metadata": {
    "collapsed": false,
    "ExecuteTime": {
     "end_time": "2023-12-13T21:08:07.996038400Z",
     "start_time": "2023-12-13T21:08:02.228153900Z"
    }
   }
  },
  {
   "cell_type": "code",
   "execution_count": 114,
   "outputs": [],
   "source": [
    "control_full = pd.DataFrame()\n",
    "for col in data_gameplay['control'].columns:\n",
    "    control_full = pd.concat([control_full, get_gameplay(data_gameplay['control'], str(col), 'id')], axis=1)\n",
    "    control_full = control_full.loc[:, ~control_full.columns.duplicated()]"
   ],
   "metadata": {
    "collapsed": false,
    "ExecuteTime": {
     "end_time": "2023-12-13T21:08:07.996038400Z",
     "start_time": "2023-12-13T21:08:02.303706200Z"
    }
   }
  },
  {
   "cell_type": "code",
   "execution_count": 115,
   "outputs": [
    {
     "data": {
      "text/plain": "id             int64\np_choices     object\nprediction    object\ndtype: object"
     },
     "execution_count": 115,
     "metadata": {},
     "output_type": "execute_result"
    }
   ],
   "source": [
    "control_full.dtypes"
   ],
   "metadata": {
    "collapsed": false,
    "ExecuteTime": {
     "end_time": "2023-12-13T21:08:07.999019Z",
     "start_time": "2023-12-13T21:08:02.353301100Z"
    }
   }
  },
  {
   "cell_type": "code",
   "execution_count": 116,
   "outputs": [],
   "source": [
    "treatment_full = pd.DataFrame()\n",
    "for col in data_gameplay['treatment'].columns:\n",
    "    treatment_full = pd.concat([treatment_full, get_gameplay(data_gameplay['treatment'], str(col), 'id')], axis=1)\n",
    "    treatment_full = treatment_full.loc[:, ~treatment_full.columns.duplicated()]"
   ],
   "metadata": {
    "collapsed": false,
    "ExecuteTime": {
     "end_time": "2023-12-13T21:08:08.000252300Z",
     "start_time": "2023-12-13T21:08:02.399880100Z"
    }
   }
  },
  {
   "cell_type": "code",
   "execution_count": 117,
   "outputs": [],
   "source": [
    "def set_costs(df, cost_list=[val for val in range(10, 200, 20)]):\n",
    "    \"\"\"\n",
    "    Purpose:\n",
    "    Add column denoting the costs for particular player\n",
    "    \"\"\"\n",
    "    df_out = df.copy()\n",
    "    n_iter = int(df_out.shape[0]/len(cost_list))\n",
    "\n",
    "    df_out['cost'] = n_iter * cost_list\n",
    "\n",
    "    return df_out\n",
    "\n",
    "treatment_full = set_costs(treatment_full)\n",
    "control_full = set_costs(control_full)"
   ],
   "metadata": {
    "collapsed": false,
    "ExecuteTime": {
     "end_time": "2023-12-13T21:08:08.000252300Z",
     "start_time": "2023-12-13T21:08:02.477121800Z"
    }
   }
  },
  {
   "cell_type": "code",
   "execution_count": 118,
   "outputs": [],
   "source": [
    "def get_player_typecontro(action, prediction, message):\n",
    "    if message is None:\n",
    "        if action == prediction and action == 2:\n",
    "            return \"normal\"\n",
    "        elif action != prediction and action == 1:\n",
    "            return \"tough\"\n",
    "        else:\n",
    "            return \"unknown\""
   ],
   "metadata": {
    "collapsed": false,
    "ExecuteTime": {
     "end_time": "2023-12-13T21:08:08.000252300Z",
     "start_time": "2023-12-13T21:08:02.503485700Z"
    }
   }
  },
  {
   "cell_type": "code",
   "execution_count": 119,
   "outputs": [],
   "source": [
    "def merge_actions(df, id_col='id'):\n",
    "\n",
    "    df_full = pd.DataFrame()\n",
    "    for col in df.columns:\n",
    "        df_full = pd.concat([df_full, get_gameplay(df, str(col), id_col)], axis=1)\n",
    "        df_full = df_full.loc[:, ~df_full.columns.duplicated()]\n",
    "\n",
    "    return df_full"
   ],
   "metadata": {
    "collapsed": false,
    "ExecuteTime": {
     "end_time": "2023-12-13T21:08:08.001280500Z",
     "start_time": "2023-12-13T21:08:02.522660400Z"
    }
   }
  },
  {
   "cell_type": "code",
   "execution_count": 120,
   "outputs": [],
   "source": [
    "treatment_full = set_costs(treatment_full)\n",
    "control_full = set_costs(control_full)"
   ],
   "metadata": {
    "collapsed": false,
    "ExecuteTime": {
     "end_time": "2023-12-13T21:08:08.002269500Z",
     "start_time": "2023-12-13T21:08:02.552109900Z"
    }
   }
  },
  {
   "cell_type": "code",
   "execution_count": 121,
   "outputs": [],
   "source": [
    "def get_cutoff(cost, action, id):\n",
    "    cutoff = {k: [] for k in id}\n",
    "    for i in range(len(cost) - 1):\n",
    "        if action[i + 1] != action[i] and id[i + 1] == id[i]:\n",
    "            cutoff[id[i]].append((cost[i+1], action[i+1]))\n",
    "\n",
    "    for k, v in cutoff.items():\n",
    "        if len(v) == 0:\n",
    "            cutoff[k] = [(np.NaN, action.loc[id==k].min())]\n",
    "\n",
    "    return cutoff"
   ],
   "metadata": {
    "collapsed": false,
    "ExecuteTime": {
     "end_time": "2023-12-13T21:08:08.002269500Z",
     "start_time": "2023-12-13T21:08:02.581928300Z"
    }
   }
  },
  {
   "cell_type": "code",
   "execution_count": 122,
   "outputs": [],
   "source": [
    "def get_cutoff_df(cutoff_dict):\n",
    "    df_dict = {}\n",
    "    df_out = pd.DataFrame()\n",
    "\n",
    "    for k, v in cutoff_dict.items():\n",
    "        df_dict[k] = pd.DataFrame()\n",
    "        for i in range(len(v)):\n",
    "            df_dict[k][f\"choice_{i+1}\"] = pd.Series(v[i][1])\n",
    "            df_dict[k][f\"cost_{i+1}\"] = pd.Series(v[i][0])\n",
    "\n",
    "    for id, df in df_dict.items():\n",
    "        df['id'] = id\n",
    "        df_out = pd.concat([df_out, df])\n",
    "\n",
    "    df_out = df_out.set_index('id')\n",
    "\n",
    "    return df_out"
   ],
   "metadata": {
    "collapsed": false,
    "ExecuteTime": {
     "end_time": "2023-12-13T21:08:08.003269200Z",
     "start_time": "2023-12-13T21:08:02.618245200Z"
    }
   }
  },
  {
   "cell_type": "code",
   "execution_count": 123,
   "outputs": [],
   "source": [
    "def get_cutoff_all(df, cols_excluded = ['id', 'cost']):\n",
    "    cutoff_all = {}\n",
    "    for element in df.columns.drop(cols_excluded):\n",
    "        cutoff_all[element] = get_cutoff_df(get_cutoff(df.cost, df[element], df.id)).add_suffix(f\"_{element}\")\n",
    "    return cutoff_all"
   ],
   "metadata": {
    "collapsed": false,
    "ExecuteTime": {
     "end_time": "2023-12-13T21:08:08.003269200Z",
     "start_time": "2023-12-13T21:08:02.644404Z"
    }
   }
  },
  {
   "cell_type": "code",
   "execution_count": 124,
   "outputs": [],
   "source": [
    "treatment_full_cutoffs = get_cutoff_all(treatment_full)\n",
    "control_full_cutoffs = get_cutoff_all(control_full)"
   ],
   "metadata": {
    "collapsed": false,
    "ExecuteTime": {
     "end_time": "2023-12-13T21:08:08.020347200Z",
     "start_time": "2023-12-13T21:08:02.676037800Z"
    }
   }
  },
  {
   "cell_type": "code",
   "execution_count": 125,
   "outputs": [
    {
     "data": {
      "text/plain": "   choice_1_p_choices_ca_t  cost_1_p_choices_ca_t choice_2_p_choices_ca_t  \\\nid                                                                          \n0                        2                   50.0                     NaN   \n1                        2                   90.0                     NaN   \n2                        2                  150.0                     NaN   \n3                        2                  110.0                     NaN   \n4                        2                  110.0                     NaN   \n5                        2                  150.0                     NaN   \n6                        2                  150.0                     NaN   \n7                        2                  130.0                     NaN   \n8                        2                  150.0                     NaN   \n9                        2                  150.0                     NaN   \n10                       2                  130.0                     NaN   \n11                       2                  110.0                     NaN   \n12                       2                  150.0                       1   \n13                       2                  150.0                     NaN   \n14                       2                    NaN                     NaN   \n15                       2                  150.0                     NaN   \n16                       2                  150.0                     NaN   \n17                       2                  150.0                     NaN   \n18                       2                    NaN                     NaN   \n19                       1                   30.0                       2   \n20                       2                  150.0                     NaN   \n21                       2                   70.0                     NaN   \n\n    cost_2_p_choices_ca_t choice_1_prediction_ca_t  cost_1_prediction_ca_t  \\\nid                                                                           \n0                     NaN                        2                    50.0   \n1                     NaN                        2                    90.0   \n2                     NaN                        2                   150.0   \n3                     NaN                        2                   110.0   \n4                     NaN                        2                   130.0   \n5                     NaN                        2                   150.0   \n6                     NaN                        2                   150.0   \n7                     NaN                        2                   150.0   \n8                     NaN                        2                   170.0   \n9                     NaN                        2                   150.0   \n10                    NaN                        2                   130.0   \n11                    NaN                        1                    30.0   \n12                  190.0                        1                    30.0   \n13                    NaN                        2                   150.0   \n14                    NaN                        2                     NaN   \n15                    NaN                        2                   150.0   \n16                    NaN                        2                    90.0   \n17                    NaN                        2                   150.0   \n18                    NaN                        2                     NaN   \n19                  110.0                        2                    70.0   \n20                    NaN                        2                   150.0   \n21                    NaN                        2                    70.0   \n\n   choice_2_prediction_ca_t  cost_2_prediction_ca_t choice_3_prediction_ca_t  \\\nid                                                                             \n0                       NaN                     NaN                      NaN   \n1                         1                   170.0                        2   \n2                       NaN                     NaN                      NaN   \n3                       NaN                     NaN                      NaN   \n4                       NaN                     NaN                      NaN   \n5                       NaN                     NaN                      NaN   \n6                       NaN                     NaN                      NaN   \n7                       NaN                     NaN                      NaN   \n8                       NaN                     NaN                      NaN   \n9                       NaN                     NaN                      NaN   \n10                      NaN                     NaN                      NaN   \n11                        2                   110.0                      NaN   \n12                        2                   150.0                      NaN   \n13                      NaN                     NaN                      NaN   \n14                      NaN                     NaN                      NaN   \n15                      NaN                     NaN                      NaN   \n16                        1                   110.0                        2   \n17                      NaN                     NaN                      NaN   \n18                      NaN                     NaN                      NaN   \n19                        1                    90.0                        2   \n20                      NaN                     NaN                      NaN   \n21                      NaN                     NaN                      NaN   \n\n    cost_3_prediction_ca_t  ... choice_5_prediction_cm_t  \\\nid                          ...                            \n0                      NaN  ...                      NaN   \n1                    190.0  ...                      NaN   \n2                      NaN  ...                      NaN   \n3                      NaN  ...                      NaN   \n4                      NaN  ...                      NaN   \n5                      NaN  ...                      NaN   \n6                      NaN  ...                      NaN   \n7                      NaN  ...                      NaN   \n8                      NaN  ...                      NaN   \n9                      NaN  ...                      NaN   \n10                     NaN  ...                      NaN   \n11                     NaN  ...                      NaN   \n12                     NaN  ...                        2   \n13                     NaN  ...                      NaN   \n14                     NaN  ...                      NaN   \n15                     NaN  ...                      NaN   \n16                   150.0  ...                      NaN   \n17                     NaN  ...                      NaN   \n18                     NaN  ...                      NaN   \n19                   110.0  ...                      NaN   \n20                     NaN  ...                      NaN   \n21                     NaN  ...                      NaN   \n\n    cost_5_prediction_cm_t choice_1_message_t  cost_1_message_t  \\\nid                                                                \n0                      NaN                  2               NaN   \n1                      NaN                  1              30.0   \n2                      NaN                  2              90.0   \n3                      NaN                  2             110.0   \n4                      NaN                  2              70.0   \n5                      NaN                  2              70.0   \n6                      NaN                  2              70.0   \n7                      NaN                  2              30.0   \n8                      NaN                  2             110.0   \n9                      NaN                  2               NaN   \n10                     NaN                  2               NaN   \n11                     NaN                  1              30.0   \n12                   150.0                  2               NaN   \n13                     NaN                  2              70.0   \n14                     NaN                  2               NaN   \n15                     NaN                  2              50.0   \n16                     NaN                  1              30.0   \n17                     NaN                  2              30.0   \n18                     NaN                  2               NaN   \n19                     NaN                  2             110.0   \n20                     NaN                  2               NaN   \n21                     NaN                  2               NaN   \n\n   choice_2_message_t  cost_2_message_t choice_3_message_t  cost_3_message_t  \\\nid                                                                             \n0                 NaN               NaN                NaN               NaN   \n1                   2              70.0                NaN               NaN   \n2                 NaN               NaN                NaN               NaN   \n3                 NaN               NaN                NaN               NaN   \n4                 NaN               NaN                NaN               NaN   \n5                 NaN               NaN                NaN               NaN   \n6                 NaN               NaN                NaN               NaN   \n7                 NaN               NaN                NaN               NaN   \n8                 NaN               NaN                NaN               NaN   \n9                 NaN               NaN                NaN               NaN   \n10                NaN               NaN                NaN               NaN   \n11                  2              70.0                  1              90.0   \n12                NaN               NaN                NaN               NaN   \n13                  1              90.0                  2             110.0   \n14                NaN               NaN                NaN               NaN   \n15                  1              90.0                  2             150.0   \n16                  2              70.0                NaN               NaN   \n17                NaN               NaN                NaN               NaN   \n18                NaN               NaN                NaN               NaN   \n19                NaN               NaN                NaN               NaN   \n20                NaN               NaN                NaN               NaN   \n21                NaN               NaN                NaN               NaN   \n\n   choice_4_message_t  cost_4_message_t  \nid                                       \n0                 NaN               NaN  \n1                 NaN               NaN  \n2                 NaN               NaN  \n3                 NaN               NaN  \n4                 NaN               NaN  \n5                 NaN               NaN  \n6                 NaN               NaN  \n7                 NaN               NaN  \n8                 NaN               NaN  \n9                 NaN               NaN  \n10                NaN               NaN  \n11                  2             130.0  \n12                NaN               NaN  \n13                NaN               NaN  \n14                NaN               NaN  \n15                NaN               NaN  \n16                NaN               NaN  \n17                NaN               NaN  \n18                NaN               NaN  \n19                NaN               NaN  \n20                NaN               NaN  \n21                NaN               NaN  \n\n[22 rows x 30 columns]",
      "text/html": "<div>\n<style scoped>\n    .dataframe tbody tr th:only-of-type {\n        vertical-align: middle;\n    }\n\n    .dataframe tbody tr th {\n        vertical-align: top;\n    }\n\n    .dataframe thead th {\n        text-align: right;\n    }\n</style>\n<table border=\"1\" class=\"dataframe\">\n  <thead>\n    <tr style=\"text-align: right;\">\n      <th></th>\n      <th>choice_1_p_choices_ca_t</th>\n      <th>cost_1_p_choices_ca_t</th>\n      <th>choice_2_p_choices_ca_t</th>\n      <th>cost_2_p_choices_ca_t</th>\n      <th>choice_1_prediction_ca_t</th>\n      <th>cost_1_prediction_ca_t</th>\n      <th>choice_2_prediction_ca_t</th>\n      <th>cost_2_prediction_ca_t</th>\n      <th>choice_3_prediction_ca_t</th>\n      <th>cost_3_prediction_ca_t</th>\n      <th>...</th>\n      <th>choice_5_prediction_cm_t</th>\n      <th>cost_5_prediction_cm_t</th>\n      <th>choice_1_message_t</th>\n      <th>cost_1_message_t</th>\n      <th>choice_2_message_t</th>\n      <th>cost_2_message_t</th>\n      <th>choice_3_message_t</th>\n      <th>cost_3_message_t</th>\n      <th>choice_4_message_t</th>\n      <th>cost_4_message_t</th>\n    </tr>\n    <tr>\n      <th>id</th>\n      <th></th>\n      <th></th>\n      <th></th>\n      <th></th>\n      <th></th>\n      <th></th>\n      <th></th>\n      <th></th>\n      <th></th>\n      <th></th>\n      <th></th>\n      <th></th>\n      <th></th>\n      <th></th>\n      <th></th>\n      <th></th>\n      <th></th>\n      <th></th>\n      <th></th>\n      <th></th>\n      <th></th>\n    </tr>\n  </thead>\n  <tbody>\n    <tr>\n      <th>0</th>\n      <td>2</td>\n      <td>50.0</td>\n      <td>NaN</td>\n      <td>NaN</td>\n      <td>2</td>\n      <td>50.0</td>\n      <td>NaN</td>\n      <td>NaN</td>\n      <td>NaN</td>\n      <td>NaN</td>\n      <td>...</td>\n      <td>NaN</td>\n      <td>NaN</td>\n      <td>2</td>\n      <td>NaN</td>\n      <td>NaN</td>\n      <td>NaN</td>\n      <td>NaN</td>\n      <td>NaN</td>\n      <td>NaN</td>\n      <td>NaN</td>\n    </tr>\n    <tr>\n      <th>1</th>\n      <td>2</td>\n      <td>90.0</td>\n      <td>NaN</td>\n      <td>NaN</td>\n      <td>2</td>\n      <td>90.0</td>\n      <td>1</td>\n      <td>170.0</td>\n      <td>2</td>\n      <td>190.0</td>\n      <td>...</td>\n      <td>NaN</td>\n      <td>NaN</td>\n      <td>1</td>\n      <td>30.0</td>\n      <td>2</td>\n      <td>70.0</td>\n      <td>NaN</td>\n      <td>NaN</td>\n      <td>NaN</td>\n      <td>NaN</td>\n    </tr>\n    <tr>\n      <th>2</th>\n      <td>2</td>\n      <td>150.0</td>\n      <td>NaN</td>\n      <td>NaN</td>\n      <td>2</td>\n      <td>150.0</td>\n      <td>NaN</td>\n      <td>NaN</td>\n      <td>NaN</td>\n      <td>NaN</td>\n      <td>...</td>\n      <td>NaN</td>\n      <td>NaN</td>\n      <td>2</td>\n      <td>90.0</td>\n      <td>NaN</td>\n      <td>NaN</td>\n      <td>NaN</td>\n      <td>NaN</td>\n      <td>NaN</td>\n      <td>NaN</td>\n    </tr>\n    <tr>\n      <th>3</th>\n      <td>2</td>\n      <td>110.0</td>\n      <td>NaN</td>\n      <td>NaN</td>\n      <td>2</td>\n      <td>110.0</td>\n      <td>NaN</td>\n      <td>NaN</td>\n      <td>NaN</td>\n      <td>NaN</td>\n      <td>...</td>\n      <td>NaN</td>\n      <td>NaN</td>\n      <td>2</td>\n      <td>110.0</td>\n      <td>NaN</td>\n      <td>NaN</td>\n      <td>NaN</td>\n      <td>NaN</td>\n      <td>NaN</td>\n      <td>NaN</td>\n    </tr>\n    <tr>\n      <th>4</th>\n      <td>2</td>\n      <td>110.0</td>\n      <td>NaN</td>\n      <td>NaN</td>\n      <td>2</td>\n      <td>130.0</td>\n      <td>NaN</td>\n      <td>NaN</td>\n      <td>NaN</td>\n      <td>NaN</td>\n      <td>...</td>\n      <td>NaN</td>\n      <td>NaN</td>\n      <td>2</td>\n      <td>70.0</td>\n      <td>NaN</td>\n      <td>NaN</td>\n      <td>NaN</td>\n      <td>NaN</td>\n      <td>NaN</td>\n      <td>NaN</td>\n    </tr>\n    <tr>\n      <th>5</th>\n      <td>2</td>\n      <td>150.0</td>\n      <td>NaN</td>\n      <td>NaN</td>\n      <td>2</td>\n      <td>150.0</td>\n      <td>NaN</td>\n      <td>NaN</td>\n      <td>NaN</td>\n      <td>NaN</td>\n      <td>...</td>\n      <td>NaN</td>\n      <td>NaN</td>\n      <td>2</td>\n      <td>70.0</td>\n      <td>NaN</td>\n      <td>NaN</td>\n      <td>NaN</td>\n      <td>NaN</td>\n      <td>NaN</td>\n      <td>NaN</td>\n    </tr>\n    <tr>\n      <th>6</th>\n      <td>2</td>\n      <td>150.0</td>\n      <td>NaN</td>\n      <td>NaN</td>\n      <td>2</td>\n      <td>150.0</td>\n      <td>NaN</td>\n      <td>NaN</td>\n      <td>NaN</td>\n      <td>NaN</td>\n      <td>...</td>\n      <td>NaN</td>\n      <td>NaN</td>\n      <td>2</td>\n      <td>70.0</td>\n      <td>NaN</td>\n      <td>NaN</td>\n      <td>NaN</td>\n      <td>NaN</td>\n      <td>NaN</td>\n      <td>NaN</td>\n    </tr>\n    <tr>\n      <th>7</th>\n      <td>2</td>\n      <td>130.0</td>\n      <td>NaN</td>\n      <td>NaN</td>\n      <td>2</td>\n      <td>150.0</td>\n      <td>NaN</td>\n      <td>NaN</td>\n      <td>NaN</td>\n      <td>NaN</td>\n      <td>...</td>\n      <td>NaN</td>\n      <td>NaN</td>\n      <td>2</td>\n      <td>30.0</td>\n      <td>NaN</td>\n      <td>NaN</td>\n      <td>NaN</td>\n      <td>NaN</td>\n      <td>NaN</td>\n      <td>NaN</td>\n    </tr>\n    <tr>\n      <th>8</th>\n      <td>2</td>\n      <td>150.0</td>\n      <td>NaN</td>\n      <td>NaN</td>\n      <td>2</td>\n      <td>170.0</td>\n      <td>NaN</td>\n      <td>NaN</td>\n      <td>NaN</td>\n      <td>NaN</td>\n      <td>...</td>\n      <td>NaN</td>\n      <td>NaN</td>\n      <td>2</td>\n      <td>110.0</td>\n      <td>NaN</td>\n      <td>NaN</td>\n      <td>NaN</td>\n      <td>NaN</td>\n      <td>NaN</td>\n      <td>NaN</td>\n    </tr>\n    <tr>\n      <th>9</th>\n      <td>2</td>\n      <td>150.0</td>\n      <td>NaN</td>\n      <td>NaN</td>\n      <td>2</td>\n      <td>150.0</td>\n      <td>NaN</td>\n      <td>NaN</td>\n      <td>NaN</td>\n      <td>NaN</td>\n      <td>...</td>\n      <td>NaN</td>\n      <td>NaN</td>\n      <td>2</td>\n      <td>NaN</td>\n      <td>NaN</td>\n      <td>NaN</td>\n      <td>NaN</td>\n      <td>NaN</td>\n      <td>NaN</td>\n      <td>NaN</td>\n    </tr>\n    <tr>\n      <th>10</th>\n      <td>2</td>\n      <td>130.0</td>\n      <td>NaN</td>\n      <td>NaN</td>\n      <td>2</td>\n      <td>130.0</td>\n      <td>NaN</td>\n      <td>NaN</td>\n      <td>NaN</td>\n      <td>NaN</td>\n      <td>...</td>\n      <td>NaN</td>\n      <td>NaN</td>\n      <td>2</td>\n      <td>NaN</td>\n      <td>NaN</td>\n      <td>NaN</td>\n      <td>NaN</td>\n      <td>NaN</td>\n      <td>NaN</td>\n      <td>NaN</td>\n    </tr>\n    <tr>\n      <th>11</th>\n      <td>2</td>\n      <td>110.0</td>\n      <td>NaN</td>\n      <td>NaN</td>\n      <td>1</td>\n      <td>30.0</td>\n      <td>2</td>\n      <td>110.0</td>\n      <td>NaN</td>\n      <td>NaN</td>\n      <td>...</td>\n      <td>NaN</td>\n      <td>NaN</td>\n      <td>1</td>\n      <td>30.0</td>\n      <td>2</td>\n      <td>70.0</td>\n      <td>1</td>\n      <td>90.0</td>\n      <td>2</td>\n      <td>130.0</td>\n    </tr>\n    <tr>\n      <th>12</th>\n      <td>2</td>\n      <td>150.0</td>\n      <td>1</td>\n      <td>190.0</td>\n      <td>1</td>\n      <td>30.0</td>\n      <td>2</td>\n      <td>150.0</td>\n      <td>NaN</td>\n      <td>NaN</td>\n      <td>...</td>\n      <td>2</td>\n      <td>150.0</td>\n      <td>2</td>\n      <td>NaN</td>\n      <td>NaN</td>\n      <td>NaN</td>\n      <td>NaN</td>\n      <td>NaN</td>\n      <td>NaN</td>\n      <td>NaN</td>\n    </tr>\n    <tr>\n      <th>13</th>\n      <td>2</td>\n      <td>150.0</td>\n      <td>NaN</td>\n      <td>NaN</td>\n      <td>2</td>\n      <td>150.0</td>\n      <td>NaN</td>\n      <td>NaN</td>\n      <td>NaN</td>\n      <td>NaN</td>\n      <td>...</td>\n      <td>NaN</td>\n      <td>NaN</td>\n      <td>2</td>\n      <td>70.0</td>\n      <td>1</td>\n      <td>90.0</td>\n      <td>2</td>\n      <td>110.0</td>\n      <td>NaN</td>\n      <td>NaN</td>\n    </tr>\n    <tr>\n      <th>14</th>\n      <td>2</td>\n      <td>NaN</td>\n      <td>NaN</td>\n      <td>NaN</td>\n      <td>2</td>\n      <td>NaN</td>\n      <td>NaN</td>\n      <td>NaN</td>\n      <td>NaN</td>\n      <td>NaN</td>\n      <td>...</td>\n      <td>NaN</td>\n      <td>NaN</td>\n      <td>2</td>\n      <td>NaN</td>\n      <td>NaN</td>\n      <td>NaN</td>\n      <td>NaN</td>\n      <td>NaN</td>\n      <td>NaN</td>\n      <td>NaN</td>\n    </tr>\n    <tr>\n      <th>15</th>\n      <td>2</td>\n      <td>150.0</td>\n      <td>NaN</td>\n      <td>NaN</td>\n      <td>2</td>\n      <td>150.0</td>\n      <td>NaN</td>\n      <td>NaN</td>\n      <td>NaN</td>\n      <td>NaN</td>\n      <td>...</td>\n      <td>NaN</td>\n      <td>NaN</td>\n      <td>2</td>\n      <td>50.0</td>\n      <td>1</td>\n      <td>90.0</td>\n      <td>2</td>\n      <td>150.0</td>\n      <td>NaN</td>\n      <td>NaN</td>\n    </tr>\n    <tr>\n      <th>16</th>\n      <td>2</td>\n      <td>150.0</td>\n      <td>NaN</td>\n      <td>NaN</td>\n      <td>2</td>\n      <td>90.0</td>\n      <td>1</td>\n      <td>110.0</td>\n      <td>2</td>\n      <td>150.0</td>\n      <td>...</td>\n      <td>NaN</td>\n      <td>NaN</td>\n      <td>1</td>\n      <td>30.0</td>\n      <td>2</td>\n      <td>70.0</td>\n      <td>NaN</td>\n      <td>NaN</td>\n      <td>NaN</td>\n      <td>NaN</td>\n    </tr>\n    <tr>\n      <th>17</th>\n      <td>2</td>\n      <td>150.0</td>\n      <td>NaN</td>\n      <td>NaN</td>\n      <td>2</td>\n      <td>150.0</td>\n      <td>NaN</td>\n      <td>NaN</td>\n      <td>NaN</td>\n      <td>NaN</td>\n      <td>...</td>\n      <td>NaN</td>\n      <td>NaN</td>\n      <td>2</td>\n      <td>30.0</td>\n      <td>NaN</td>\n      <td>NaN</td>\n      <td>NaN</td>\n      <td>NaN</td>\n      <td>NaN</td>\n      <td>NaN</td>\n    </tr>\n    <tr>\n      <th>18</th>\n      <td>2</td>\n      <td>NaN</td>\n      <td>NaN</td>\n      <td>NaN</td>\n      <td>2</td>\n      <td>NaN</td>\n      <td>NaN</td>\n      <td>NaN</td>\n      <td>NaN</td>\n      <td>NaN</td>\n      <td>...</td>\n      <td>NaN</td>\n      <td>NaN</td>\n      <td>2</td>\n      <td>NaN</td>\n      <td>NaN</td>\n      <td>NaN</td>\n      <td>NaN</td>\n      <td>NaN</td>\n      <td>NaN</td>\n      <td>NaN</td>\n    </tr>\n    <tr>\n      <th>19</th>\n      <td>1</td>\n      <td>30.0</td>\n      <td>2</td>\n      <td>110.0</td>\n      <td>2</td>\n      <td>70.0</td>\n      <td>1</td>\n      <td>90.0</td>\n      <td>2</td>\n      <td>110.0</td>\n      <td>...</td>\n      <td>NaN</td>\n      <td>NaN</td>\n      <td>2</td>\n      <td>110.0</td>\n      <td>NaN</td>\n      <td>NaN</td>\n      <td>NaN</td>\n      <td>NaN</td>\n      <td>NaN</td>\n      <td>NaN</td>\n    </tr>\n    <tr>\n      <th>20</th>\n      <td>2</td>\n      <td>150.0</td>\n      <td>NaN</td>\n      <td>NaN</td>\n      <td>2</td>\n      <td>150.0</td>\n      <td>NaN</td>\n      <td>NaN</td>\n      <td>NaN</td>\n      <td>NaN</td>\n      <td>...</td>\n      <td>NaN</td>\n      <td>NaN</td>\n      <td>2</td>\n      <td>NaN</td>\n      <td>NaN</td>\n      <td>NaN</td>\n      <td>NaN</td>\n      <td>NaN</td>\n      <td>NaN</td>\n      <td>NaN</td>\n    </tr>\n    <tr>\n      <th>21</th>\n      <td>2</td>\n      <td>70.0</td>\n      <td>NaN</td>\n      <td>NaN</td>\n      <td>2</td>\n      <td>70.0</td>\n      <td>NaN</td>\n      <td>NaN</td>\n      <td>NaN</td>\n      <td>NaN</td>\n      <td>...</td>\n      <td>NaN</td>\n      <td>NaN</td>\n      <td>2</td>\n      <td>NaN</td>\n      <td>NaN</td>\n      <td>NaN</td>\n      <td>NaN</td>\n      <td>NaN</td>\n      <td>NaN</td>\n      <td>NaN</td>\n    </tr>\n  </tbody>\n</table>\n<p>22 rows × 30 columns</p>\n</div>"
     },
     "execution_count": 125,
     "metadata": {},
     "output_type": "execute_result"
    }
   ],
   "source": [
    "pd.concat(treatment_full_cutoffs.values(), axis=1).add_suffix(\"_t\")"
   ],
   "metadata": {
    "collapsed": false,
    "ExecuteTime": {
     "end_time": "2023-12-13T21:08:08.091554200Z",
     "start_time": "2023-12-13T21:08:03.842668300Z"
    }
   }
  },
  {
   "cell_type": "markdown",
   "source": [
    "## 3 Analysis"
   ],
   "metadata": {
    "collapsed": false
   }
  },
  {
   "cell_type": "code",
   "execution_count": 126,
   "outputs": [
    {
     "data": {
      "text/plain": "     id p_choices prediction  cost\n0     0         1          1    10\n1     0         2          2    30\n2     0         2          2    50\n3     0         2          2    70\n4     0         2          2    90\n..   ..       ...        ...   ...\n215  21         1          2   110\n216  21         2          2   130\n217  21         2          2   150\n218  21         2          2   170\n219  21         2          2   190\n\n[220 rows x 4 columns]",
      "text/html": "<div>\n<style scoped>\n    .dataframe tbody tr th:only-of-type {\n        vertical-align: middle;\n    }\n\n    .dataframe tbody tr th {\n        vertical-align: top;\n    }\n\n    .dataframe thead th {\n        text-align: right;\n    }\n</style>\n<table border=\"1\" class=\"dataframe\">\n  <thead>\n    <tr style=\"text-align: right;\">\n      <th></th>\n      <th>id</th>\n      <th>p_choices</th>\n      <th>prediction</th>\n      <th>cost</th>\n    </tr>\n  </thead>\n  <tbody>\n    <tr>\n      <th>0</th>\n      <td>0</td>\n      <td>1</td>\n      <td>1</td>\n      <td>10</td>\n    </tr>\n    <tr>\n      <th>1</th>\n      <td>0</td>\n      <td>2</td>\n      <td>2</td>\n      <td>30</td>\n    </tr>\n    <tr>\n      <th>2</th>\n      <td>0</td>\n      <td>2</td>\n      <td>2</td>\n      <td>50</td>\n    </tr>\n    <tr>\n      <th>3</th>\n      <td>0</td>\n      <td>2</td>\n      <td>2</td>\n      <td>70</td>\n    </tr>\n    <tr>\n      <th>4</th>\n      <td>0</td>\n      <td>2</td>\n      <td>2</td>\n      <td>90</td>\n    </tr>\n    <tr>\n      <th>...</th>\n      <td>...</td>\n      <td>...</td>\n      <td>...</td>\n      <td>...</td>\n    </tr>\n    <tr>\n      <th>215</th>\n      <td>21</td>\n      <td>1</td>\n      <td>2</td>\n      <td>110</td>\n    </tr>\n    <tr>\n      <th>216</th>\n      <td>21</td>\n      <td>2</td>\n      <td>2</td>\n      <td>130</td>\n    </tr>\n    <tr>\n      <th>217</th>\n      <td>21</td>\n      <td>2</td>\n      <td>2</td>\n      <td>150</td>\n    </tr>\n    <tr>\n      <th>218</th>\n      <td>21</td>\n      <td>2</td>\n      <td>2</td>\n      <td>170</td>\n    </tr>\n    <tr>\n      <th>219</th>\n      <td>21</td>\n      <td>2</td>\n      <td>2</td>\n      <td>190</td>\n    </tr>\n  </tbody>\n</table>\n<p>220 rows × 4 columns</p>\n</div>"
     },
     "execution_count": 126,
     "metadata": {},
     "output_type": "execute_result"
    }
   ],
   "source": [
    "control_full"
   ],
   "metadata": {
    "collapsed": false,
    "ExecuteTime": {
     "end_time": "2023-12-13T21:08:08.093571200Z",
     "start_time": "2023-12-13T21:08:03.947959200Z"
    }
   }
  },
  {
   "cell_type": "markdown",
   "source": [
    "In this section, I will analyze the Control group from the exploratory perspective.\n",
    "We might see that all participants have changed their behavior depending on the costs."
   ],
   "metadata": {
    "collapsed": false
   }
  },
  {
   "cell_type": "code",
   "execution_count": 127,
   "outputs": [
    {
     "data": {
      "text/plain": "       choice_1_p_choices  cost_1_p_choices\ncount           22.000000         22.000000\nmean             1.909091         80.000000\nstd              0.294245         35.321651\nmin              1.000000         30.000000\n25%              2.000000         50.000000\n50%              2.000000         70.000000\n75%              2.000000        110.000000\nmax              2.000000        150.000000",
      "text/html": "<div>\n<style scoped>\n    .dataframe tbody tr th:only-of-type {\n        vertical-align: middle;\n    }\n\n    .dataframe tbody tr th {\n        vertical-align: top;\n    }\n\n    .dataframe thead th {\n        text-align: right;\n    }\n</style>\n<table border=\"1\" class=\"dataframe\">\n  <thead>\n    <tr style=\"text-align: right;\">\n      <th></th>\n      <th>choice_1_p_choices</th>\n      <th>cost_1_p_choices</th>\n    </tr>\n  </thead>\n  <tbody>\n    <tr>\n      <th>count</th>\n      <td>22.000000</td>\n      <td>22.000000</td>\n    </tr>\n    <tr>\n      <th>mean</th>\n      <td>1.909091</td>\n      <td>80.000000</td>\n    </tr>\n    <tr>\n      <th>std</th>\n      <td>0.294245</td>\n      <td>35.321651</td>\n    </tr>\n    <tr>\n      <th>min</th>\n      <td>1.000000</td>\n      <td>30.000000</td>\n    </tr>\n    <tr>\n      <th>25%</th>\n      <td>2.000000</td>\n      <td>50.000000</td>\n    </tr>\n    <tr>\n      <th>50%</th>\n      <td>2.000000</td>\n      <td>70.000000</td>\n    </tr>\n    <tr>\n      <th>75%</th>\n      <td>2.000000</td>\n      <td>110.000000</td>\n    </tr>\n    <tr>\n      <th>max</th>\n      <td>2.000000</td>\n      <td>150.000000</td>\n    </tr>\n  </tbody>\n</table>\n</div>"
     },
     "execution_count": 127,
     "metadata": {},
     "output_type": "execute_result"
    }
   ],
   "source": [
    "control_full_cutoffs['p_choices'].filter(like=\"1\").astype(\"int\").describe()"
   ],
   "metadata": {
    "collapsed": false,
    "ExecuteTime": {
     "end_time": "2023-12-13T21:08:08.094575Z",
     "start_time": "2023-12-13T21:08:03.995426600Z"
    }
   }
  },
  {
   "cell_type": "code",
   "execution_count": 128,
   "outputs": [],
   "source": [
    "res = {}\n",
    "for element in ['p_choices_ca', 'p_choices_cm', 'prediction_ca', 'prediction_cm']:\n",
    "    res[element] = get_cutoff_df(get_cutoff(treatment_full.cost, treatment_full[element], treatment_full.id))"
   ],
   "metadata": {
    "collapsed": false,
    "ExecuteTime": {
     "end_time": "2023-12-13T21:08:08.095569400Z",
     "start_time": "2023-12-13T21:08:04.057360100Z"
    }
   }
  },
  {
   "cell_type": "code",
   "execution_count": 129,
   "outputs": [
    {
     "data": {
      "text/plain": "   choice_1  cost_1 choice_2  cost_2 choice_3  cost_3 choice_4  cost_4  \\\nid                                                                       \n0         2    30.0      NaN     NaN      NaN     NaN      NaN     NaN   \n1         1    30.0        2    70.0      NaN     NaN      NaN     NaN   \n2         2   150.0      NaN     NaN      NaN     NaN      NaN     NaN   \n3         2   150.0      NaN     NaN      NaN     NaN      NaN     NaN   \n4         2   110.0      NaN     NaN      NaN     NaN      NaN     NaN   \n5         2   150.0      NaN     NaN      NaN     NaN      NaN     NaN   \n6         2    50.0        1    70.0        2   190.0      NaN     NaN   \n7         2   150.0      NaN     NaN      NaN     NaN      NaN     NaN   \n8         2   150.0      NaN     NaN      NaN     NaN      NaN     NaN   \n9         1    30.0        2   150.0      NaN     NaN      NaN     NaN   \n10        2   150.0      NaN     NaN      NaN     NaN      NaN     NaN   \n11        2    70.0        1    90.0        2   150.0      NaN     NaN   \n12        2    50.0        1    70.0        2   110.0        1   130.0   \n13        2   170.0      NaN     NaN      NaN     NaN      NaN     NaN   \n14        1    30.0        2    50.0      NaN     NaN      NaN     NaN   \n15        2   150.0      NaN     NaN      NaN     NaN      NaN     NaN   \n16        2    70.0        1   110.0        2   130.0      NaN     NaN   \n17        2   110.0      NaN     NaN      NaN     NaN      NaN     NaN   \n18        2    70.0      NaN     NaN      NaN     NaN      NaN     NaN   \n19        1    70.0        2   170.0      NaN     NaN      NaN     NaN   \n20        2    70.0      NaN     NaN      NaN     NaN      NaN     NaN   \n21        2     NaN      NaN     NaN      NaN     NaN      NaN     NaN   \n\n   choice_5  cost_5  \nid                   \n0       NaN     NaN  \n1       NaN     NaN  \n2       NaN     NaN  \n3       NaN     NaN  \n4       NaN     NaN  \n5       NaN     NaN  \n6       NaN     NaN  \n7       NaN     NaN  \n8       NaN     NaN  \n9       NaN     NaN  \n10      NaN     NaN  \n11      NaN     NaN  \n12        2   150.0  \n13      NaN     NaN  \n14      NaN     NaN  \n15      NaN     NaN  \n16      NaN     NaN  \n17      NaN     NaN  \n18      NaN     NaN  \n19      NaN     NaN  \n20      NaN     NaN  \n21      NaN     NaN  ",
      "text/html": "<div>\n<style scoped>\n    .dataframe tbody tr th:only-of-type {\n        vertical-align: middle;\n    }\n\n    .dataframe tbody tr th {\n        vertical-align: top;\n    }\n\n    .dataframe thead th {\n        text-align: right;\n    }\n</style>\n<table border=\"1\" class=\"dataframe\">\n  <thead>\n    <tr style=\"text-align: right;\">\n      <th></th>\n      <th>choice_1</th>\n      <th>cost_1</th>\n      <th>choice_2</th>\n      <th>cost_2</th>\n      <th>choice_3</th>\n      <th>cost_3</th>\n      <th>choice_4</th>\n      <th>cost_4</th>\n      <th>choice_5</th>\n      <th>cost_5</th>\n    </tr>\n    <tr>\n      <th>id</th>\n      <th></th>\n      <th></th>\n      <th></th>\n      <th></th>\n      <th></th>\n      <th></th>\n      <th></th>\n      <th></th>\n      <th></th>\n      <th></th>\n    </tr>\n  </thead>\n  <tbody>\n    <tr>\n      <th>0</th>\n      <td>2</td>\n      <td>30.0</td>\n      <td>NaN</td>\n      <td>NaN</td>\n      <td>NaN</td>\n      <td>NaN</td>\n      <td>NaN</td>\n      <td>NaN</td>\n      <td>NaN</td>\n      <td>NaN</td>\n    </tr>\n    <tr>\n      <th>1</th>\n      <td>1</td>\n      <td>30.0</td>\n      <td>2</td>\n      <td>70.0</td>\n      <td>NaN</td>\n      <td>NaN</td>\n      <td>NaN</td>\n      <td>NaN</td>\n      <td>NaN</td>\n      <td>NaN</td>\n    </tr>\n    <tr>\n      <th>2</th>\n      <td>2</td>\n      <td>150.0</td>\n      <td>NaN</td>\n      <td>NaN</td>\n      <td>NaN</td>\n      <td>NaN</td>\n      <td>NaN</td>\n      <td>NaN</td>\n      <td>NaN</td>\n      <td>NaN</td>\n    </tr>\n    <tr>\n      <th>3</th>\n      <td>2</td>\n      <td>150.0</td>\n      <td>NaN</td>\n      <td>NaN</td>\n      <td>NaN</td>\n      <td>NaN</td>\n      <td>NaN</td>\n      <td>NaN</td>\n      <td>NaN</td>\n      <td>NaN</td>\n    </tr>\n    <tr>\n      <th>4</th>\n      <td>2</td>\n      <td>110.0</td>\n      <td>NaN</td>\n      <td>NaN</td>\n      <td>NaN</td>\n      <td>NaN</td>\n      <td>NaN</td>\n      <td>NaN</td>\n      <td>NaN</td>\n      <td>NaN</td>\n    </tr>\n    <tr>\n      <th>5</th>\n      <td>2</td>\n      <td>150.0</td>\n      <td>NaN</td>\n      <td>NaN</td>\n      <td>NaN</td>\n      <td>NaN</td>\n      <td>NaN</td>\n      <td>NaN</td>\n      <td>NaN</td>\n      <td>NaN</td>\n    </tr>\n    <tr>\n      <th>6</th>\n      <td>2</td>\n      <td>50.0</td>\n      <td>1</td>\n      <td>70.0</td>\n      <td>2</td>\n      <td>190.0</td>\n      <td>NaN</td>\n      <td>NaN</td>\n      <td>NaN</td>\n      <td>NaN</td>\n    </tr>\n    <tr>\n      <th>7</th>\n      <td>2</td>\n      <td>150.0</td>\n      <td>NaN</td>\n      <td>NaN</td>\n      <td>NaN</td>\n      <td>NaN</td>\n      <td>NaN</td>\n      <td>NaN</td>\n      <td>NaN</td>\n      <td>NaN</td>\n    </tr>\n    <tr>\n      <th>8</th>\n      <td>2</td>\n      <td>150.0</td>\n      <td>NaN</td>\n      <td>NaN</td>\n      <td>NaN</td>\n      <td>NaN</td>\n      <td>NaN</td>\n      <td>NaN</td>\n      <td>NaN</td>\n      <td>NaN</td>\n    </tr>\n    <tr>\n      <th>9</th>\n      <td>1</td>\n      <td>30.0</td>\n      <td>2</td>\n      <td>150.0</td>\n      <td>NaN</td>\n      <td>NaN</td>\n      <td>NaN</td>\n      <td>NaN</td>\n      <td>NaN</td>\n      <td>NaN</td>\n    </tr>\n    <tr>\n      <th>10</th>\n      <td>2</td>\n      <td>150.0</td>\n      <td>NaN</td>\n      <td>NaN</td>\n      <td>NaN</td>\n      <td>NaN</td>\n      <td>NaN</td>\n      <td>NaN</td>\n      <td>NaN</td>\n      <td>NaN</td>\n    </tr>\n    <tr>\n      <th>11</th>\n      <td>2</td>\n      <td>70.0</td>\n      <td>1</td>\n      <td>90.0</td>\n      <td>2</td>\n      <td>150.0</td>\n      <td>NaN</td>\n      <td>NaN</td>\n      <td>NaN</td>\n      <td>NaN</td>\n    </tr>\n    <tr>\n      <th>12</th>\n      <td>2</td>\n      <td>50.0</td>\n      <td>1</td>\n      <td>70.0</td>\n      <td>2</td>\n      <td>110.0</td>\n      <td>1</td>\n      <td>130.0</td>\n      <td>2</td>\n      <td>150.0</td>\n    </tr>\n    <tr>\n      <th>13</th>\n      <td>2</td>\n      <td>170.0</td>\n      <td>NaN</td>\n      <td>NaN</td>\n      <td>NaN</td>\n      <td>NaN</td>\n      <td>NaN</td>\n      <td>NaN</td>\n      <td>NaN</td>\n      <td>NaN</td>\n    </tr>\n    <tr>\n      <th>14</th>\n      <td>1</td>\n      <td>30.0</td>\n      <td>2</td>\n      <td>50.0</td>\n      <td>NaN</td>\n      <td>NaN</td>\n      <td>NaN</td>\n      <td>NaN</td>\n      <td>NaN</td>\n      <td>NaN</td>\n    </tr>\n    <tr>\n      <th>15</th>\n      <td>2</td>\n      <td>150.0</td>\n      <td>NaN</td>\n      <td>NaN</td>\n      <td>NaN</td>\n      <td>NaN</td>\n      <td>NaN</td>\n      <td>NaN</td>\n      <td>NaN</td>\n      <td>NaN</td>\n    </tr>\n    <tr>\n      <th>16</th>\n      <td>2</td>\n      <td>70.0</td>\n      <td>1</td>\n      <td>110.0</td>\n      <td>2</td>\n      <td>130.0</td>\n      <td>NaN</td>\n      <td>NaN</td>\n      <td>NaN</td>\n      <td>NaN</td>\n    </tr>\n    <tr>\n      <th>17</th>\n      <td>2</td>\n      <td>110.0</td>\n      <td>NaN</td>\n      <td>NaN</td>\n      <td>NaN</td>\n      <td>NaN</td>\n      <td>NaN</td>\n      <td>NaN</td>\n      <td>NaN</td>\n      <td>NaN</td>\n    </tr>\n    <tr>\n      <th>18</th>\n      <td>2</td>\n      <td>70.0</td>\n      <td>NaN</td>\n      <td>NaN</td>\n      <td>NaN</td>\n      <td>NaN</td>\n      <td>NaN</td>\n      <td>NaN</td>\n      <td>NaN</td>\n      <td>NaN</td>\n    </tr>\n    <tr>\n      <th>19</th>\n      <td>1</td>\n      <td>70.0</td>\n      <td>2</td>\n      <td>170.0</td>\n      <td>NaN</td>\n      <td>NaN</td>\n      <td>NaN</td>\n      <td>NaN</td>\n      <td>NaN</td>\n      <td>NaN</td>\n    </tr>\n    <tr>\n      <th>20</th>\n      <td>2</td>\n      <td>70.0</td>\n      <td>NaN</td>\n      <td>NaN</td>\n      <td>NaN</td>\n      <td>NaN</td>\n      <td>NaN</td>\n      <td>NaN</td>\n      <td>NaN</td>\n      <td>NaN</td>\n    </tr>\n    <tr>\n      <th>21</th>\n      <td>2</td>\n      <td>NaN</td>\n      <td>NaN</td>\n      <td>NaN</td>\n      <td>NaN</td>\n      <td>NaN</td>\n      <td>NaN</td>\n      <td>NaN</td>\n      <td>NaN</td>\n      <td>NaN</td>\n    </tr>\n  </tbody>\n</table>\n</div>"
     },
     "execution_count": 129,
     "metadata": {},
     "output_type": "execute_result"
    }
   ],
   "source": [
    "res['prediction_cm']"
   ],
   "metadata": {
    "collapsed": false,
    "ExecuteTime": {
     "end_time": "2023-12-13T21:08:08.099580300Z",
     "start_time": "2023-12-13T21:08:04.841780700Z"
    }
   }
  },
  {
   "cell_type": "code",
   "execution_count": 130,
   "outputs": [
    {
     "data": {
      "text/plain": "     id p_choices_ca prediction_ca p_choices_cm prediction_cm message  cost\n120  12            1             2            1             1       2    10\n121  12            1             1            1             1       2    30\n122  12            1             1            2             2       2    50\n123  12            1             1            2             1       2    70\n124  12            1             1            2             1       2    90\n125  12            1             1            2             2       2   110\n126  12            1             1            2             1       2   130\n127  12            2             2            2             2       2   150\n128  12            2             2            2             2       2   170\n129  12            1             2            2             2       2   190",
      "text/html": "<div>\n<style scoped>\n    .dataframe tbody tr th:only-of-type {\n        vertical-align: middle;\n    }\n\n    .dataframe tbody tr th {\n        vertical-align: top;\n    }\n\n    .dataframe thead th {\n        text-align: right;\n    }\n</style>\n<table border=\"1\" class=\"dataframe\">\n  <thead>\n    <tr style=\"text-align: right;\">\n      <th></th>\n      <th>id</th>\n      <th>p_choices_ca</th>\n      <th>prediction_ca</th>\n      <th>p_choices_cm</th>\n      <th>prediction_cm</th>\n      <th>message</th>\n      <th>cost</th>\n    </tr>\n  </thead>\n  <tbody>\n    <tr>\n      <th>120</th>\n      <td>12</td>\n      <td>1</td>\n      <td>2</td>\n      <td>1</td>\n      <td>1</td>\n      <td>2</td>\n      <td>10</td>\n    </tr>\n    <tr>\n      <th>121</th>\n      <td>12</td>\n      <td>1</td>\n      <td>1</td>\n      <td>1</td>\n      <td>1</td>\n      <td>2</td>\n      <td>30</td>\n    </tr>\n    <tr>\n      <th>122</th>\n      <td>12</td>\n      <td>1</td>\n      <td>1</td>\n      <td>2</td>\n      <td>2</td>\n      <td>2</td>\n      <td>50</td>\n    </tr>\n    <tr>\n      <th>123</th>\n      <td>12</td>\n      <td>1</td>\n      <td>1</td>\n      <td>2</td>\n      <td>1</td>\n      <td>2</td>\n      <td>70</td>\n    </tr>\n    <tr>\n      <th>124</th>\n      <td>12</td>\n      <td>1</td>\n      <td>1</td>\n      <td>2</td>\n      <td>1</td>\n      <td>2</td>\n      <td>90</td>\n    </tr>\n    <tr>\n      <th>125</th>\n      <td>12</td>\n      <td>1</td>\n      <td>1</td>\n      <td>2</td>\n      <td>2</td>\n      <td>2</td>\n      <td>110</td>\n    </tr>\n    <tr>\n      <th>126</th>\n      <td>12</td>\n      <td>1</td>\n      <td>1</td>\n      <td>2</td>\n      <td>1</td>\n      <td>2</td>\n      <td>130</td>\n    </tr>\n    <tr>\n      <th>127</th>\n      <td>12</td>\n      <td>2</td>\n      <td>2</td>\n      <td>2</td>\n      <td>2</td>\n      <td>2</td>\n      <td>150</td>\n    </tr>\n    <tr>\n      <th>128</th>\n      <td>12</td>\n      <td>2</td>\n      <td>2</td>\n      <td>2</td>\n      <td>2</td>\n      <td>2</td>\n      <td>170</td>\n    </tr>\n    <tr>\n      <th>129</th>\n      <td>12</td>\n      <td>1</td>\n      <td>2</td>\n      <td>2</td>\n      <td>2</td>\n      <td>2</td>\n      <td>190</td>\n    </tr>\n  </tbody>\n</table>\n</div>"
     },
     "execution_count": 130,
     "metadata": {},
     "output_type": "execute_result"
    }
   ],
   "source": [
    "treatment_full.loc[treatment_full['id']==12]"
   ],
   "metadata": {
    "collapsed": false,
    "ExecuteTime": {
     "end_time": "2023-12-13T21:08:08.101609Z",
     "start_time": "2023-12-13T21:08:04.921769800Z"
    }
   }
  },
  {
   "cell_type": "code",
   "execution_count": 131,
   "outputs": [],
   "source": [
    "def split_df_by_index(df, id='id'):\n",
    "    \"\"\"\n",
    "    By unique index values, unnest the df into a dictionary of dfs\n",
    "    \"\"\"\n",
    "    dfs_dict = {}\n",
    "    df[id] = df[id].astype(int)\n",
    "    for idx in df[id].unique():\n",
    "        dfs_dict[idx] = df.loc[df[id] == idx].reset_index(drop=True)\n",
    "\n",
    "\n",
    "    return dfs_dict"
   ],
   "metadata": {
    "collapsed": false,
    "ExecuteTime": {
     "end_time": "2023-12-13T21:08:08.102586Z",
     "start_time": "2023-12-13T21:08:04.963339600Z"
    }
   }
  },
  {
   "cell_type": "code",
   "execution_count": 132,
   "outputs": [
    {
     "data": {
      "text/plain": "{0:    id prediction\n 0   0          1\n 1   0          2\n 2   0          2\n 3   0          2\n 4   0          2\n 5   0          2\n 6   0          2\n 7   0          2\n 8   0          2\n 9   0          2,\n 1:    id prediction\n 0   1          2\n 1   1          2\n 2   1          2\n 3   1          2\n 4   1          1\n 5   1          1\n 6   1          1\n 7   1          2\n 8   1          2\n 9   1          2,\n 2:    id prediction\n 0   2          1\n 1   2          1\n 2   2          1\n 3   2          2\n 4   2          2\n 5   2          2\n 6   2          2\n 7   2          2\n 8   2          2\n 9   2          2,\n 3:    id prediction\n 0   3          1\n 1   3          1\n 2   3          2\n 3   3          2\n 4   3          2\n 5   3          2\n 6   3          2\n 7   3          2\n 8   3          2\n 9   3          2,\n 4:    id prediction\n 0   4          1\n 1   4          2\n 2   4          2\n 3   4          2\n 4   4          2\n 5   4          2\n 6   4          1\n 7   4          2\n 8   4          2\n 9   4          2,\n 5:    id prediction\n 0   5          1\n 1   5          1\n 2   5          2\n 3   5          2\n 4   5          2\n 5   5          2\n 6   5          2\n 7   5          2\n 8   5          2\n 9   5          2,\n 6:    id prediction\n 0   6          1\n 1   6          1\n 2   6          1\n 3   6          2\n 4   6          2\n 5   6          2\n 6   6          2\n 7   6          2\n 8   6          2\n 9   6          2,\n 7:    id prediction\n 0   7          1\n 1   7          2\n 2   7          2\n 3   7          2\n 4   7          2\n 5   7          2\n 6   7          2\n 7   7          2\n 8   7          2\n 9   7          2,\n 8:    id prediction\n 0   8          1\n 1   8          1\n 2   8          1\n 3   8          1\n 4   8          1\n 5   8          2\n 6   8          2\n 7   8          2\n 8   8          2\n 9   8          2,\n 9:    id prediction\n 0   9          1\n 1   9          1\n 2   9          1\n 3   9          1\n 4   9          1\n 5   9          2\n 6   9          2\n 7   9          2\n 8   9          2\n 9   9          2,\n 10:    id prediction\n 0  10          1\n 1  10          2\n 2  10          1\n 3  10          1\n 4  10          1\n 5  10          2\n 6  10          2\n 7  10          2\n 8  10          2\n 9  10          2,\n 11:    id prediction\n 0  11          1\n 1  11          1\n 2  11          2\n 3  11          2\n 4  11          2\n 5  11          2\n 6  11          2\n 7  11          2\n 8  11          2\n 9  11          2,\n 12:    id prediction\n 0  12          1\n 1  12          1\n 2  12          1\n 3  12          2\n 4  12          2\n 5  12          2\n 6  12          2\n 7  12          2\n 8  12          2\n 9  12          2,\n 13:    id prediction\n 0  13          1\n 1  13          1\n 2  13          1\n 3  13          1\n 4  13          2\n 5  13          2\n 6  13          2\n 7  13          2\n 8  13          2\n 9  13          2,\n 14:    id prediction\n 0  14          1\n 1  14          1\n 2  14          1\n 3  14          2\n 4  14          2\n 5  14          2\n 6  14          2\n 7  14          2\n 8  14          2\n 9  14          2,\n 15:    id prediction\n 0  15          1\n 1  15          1\n 2  15          1\n 3  15          2\n 4  15          2\n 5  15          2\n 6  15          2\n 7  15          2\n 8  15          2\n 9  15          2,\n 16:    id prediction\n 0  16          1\n 1  16          1\n 2  16          1\n 3  16          1\n 4  16          1\n 5  16          1\n 6  16          1\n 7  16          2\n 8  16          2\n 9  16          2,\n 17:    id prediction\n 0  17          1\n 1  17          1\n 2  17          1\n 3  17          1\n 4  17          2\n 5  17          2\n 6  17          2\n 7  17          2\n 8  17          2\n 9  17          2,\n 18:    id prediction\n 0  18          1\n 1  18          1\n 2  18          1\n 3  18          1\n 4  18          1\n 5  18          2\n 6  18          2\n 7  18          2\n 8  18          2\n 9  18          2,\n 19:    id prediction\n 0  19          1\n 1  19          1\n 2  19          1\n 3  19          1\n 4  19          2\n 5  19          2\n 6  19          2\n 7  19          2\n 8  19          2\n 9  19          2,\n 20:    id prediction\n 0  20          1\n 1  20          1\n 2  20          1\n 3  20          1\n 4  20          1\n 5  20          1\n 6  20          2\n 7  20          2\n 8  20          2\n 9  20          2,\n 21:    id prediction\n 0  21          1\n 1  21          1\n 2  21          1\n 3  21          1\n 4  21          1\n 5  21          2\n 6  21          2\n 7  21          2\n 8  21          2\n 9  21          2}"
     },
     "execution_count": 132,
     "metadata": {},
     "output_type": "execute_result"
    }
   ],
   "source": [
    "split_df_by_index(control_pred)"
   ],
   "metadata": {
    "collapsed": false,
    "ExecuteTime": {
     "end_time": "2023-12-13T21:08:08.104584300Z",
     "start_time": "2023-12-13T21:08:04.994240300Z"
    }
   }
  },
  {
   "cell_type": "code",
   "execution_count": 133,
   "outputs": [
    {
     "data": {
      "text/plain": "   id p_choices\n0   1         1\n1   1         1\n2   1         1\n3   1         2\n4   1         1\n5   1         1\n6   1         1\n7   1         2\n8   1         2\n9   1         2",
      "text/html": "<div>\n<style scoped>\n    .dataframe tbody tr th:only-of-type {\n        vertical-align: middle;\n    }\n\n    .dataframe tbody tr th {\n        vertical-align: top;\n    }\n\n    .dataframe thead th {\n        text-align: right;\n    }\n</style>\n<table border=\"1\" class=\"dataframe\">\n  <thead>\n    <tr style=\"text-align: right;\">\n      <th></th>\n      <th>id</th>\n      <th>p_choices</th>\n    </tr>\n  </thead>\n  <tbody>\n    <tr>\n      <th>0</th>\n      <td>1</td>\n      <td>1</td>\n    </tr>\n    <tr>\n      <th>1</th>\n      <td>1</td>\n      <td>1</td>\n    </tr>\n    <tr>\n      <th>2</th>\n      <td>1</td>\n      <td>1</td>\n    </tr>\n    <tr>\n      <th>3</th>\n      <td>1</td>\n      <td>2</td>\n    </tr>\n    <tr>\n      <th>4</th>\n      <td>1</td>\n      <td>1</td>\n    </tr>\n    <tr>\n      <th>5</th>\n      <td>1</td>\n      <td>1</td>\n    </tr>\n    <tr>\n      <th>6</th>\n      <td>1</td>\n      <td>1</td>\n    </tr>\n    <tr>\n      <th>7</th>\n      <td>1</td>\n      <td>2</td>\n    </tr>\n    <tr>\n      <th>8</th>\n      <td>1</td>\n      <td>2</td>\n    </tr>\n    <tr>\n      <th>9</th>\n      <td>1</td>\n      <td>2</td>\n    </tr>\n  </tbody>\n</table>\n</div>"
     },
     "execution_count": 133,
     "metadata": {},
     "output_type": "execute_result"
    }
   ],
   "source": [
    "x_test = split_df_by_index(control_actions)\n",
    "x_test[1]"
   ],
   "metadata": {
    "collapsed": false,
    "ExecuteTime": {
     "end_time": "2023-12-13T21:08:08.109115300Z",
     "start_time": "2023-12-13T21:08:05.087323400Z"
    }
   }
  },
  {
   "cell_type": "code",
   "execution_count": 134,
   "outputs": [],
   "source": [
    "def get_cutoff(series):\n",
    "    \"\"\"\n",
    "    obtain all cutoff points of the series. Returning dict of values and their respective values\n",
    "    \"\"\"\n",
    "    cutoffs = {1: [], 2: []}\n",
    "\n",
    "    for i in range(1, len(series)):\n",
    "        if series[i] != series[i-1]:\n",
    "            cutoffs[series[i]].append(i)\n",
    "\n",
    "    return cutoffs"
   ],
   "metadata": {
    "collapsed": false,
    "ExecuteTime": {
     "end_time": "2023-12-13T21:08:08.109115300Z",
     "start_time": "2023-12-13T21:08:05.138278800Z"
    }
   }
  },
  {
   "cell_type": "code",
   "execution_count": 135,
   "outputs": [],
   "source": [
    "def get_cutoffs_categorized(dfs_dict, cutoff_series):\n",
    "    \"\"\"\n",
    "    For every unique id in the dfs_dict, obtain cutoffs for every value\n",
    "    \"\"\"\n",
    "    cutoffs = {}\n",
    "\n",
    "    for key, val in dfs_dict.items():\n",
    "        cutoffs[key] = get_cutoff(val[cutoff_series].values.astype(int))\n",
    "\n",
    "    return cutoffs"
   ],
   "metadata": {
    "collapsed": false,
    "ExecuteTime": {
     "end_time": "2023-12-13T21:08:08.110372100Z",
     "start_time": "2023-12-13T21:08:05.166642500Z"
    }
   }
  },
  {
   "cell_type": "code",
   "execution_count": 136,
   "outputs": [
    {
     "data": {
      "text/plain": "{0: {1: [], 2: [1]},\n 1: {1: [4], 2: [3, 7]},\n 2: {1: [], 2: [4]},\n 3: {1: [], 2: [2]},\n 4: {1: [6], 2: [2, 7]},\n 5: {1: [], 2: [2]},\n 6: {1: [2], 2: [3]},\n 7: {1: [1], 2: [2]},\n 8: {1: [], 2: [5]},\n 9: {1: [], 2: [5]},\n 10: {1: [2], 2: [1, 5]},\n 11: {1: [], 2: [3]},\n 12: {1: [], 2: [3]},\n 13: {1: [], 2: [5]},\n 14: {1: [], 2: [3]},\n 15: {1: [], 2: [3]},\n 16: {1: [], 2: [7]},\n 17: {1: [], 2: [5]},\n 18: {1: [], 2: [5]},\n 19: {1: [], 2: [3]},\n 20: {1: [], 2: [6]},\n 21: {1: [], 2: [6]}}"
     },
     "execution_count": 136,
     "metadata": {},
     "output_type": "execute_result"
    }
   ],
   "source": [
    "x_test = split_df_by_index(control_actions)\n",
    "x_cutoffs = get_cutoffs_categorized(x_test, x_test[1].columns[1])\n",
    "x_cutoffs"
   ],
   "metadata": {
    "collapsed": false,
    "ExecuteTime": {
     "end_time": "2023-12-13T21:08:08.111394200Z",
     "start_time": "2023-12-13T21:08:05.195123Z"
    }
   }
  },
  {
   "cell_type": "code",
   "execution_count": 137,
   "outputs": [],
   "source": [
    "def keep_consistent_obs(obs_cutoffs):\n",
    "\n",
    "    for k, v in obs_cutoffs.items():\n",
    "        if len(v[1]) != 0 or len(v[2]) != 1:\n",
    "            obs_cutoffs[k] = []\n",
    "\n",
    "    obs_cutoffs = {k: v[2] for k, v in obs_cutoffs.items() if len(v) > 0}\n",
    "\n",
    "\n",
    "    return obs_cutoffs"
   ],
   "metadata": {
    "collapsed": false,
    "ExecuteTime": {
     "end_time": "2023-12-13T21:08:08.111394200Z",
     "start_time": "2023-12-13T21:08:05.256402900Z"
    }
   }
  },
  {
   "cell_type": "code",
   "execution_count": 138,
   "outputs": [],
   "source": [
    "x_cut = keep_consistent_obs(x_cutoffs)"
   ],
   "metadata": {
    "collapsed": false,
    "ExecuteTime": {
     "end_time": "2023-12-13T21:08:08.112390600Z",
     "start_time": "2023-12-13T21:08:05.287804600Z"
    }
   }
  },
  {
   "cell_type": "code",
   "execution_count": 139,
   "outputs": [],
   "source": [
    "def get_cutoff_cost(cutoffs):\n",
    "\n",
    "    cost_order = [val for val in range(10, 200, 20)]\n",
    "    cutoff_out = {}\n",
    "\n",
    "    for key, val in cutoffs.items():\n",
    "        cutoff_out[key] = cost_order[val[0]]\n",
    "        # print(val[0])\n",
    "\n",
    "    return cutoff_out"
   ],
   "metadata": {
    "collapsed": false,
    "ExecuteTime": {
     "end_time": "2023-12-13T21:08:08.112390600Z",
     "start_time": "2023-12-13T21:08:05.319205300Z"
    }
   }
  },
  {
   "cell_type": "code",
   "execution_count": 140,
   "outputs": [],
   "source": [
    "def getting_pipeline(df, group_name):\n",
    "\n",
    "    df_split = split_df_by_index(df)\n",
    "    cutoffs = get_cutoffs_categorized(df_split, df.columns[1])\n",
    "    cutoffs = keep_consistent_obs(cutoffs)\n",
    "    cutoffs = get_cutoff_cost(cutoffs)\n",
    "    cutoffs = pd.DataFrame(cutoffs, index=[group_name]).transpose()\n",
    "\n",
    "    return cutoffs\n"
   ],
   "metadata": {
    "collapsed": false,
    "ExecuteTime": {
     "end_time": "2023-12-13T21:08:08.112390600Z",
     "start_time": "2023-12-13T21:08:05.347967600Z"
    }
   }
  },
  {
   "cell_type": "code",
   "execution_count": 141,
   "outputs": [],
   "source": [
    "def mapping_pipeline(df_dict):\n",
    "\n",
    "    dfs_all = {}\n",
    "\n",
    "    for lbl, df in df_dict.items():\n",
    "        dfs_all[lbl] = getting_pipeline(df, lbl)\n",
    "        dfs_all[lbl].to_csv(f\"{lbl}.csv\", index=True)\n",
    "\n",
    "    return dfs_all\n"
   ],
   "metadata": {
    "collapsed": false,
    "ExecuteTime": {
     "end_time": "2023-12-13T21:08:08.113389700Z",
     "start_time": "2023-12-13T21:08:05.364754Z"
    }
   }
  },
  {
   "cell_type": "code",
   "execution_count": 142,
   "outputs": [],
   "source": [
    "control_actions = set_costs(control_actions)\n",
    "control_pred = set_costs(control_pred)\n",
    "\n",
    "treatment_actions_a = set_costs(treatment_actions_a)\n",
    "treatment_actions_b = set_costs(treatment_actions_b)\n",
    "treatment_pred_a = set_costs(treatment_pred_a)\n",
    "treatment_pred_b = set_costs(treatment_pred_b)"
   ],
   "metadata": {
    "collapsed": false,
    "ExecuteTime": {
     "end_time": "2023-12-13T21:08:08.113389700Z",
     "start_time": "2023-12-13T21:08:05.389811400Z"
    }
   }
  },
  {
   "cell_type": "code",
   "execution_count": 143,
   "outputs": [],
   "source": [
    "df_dict = {'control_actions': control_actions,\n",
    "           'control_pred': control_pred,\n",
    "           'treatment_actions_a': treatment_actions_a,\n",
    "           'treatment_actions_b': treatment_actions_b,\n",
    "           'treatment_pred_a': treatment_pred_a,\n",
    "           'treatment_pred_b': treatment_pred_b\n",
    "           }\n"
   ],
   "metadata": {
    "collapsed": false,
    "ExecuteTime": {
     "end_time": "2023-12-13T21:08:08.113389700Z",
     "start_time": "2023-12-13T21:08:05.424279600Z"
    }
   }
  },
  {
   "cell_type": "code",
   "execution_count": 144,
   "outputs": [],
   "source": [
    "for key, val in df_dict.items():\n",
    "    val.to_csv(f\"{key}.csv\")"
   ],
   "metadata": {
    "collapsed": false,
    "ExecuteTime": {
     "end_time": "2023-12-13T21:08:08.113389700Z",
     "start_time": "2023-12-13T21:08:05.453173800Z"
    }
   }
  },
  {
   "cell_type": "code",
   "execution_count": 145,
   "outputs": [],
   "source": [
    "dfs_all = mapping_pipeline(df_dict)\n"
   ],
   "metadata": {
    "collapsed": false,
    "ExecuteTime": {
     "end_time": "2023-12-13T21:08:08.114903600Z",
     "start_time": "2023-12-13T21:08:05.519574Z"
    }
   }
  },
  {
   "cell_type": "code",
   "execution_count": 146,
   "outputs": [
    {
     "data": {
      "text/plain": "dict_keys(['control_actions', 'control_pred', 'treatment_actions_a', 'treatment_actions_b', 'treatment_pred_a', 'treatment_pred_b'])"
     },
     "execution_count": 146,
     "metadata": {},
     "output_type": "execute_result"
    }
   ],
   "source": [
    "dfs_all.keys()"
   ],
   "metadata": {
    "collapsed": false,
    "ExecuteTime": {
     "end_time": "2023-12-13T21:08:08.115919100Z",
     "start_time": "2023-12-13T21:08:05.828233400Z"
    }
   }
  },
  {
   "cell_type": "code",
   "execution_count": 147,
   "outputs": [],
   "source": [
    "pd.concat(dfs_all.values(), axis=1).sort_index().mean().to_csv(\"mean_cost_cutoff.csv\")"
   ],
   "metadata": {
    "collapsed": false,
    "ExecuteTime": {
     "end_time": "2023-12-13T21:08:08.116919800Z",
     "start_time": "2023-12-13T21:08:05.859843400Z"
    }
   }
  },
  {
   "cell_type": "code",
   "execution_count": 148,
   "outputs": [],
   "source": [
    "pd.concat(dfs_all.values(), axis=1).sort_index().describe().to_csv(\"descriptive_stats.csv\")"
   ],
   "metadata": {
    "collapsed": false,
    "ExecuteTime": {
     "end_time": "2023-12-13T21:08:08.116919800Z",
     "start_time": "2023-12-13T21:08:05.887484200Z"
    }
   }
  },
  {
   "cell_type": "code",
   "execution_count": 149,
   "outputs": [],
   "source": [
    "data_concat = pd.concat(dfs_all.values(), axis=1).sort_index()"
   ],
   "metadata": {
    "collapsed": false,
    "ExecuteTime": {
     "end_time": "2023-12-13T21:08:08.116919800Z",
     "start_time": "2023-12-13T21:08:05.951801900Z"
    }
   }
  },
  {
   "cell_type": "code",
   "execution_count": 150,
   "outputs": [
    {
     "data": {
      "text/plain": "    control_actions  control_pred  treatment_actions_a  treatment_actions_b  \\\n0              30.0          30.0                 50.0                 50.0   \n1               NaN           NaN                 90.0                 30.0   \n2              90.0          70.0                150.0                 70.0   \n3              50.0          50.0                110.0                110.0   \n4               NaN           NaN                110.0                 90.0   \n5              50.0          50.0                150.0                 50.0   \n6               NaN          70.0                150.0                 30.0   \n7               NaN          30.0                130.0                110.0   \n8             110.0         110.0                150.0                 90.0   \n9             110.0         110.0                150.0                 50.0   \n10              NaN           NaN                130.0                 70.0   \n11             70.0          50.0                110.0                  NaN   \n12             70.0          70.0                  NaN                 50.0   \n13            110.0          90.0                150.0                 70.0   \n14             70.0          70.0                  NaN                  NaN   \n15             70.0          70.0                150.0                 70.0   \n16            150.0         150.0                150.0                110.0   \n17            110.0          90.0                150.0                110.0   \n18            110.0         110.0                  NaN                  NaN   \n19             70.0          90.0                  NaN                  NaN   \n20            130.0         130.0                150.0                 70.0   \n21            130.0         110.0                 70.0                  NaN   \n\n    treatment_pred_a  treatment_pred_b  \n0               50.0              30.0  \n1                NaN               NaN  \n2              150.0             150.0  \n3              110.0             150.0  \n4              130.0             110.0  \n5              150.0             150.0  \n6              150.0               NaN  \n7              150.0             150.0  \n8              170.0             150.0  \n9              150.0               NaN  \n10             130.0             150.0  \n11               NaN               NaN  \n12               NaN               NaN  \n13             150.0             170.0  \n14               NaN               NaN  \n15             150.0             150.0  \n16               NaN               NaN  \n17             150.0             110.0  \n18               NaN              70.0  \n19               NaN               NaN  \n20             150.0              70.0  \n21              70.0               NaN  ",
      "text/html": "<div>\n<style scoped>\n    .dataframe tbody tr th:only-of-type {\n        vertical-align: middle;\n    }\n\n    .dataframe tbody tr th {\n        vertical-align: top;\n    }\n\n    .dataframe thead th {\n        text-align: right;\n    }\n</style>\n<table border=\"1\" class=\"dataframe\">\n  <thead>\n    <tr style=\"text-align: right;\">\n      <th></th>\n      <th>control_actions</th>\n      <th>control_pred</th>\n      <th>treatment_actions_a</th>\n      <th>treatment_actions_b</th>\n      <th>treatment_pred_a</th>\n      <th>treatment_pred_b</th>\n    </tr>\n  </thead>\n  <tbody>\n    <tr>\n      <th>0</th>\n      <td>30.0</td>\n      <td>30.0</td>\n      <td>50.0</td>\n      <td>50.0</td>\n      <td>50.0</td>\n      <td>30.0</td>\n    </tr>\n    <tr>\n      <th>1</th>\n      <td>NaN</td>\n      <td>NaN</td>\n      <td>90.0</td>\n      <td>30.0</td>\n      <td>NaN</td>\n      <td>NaN</td>\n    </tr>\n    <tr>\n      <th>2</th>\n      <td>90.0</td>\n      <td>70.0</td>\n      <td>150.0</td>\n      <td>70.0</td>\n      <td>150.0</td>\n      <td>150.0</td>\n    </tr>\n    <tr>\n      <th>3</th>\n      <td>50.0</td>\n      <td>50.0</td>\n      <td>110.0</td>\n      <td>110.0</td>\n      <td>110.0</td>\n      <td>150.0</td>\n    </tr>\n    <tr>\n      <th>4</th>\n      <td>NaN</td>\n      <td>NaN</td>\n      <td>110.0</td>\n      <td>90.0</td>\n      <td>130.0</td>\n      <td>110.0</td>\n    </tr>\n    <tr>\n      <th>5</th>\n      <td>50.0</td>\n      <td>50.0</td>\n      <td>150.0</td>\n      <td>50.0</td>\n      <td>150.0</td>\n      <td>150.0</td>\n    </tr>\n    <tr>\n      <th>6</th>\n      <td>NaN</td>\n      <td>70.0</td>\n      <td>150.0</td>\n      <td>30.0</td>\n      <td>150.0</td>\n      <td>NaN</td>\n    </tr>\n    <tr>\n      <th>7</th>\n      <td>NaN</td>\n      <td>30.0</td>\n      <td>130.0</td>\n      <td>110.0</td>\n      <td>150.0</td>\n      <td>150.0</td>\n    </tr>\n    <tr>\n      <th>8</th>\n      <td>110.0</td>\n      <td>110.0</td>\n      <td>150.0</td>\n      <td>90.0</td>\n      <td>170.0</td>\n      <td>150.0</td>\n    </tr>\n    <tr>\n      <th>9</th>\n      <td>110.0</td>\n      <td>110.0</td>\n      <td>150.0</td>\n      <td>50.0</td>\n      <td>150.0</td>\n      <td>NaN</td>\n    </tr>\n    <tr>\n      <th>10</th>\n      <td>NaN</td>\n      <td>NaN</td>\n      <td>130.0</td>\n      <td>70.0</td>\n      <td>130.0</td>\n      <td>150.0</td>\n    </tr>\n    <tr>\n      <th>11</th>\n      <td>70.0</td>\n      <td>50.0</td>\n      <td>110.0</td>\n      <td>NaN</td>\n      <td>NaN</td>\n      <td>NaN</td>\n    </tr>\n    <tr>\n      <th>12</th>\n      <td>70.0</td>\n      <td>70.0</td>\n      <td>NaN</td>\n      <td>50.0</td>\n      <td>NaN</td>\n      <td>NaN</td>\n    </tr>\n    <tr>\n      <th>13</th>\n      <td>110.0</td>\n      <td>90.0</td>\n      <td>150.0</td>\n      <td>70.0</td>\n      <td>150.0</td>\n      <td>170.0</td>\n    </tr>\n    <tr>\n      <th>14</th>\n      <td>70.0</td>\n      <td>70.0</td>\n      <td>NaN</td>\n      <td>NaN</td>\n      <td>NaN</td>\n      <td>NaN</td>\n    </tr>\n    <tr>\n      <th>15</th>\n      <td>70.0</td>\n      <td>70.0</td>\n      <td>150.0</td>\n      <td>70.0</td>\n      <td>150.0</td>\n      <td>150.0</td>\n    </tr>\n    <tr>\n      <th>16</th>\n      <td>150.0</td>\n      <td>150.0</td>\n      <td>150.0</td>\n      <td>110.0</td>\n      <td>NaN</td>\n      <td>NaN</td>\n    </tr>\n    <tr>\n      <th>17</th>\n      <td>110.0</td>\n      <td>90.0</td>\n      <td>150.0</td>\n      <td>110.0</td>\n      <td>150.0</td>\n      <td>110.0</td>\n    </tr>\n    <tr>\n      <th>18</th>\n      <td>110.0</td>\n      <td>110.0</td>\n      <td>NaN</td>\n      <td>NaN</td>\n      <td>NaN</td>\n      <td>70.0</td>\n    </tr>\n    <tr>\n      <th>19</th>\n      <td>70.0</td>\n      <td>90.0</td>\n      <td>NaN</td>\n      <td>NaN</td>\n      <td>NaN</td>\n      <td>NaN</td>\n    </tr>\n    <tr>\n      <th>20</th>\n      <td>130.0</td>\n      <td>130.0</td>\n      <td>150.0</td>\n      <td>70.0</td>\n      <td>150.0</td>\n      <td>70.0</td>\n    </tr>\n    <tr>\n      <th>21</th>\n      <td>130.0</td>\n      <td>110.0</td>\n      <td>70.0</td>\n      <td>NaN</td>\n      <td>70.0</td>\n      <td>NaN</td>\n    </tr>\n  </tbody>\n</table>\n</div>"
     },
     "execution_count": 150,
     "metadata": {},
     "output_type": "execute_result"
    }
   ],
   "source": [
    "data_concat"
   ],
   "metadata": {
    "collapsed": false,
    "ExecuteTime": {
     "end_time": "2023-12-13T21:08:08.119921800Z",
     "start_time": "2023-12-13T21:08:05.982567300Z"
    }
   }
  },
  {
   "cell_type": "code",
   "execution_count": 151,
   "outputs": [],
   "source": [
    "df_control = pd.DataFrame()\n",
    "df_treat = pd.DataFrame()\n",
    "for element in [control_actions, control_pred]:\n",
    "    df_control = pd.concat([df_control, element], axis=1)\n",
    "    df_control = df_control.loc[:, ~df_control.columns.duplicated()]\n",
    "\n",
    "for element in [treatment_actions_a, treatment_actions_b, treatment_pred_a, treatment_pred_b]:\n",
    "    df_treat = pd.concat([df_treat, element], axis=1)\n",
    "    df_treat = df_treat.loc[:, ~df_treat.columns.duplicated()]\n",
    "\n"
   ],
   "metadata": {
    "collapsed": false,
    "ExecuteTime": {
     "end_time": "2023-12-13T21:08:08.120922400Z",
     "start_time": "2023-12-13T21:08:06.046902700Z"
    }
   }
  },
  {
   "cell_type": "code",
   "execution_count": 152,
   "outputs": [],
   "source": [
    "df_treat['id'] = pd.Series(f\"{i}_t\" for i in df_treat.id)"
   ],
   "metadata": {
    "collapsed": false,
    "ExecuteTime": {
     "end_time": "2023-12-13T21:08:08.121924200Z",
     "start_time": "2023-12-13T21:08:06.089934900Z"
    }
   }
  },
  {
   "cell_type": "code",
   "execution_count": 153,
   "outputs": [],
   "source": [
    "df_control['id'] = pd.Series(f\"{i}_c\" for i in df_control.id)\n",
    "df_control['p_choices_ca'] = df_control['p_choices']\n",
    "df_control['p_choices_cm'] = df_control['p_choices']"
   ],
   "metadata": {
    "collapsed": false,
    "ExecuteTime": {
     "end_time": "2023-12-13T21:08:08.122920500Z",
     "start_time": "2023-12-13T21:08:06.121313300Z"
    }
   }
  },
  {
   "cell_type": "code",
   "execution_count": 154,
   "outputs": [
    {
     "data": {
      "text/plain": "214     90\n215    110\n216    130\n217    150\n218    170\nName: cost, dtype: int64"
     },
     "execution_count": 154,
     "metadata": {},
     "output_type": "execute_result"
    }
   ],
   "source": [
    "(df_control.cost[:-1].tail())"
   ],
   "metadata": {
    "collapsed": false,
    "ExecuteTime": {
     "end_time": "2023-12-13T21:08:08.122920500Z",
     "start_time": "2023-12-13T21:08:06.149780900Z"
    }
   }
  },
  {
   "cell_type": "code",
   "execution_count": 155,
   "outputs": [],
   "source": [
    "def get_cutoff(cost, action, id):\n",
    "    cutoff = {}\n",
    "    for i in range(len(cost) - 1):\n",
    "        if action[i+1] != action[i] and id[i+1] == id[i]:\n",
    "            cutoff[id[i]] = [cost[i], action[i]]\n",
    "    return cutoff"
   ],
   "metadata": {
    "collapsed": false,
    "ExecuteTime": {
     "end_time": "2023-12-13T21:08:08.123931600Z",
     "start_time": "2023-12-13T21:08:06.181830900Z"
    }
   }
  },
  {
   "cell_type": "code",
   "execution_count": 156,
   "outputs": [],
   "source": [
    "def cutoff_df(cutoff_dict, col_names={'cost', 'cutoff_action'}):\n",
    "    df_cutoffs = pd.DataFrame.from_dict(cutoff_dict).transpose()\n",
    "    df_cutoffs.columns = col_names\n",
    "    return df_cutoffs"
   ],
   "metadata": {
    "collapsed": false,
    "ExecuteTime": {
     "end_time": "2023-12-13T21:08:08.123931600Z",
     "start_time": "2023-12-13T21:08:06.208471600Z"
    }
   }
  },
  {
   "cell_type": "code",
   "execution_count": 157,
   "outputs": [],
   "source": [
    "x = get_cutoff(df_control.cost, df_control.prediction, df_control.id)"
   ],
   "metadata": {
    "collapsed": false,
    "ExecuteTime": {
     "end_time": "2023-12-13T21:08:08.124920700Z",
     "start_time": "2023-12-13T21:08:06.241499Z"
    }
   }
  },
  {
   "cell_type": "code",
   "execution_count": 158,
   "outputs": [
    {
     "data": {
      "text/plain": "     cost cutoff_action\n0_c    10             1\n1_c   130             1\n2_c    50             1\n3_c    30             1\n4_c   130             1\n5_c    30             1\n6_c    50             1\n7_c    10             1\n8_c    90             1\n9_c    90             1\n10_c   90             1\n11_c   30             1\n12_c   50             1\n13_c   70             1\n14_c   50             1\n15_c   50             1\n16_c  130             1\n17_c   70             1\n18_c   90             1\n19_c   70             1\n20_c  110             1\n21_c   90             1",
      "text/html": "<div>\n<style scoped>\n    .dataframe tbody tr th:only-of-type {\n        vertical-align: middle;\n    }\n\n    .dataframe tbody tr th {\n        vertical-align: top;\n    }\n\n    .dataframe thead th {\n        text-align: right;\n    }\n</style>\n<table border=\"1\" class=\"dataframe\">\n  <thead>\n    <tr style=\"text-align: right;\">\n      <th></th>\n      <th>cost</th>\n      <th>cutoff_action</th>\n    </tr>\n  </thead>\n  <tbody>\n    <tr>\n      <th>0_c</th>\n      <td>10</td>\n      <td>1</td>\n    </tr>\n    <tr>\n      <th>1_c</th>\n      <td>130</td>\n      <td>1</td>\n    </tr>\n    <tr>\n      <th>2_c</th>\n      <td>50</td>\n      <td>1</td>\n    </tr>\n    <tr>\n      <th>3_c</th>\n      <td>30</td>\n      <td>1</td>\n    </tr>\n    <tr>\n      <th>4_c</th>\n      <td>130</td>\n      <td>1</td>\n    </tr>\n    <tr>\n      <th>5_c</th>\n      <td>30</td>\n      <td>1</td>\n    </tr>\n    <tr>\n      <th>6_c</th>\n      <td>50</td>\n      <td>1</td>\n    </tr>\n    <tr>\n      <th>7_c</th>\n      <td>10</td>\n      <td>1</td>\n    </tr>\n    <tr>\n      <th>8_c</th>\n      <td>90</td>\n      <td>1</td>\n    </tr>\n    <tr>\n      <th>9_c</th>\n      <td>90</td>\n      <td>1</td>\n    </tr>\n    <tr>\n      <th>10_c</th>\n      <td>90</td>\n      <td>1</td>\n    </tr>\n    <tr>\n      <th>11_c</th>\n      <td>30</td>\n      <td>1</td>\n    </tr>\n    <tr>\n      <th>12_c</th>\n      <td>50</td>\n      <td>1</td>\n    </tr>\n    <tr>\n      <th>13_c</th>\n      <td>70</td>\n      <td>1</td>\n    </tr>\n    <tr>\n      <th>14_c</th>\n      <td>50</td>\n      <td>1</td>\n    </tr>\n    <tr>\n      <th>15_c</th>\n      <td>50</td>\n      <td>1</td>\n    </tr>\n    <tr>\n      <th>16_c</th>\n      <td>130</td>\n      <td>1</td>\n    </tr>\n    <tr>\n      <th>17_c</th>\n      <td>70</td>\n      <td>1</td>\n    </tr>\n    <tr>\n      <th>18_c</th>\n      <td>90</td>\n      <td>1</td>\n    </tr>\n    <tr>\n      <th>19_c</th>\n      <td>70</td>\n      <td>1</td>\n    </tr>\n    <tr>\n      <th>20_c</th>\n      <td>110</td>\n      <td>1</td>\n    </tr>\n    <tr>\n      <th>21_c</th>\n      <td>90</td>\n      <td>1</td>\n    </tr>\n  </tbody>\n</table>\n</div>"
     },
     "execution_count": 158,
     "metadata": {},
     "output_type": "execute_result"
    }
   ],
   "source": [
    "cutoff_df(x)"
   ],
   "metadata": {
    "collapsed": false,
    "ExecuteTime": {
     "end_time": "2023-12-13T21:08:08.126940800Z",
     "start_time": "2023-12-13T21:08:06.275276Z"
    }
   }
  },
  {
   "cell_type": "code",
   "execution_count": 159,
   "outputs": [],
   "source": [
    "df_dict = {\n",
    "    'treat_ch_ca': [df_treat, df_treat.p_choices_ca],\n",
    "    'treat_ch_cm': [df_treat, df_treat.p_choices_cm],\n",
    "    'treat_pr_ca': [df_treat, df_treat.prediction_ca],\n",
    "    'treat_pr_cm': [df_treat, df_treat.prediction_cm],\n",
    "    'con_ch': [df_control, df_control.p_choices],\n",
    "    'con_pr': [df_control, df_control.prediction]\n",
    "}\n",
    "\n",
    "df_full = pd.DataFrame()\n",
    "for k, v in df_dict.items():\n",
    "    df_full = pd.concat([df_full.reset_index(drop=True),\n",
    "                         cutoff_df(get_cutoff(v[0].cost, v[1], v[0].id)).add_suffix(f\"_{k}\").reset_index(drop=True)], axis=1)"
   ],
   "metadata": {
    "collapsed": false,
    "ExecuteTime": {
     "end_time": "2023-12-13T21:08:08.129920500Z",
     "start_time": "2023-12-13T21:08:06.372551700Z"
    }
   }
  },
  {
   "cell_type": "code",
   "execution_count": 160,
   "outputs": [
    {
     "data": {
      "text/plain": "   cost_treat_ch_ca cutoff_action_treat_ch_ca cost_treat_ch_cm  \\\n0                30                         1               30   \n1                70                         1               10   \n2               130                         1               50   \n3                90                         1               90   \n4                90                         1               70   \n5               130                         1               30   \n6               130                         1               10   \n7               110                         1               90   \n8               130                         1               70   \n9               130                         1               30   \n10              110                         1               50   \n11               90                         1               30   \n12              170                         2               50   \n13              130                         1               50   \n14              130                         1               90   \n15              130                         1               90   \n16              130                         1               50   \n17               90                         1              NaN   \n18              130                         1              NaN   \n19               50                         1              NaN   \n20              NaN                       NaN              NaN   \n21              NaN                       NaN              NaN   \n\n   cutoff_action_treat_ch_cm cost_treat_pr_ca cutoff_action_treat_pr_ca  \\\n0                          1               30                         1   \n1                          1              170                         1   \n2                          1              130                         1   \n3                          1               90                         1   \n4                          1              110                         1   \n5                          1              130                         1   \n6                          1              130                         1   \n7                          1              130                         1   \n8                          1              150                         1   \n9                          1              130                         1   \n10                         1              110                         1   \n11                         1               90                         1   \n12                         1              130                         1   \n13                         1              130                         1   \n14                         1              130                         1   \n15                         1              130                         1   \n16                         1              130                         1   \n17                       NaN               90                         1   \n18                       NaN              130                         1   \n19                       NaN               50                         1   \n20                       NaN              NaN                       NaN   \n21                       NaN              NaN                       NaN   \n\n   cost_treat_pr_cm cutoff_action_treat_pr_cm cost_con_ch  \\\n0                10                         1          10   \n1                50                         1         130   \n2               130                         1          70   \n3               130                         1          30   \n4                90                         1         130   \n5               130                         1          30   \n6               170                         1          50   \n7               130                         1          30   \n8               130                         1          90   \n9               130                         1          90   \n10              130                         1          90   \n11              130                         1          50   \n12              130                         1          50   \n13              150                         1          90   \n14               30                         1          50   \n15              130                         1          50   \n16              110                         1         130   \n17               90                         1          90   \n18               50                         1          90   \n19              150                         1          50   \n20               50                         1         110   \n21              NaN                       NaN         110   \n\n   cutoff_action_con_ch cost_con_pr cutoff_action_con_pr  \n0                     1          10                    1  \n1                     1         130                    1  \n2                     1          50                    1  \n3                     1          30                    1  \n4                     1         130                    1  \n5                     1          30                    1  \n6                     1          50                    1  \n7                     1          10                    1  \n8                     1          90                    1  \n9                     1          90                    1  \n10                    1          90                    1  \n11                    1          30                    1  \n12                    1          50                    1  \n13                    1          70                    1  \n14                    1          50                    1  \n15                    1          50                    1  \n16                    1         130                    1  \n17                    1          70                    1  \n18                    1          90                    1  \n19                    1          70                    1  \n20                    1         110                    1  \n21                    1          90                    1  ",
      "text/html": "<div>\n<style scoped>\n    .dataframe tbody tr th:only-of-type {\n        vertical-align: middle;\n    }\n\n    .dataframe tbody tr th {\n        vertical-align: top;\n    }\n\n    .dataframe thead th {\n        text-align: right;\n    }\n</style>\n<table border=\"1\" class=\"dataframe\">\n  <thead>\n    <tr style=\"text-align: right;\">\n      <th></th>\n      <th>cost_treat_ch_ca</th>\n      <th>cutoff_action_treat_ch_ca</th>\n      <th>cost_treat_ch_cm</th>\n      <th>cutoff_action_treat_ch_cm</th>\n      <th>cost_treat_pr_ca</th>\n      <th>cutoff_action_treat_pr_ca</th>\n      <th>cost_treat_pr_cm</th>\n      <th>cutoff_action_treat_pr_cm</th>\n      <th>cost_con_ch</th>\n      <th>cutoff_action_con_ch</th>\n      <th>cost_con_pr</th>\n      <th>cutoff_action_con_pr</th>\n    </tr>\n  </thead>\n  <tbody>\n    <tr>\n      <th>0</th>\n      <td>30</td>\n      <td>1</td>\n      <td>30</td>\n      <td>1</td>\n      <td>30</td>\n      <td>1</td>\n      <td>10</td>\n      <td>1</td>\n      <td>10</td>\n      <td>1</td>\n      <td>10</td>\n      <td>1</td>\n    </tr>\n    <tr>\n      <th>1</th>\n      <td>70</td>\n      <td>1</td>\n      <td>10</td>\n      <td>1</td>\n      <td>170</td>\n      <td>1</td>\n      <td>50</td>\n      <td>1</td>\n      <td>130</td>\n      <td>1</td>\n      <td>130</td>\n      <td>1</td>\n    </tr>\n    <tr>\n      <th>2</th>\n      <td>130</td>\n      <td>1</td>\n      <td>50</td>\n      <td>1</td>\n      <td>130</td>\n      <td>1</td>\n      <td>130</td>\n      <td>1</td>\n      <td>70</td>\n      <td>1</td>\n      <td>50</td>\n      <td>1</td>\n    </tr>\n    <tr>\n      <th>3</th>\n      <td>90</td>\n      <td>1</td>\n      <td>90</td>\n      <td>1</td>\n      <td>90</td>\n      <td>1</td>\n      <td>130</td>\n      <td>1</td>\n      <td>30</td>\n      <td>1</td>\n      <td>30</td>\n      <td>1</td>\n    </tr>\n    <tr>\n      <th>4</th>\n      <td>90</td>\n      <td>1</td>\n      <td>70</td>\n      <td>1</td>\n      <td>110</td>\n      <td>1</td>\n      <td>90</td>\n      <td>1</td>\n      <td>130</td>\n      <td>1</td>\n      <td>130</td>\n      <td>1</td>\n    </tr>\n    <tr>\n      <th>5</th>\n      <td>130</td>\n      <td>1</td>\n      <td>30</td>\n      <td>1</td>\n      <td>130</td>\n      <td>1</td>\n      <td>130</td>\n      <td>1</td>\n      <td>30</td>\n      <td>1</td>\n      <td>30</td>\n      <td>1</td>\n    </tr>\n    <tr>\n      <th>6</th>\n      <td>130</td>\n      <td>1</td>\n      <td>10</td>\n      <td>1</td>\n      <td>130</td>\n      <td>1</td>\n      <td>170</td>\n      <td>1</td>\n      <td>50</td>\n      <td>1</td>\n      <td>50</td>\n      <td>1</td>\n    </tr>\n    <tr>\n      <th>7</th>\n      <td>110</td>\n      <td>1</td>\n      <td>90</td>\n      <td>1</td>\n      <td>130</td>\n      <td>1</td>\n      <td>130</td>\n      <td>1</td>\n      <td>30</td>\n      <td>1</td>\n      <td>10</td>\n      <td>1</td>\n    </tr>\n    <tr>\n      <th>8</th>\n      <td>130</td>\n      <td>1</td>\n      <td>70</td>\n      <td>1</td>\n      <td>150</td>\n      <td>1</td>\n      <td>130</td>\n      <td>1</td>\n      <td>90</td>\n      <td>1</td>\n      <td>90</td>\n      <td>1</td>\n    </tr>\n    <tr>\n      <th>9</th>\n      <td>130</td>\n      <td>1</td>\n      <td>30</td>\n      <td>1</td>\n      <td>130</td>\n      <td>1</td>\n      <td>130</td>\n      <td>1</td>\n      <td>90</td>\n      <td>1</td>\n      <td>90</td>\n      <td>1</td>\n    </tr>\n    <tr>\n      <th>10</th>\n      <td>110</td>\n      <td>1</td>\n      <td>50</td>\n      <td>1</td>\n      <td>110</td>\n      <td>1</td>\n      <td>130</td>\n      <td>1</td>\n      <td>90</td>\n      <td>1</td>\n      <td>90</td>\n      <td>1</td>\n    </tr>\n    <tr>\n      <th>11</th>\n      <td>90</td>\n      <td>1</td>\n      <td>30</td>\n      <td>1</td>\n      <td>90</td>\n      <td>1</td>\n      <td>130</td>\n      <td>1</td>\n      <td>50</td>\n      <td>1</td>\n      <td>30</td>\n      <td>1</td>\n    </tr>\n    <tr>\n      <th>12</th>\n      <td>170</td>\n      <td>2</td>\n      <td>50</td>\n      <td>1</td>\n      <td>130</td>\n      <td>1</td>\n      <td>130</td>\n      <td>1</td>\n      <td>50</td>\n      <td>1</td>\n      <td>50</td>\n      <td>1</td>\n    </tr>\n    <tr>\n      <th>13</th>\n      <td>130</td>\n      <td>1</td>\n      <td>50</td>\n      <td>1</td>\n      <td>130</td>\n      <td>1</td>\n      <td>150</td>\n      <td>1</td>\n      <td>90</td>\n      <td>1</td>\n      <td>70</td>\n      <td>1</td>\n    </tr>\n    <tr>\n      <th>14</th>\n      <td>130</td>\n      <td>1</td>\n      <td>90</td>\n      <td>1</td>\n      <td>130</td>\n      <td>1</td>\n      <td>30</td>\n      <td>1</td>\n      <td>50</td>\n      <td>1</td>\n      <td>50</td>\n      <td>1</td>\n    </tr>\n    <tr>\n      <th>15</th>\n      <td>130</td>\n      <td>1</td>\n      <td>90</td>\n      <td>1</td>\n      <td>130</td>\n      <td>1</td>\n      <td>130</td>\n      <td>1</td>\n      <td>50</td>\n      <td>1</td>\n      <td>50</td>\n      <td>1</td>\n    </tr>\n    <tr>\n      <th>16</th>\n      <td>130</td>\n      <td>1</td>\n      <td>50</td>\n      <td>1</td>\n      <td>130</td>\n      <td>1</td>\n      <td>110</td>\n      <td>1</td>\n      <td>130</td>\n      <td>1</td>\n      <td>130</td>\n      <td>1</td>\n    </tr>\n    <tr>\n      <th>17</th>\n      <td>90</td>\n      <td>1</td>\n      <td>NaN</td>\n      <td>NaN</td>\n      <td>90</td>\n      <td>1</td>\n      <td>90</td>\n      <td>1</td>\n      <td>90</td>\n      <td>1</td>\n      <td>70</td>\n      <td>1</td>\n    </tr>\n    <tr>\n      <th>18</th>\n      <td>130</td>\n      <td>1</td>\n      <td>NaN</td>\n      <td>NaN</td>\n      <td>130</td>\n      <td>1</td>\n      <td>50</td>\n      <td>1</td>\n      <td>90</td>\n      <td>1</td>\n      <td>90</td>\n      <td>1</td>\n    </tr>\n    <tr>\n      <th>19</th>\n      <td>50</td>\n      <td>1</td>\n      <td>NaN</td>\n      <td>NaN</td>\n      <td>50</td>\n      <td>1</td>\n      <td>150</td>\n      <td>1</td>\n      <td>50</td>\n      <td>1</td>\n      <td>70</td>\n      <td>1</td>\n    </tr>\n    <tr>\n      <th>20</th>\n      <td>NaN</td>\n      <td>NaN</td>\n      <td>NaN</td>\n      <td>NaN</td>\n      <td>NaN</td>\n      <td>NaN</td>\n      <td>50</td>\n      <td>1</td>\n      <td>110</td>\n      <td>1</td>\n      <td>110</td>\n      <td>1</td>\n    </tr>\n    <tr>\n      <th>21</th>\n      <td>NaN</td>\n      <td>NaN</td>\n      <td>NaN</td>\n      <td>NaN</td>\n      <td>NaN</td>\n      <td>NaN</td>\n      <td>NaN</td>\n      <td>NaN</td>\n      <td>110</td>\n      <td>1</td>\n      <td>90</td>\n      <td>1</td>\n    </tr>\n  </tbody>\n</table>\n</div>"
     },
     "execution_count": 160,
     "metadata": {},
     "output_type": "execute_result"
    }
   ],
   "source": [
    "df_full"
   ],
   "metadata": {
    "collapsed": false,
    "ExecuteTime": {
     "end_time": "2023-12-13T21:08:08.132919900Z",
     "start_time": "2023-12-13T21:08:06.486623Z"
    }
   }
  },
  {
   "cell_type": "markdown",
   "source": [
    "# EDA"
   ],
   "metadata": {
    "collapsed": false
   }
  },
  {
   "cell_type": "code",
   "execution_count": 161,
   "outputs": [],
   "source": [
    "treatment_full = treatment_full.apply(lambda x: x.astype(\"int\"))\n",
    "control_full = control_full.apply(lambda x: x.astype(\"int\"))"
   ],
   "metadata": {
    "collapsed": false,
    "ExecuteTime": {
     "end_time": "2023-12-13T21:09:04.320596100Z",
     "start_time": "2023-12-13T21:09:04.112189400Z"
    }
   }
  },
  {
   "cell_type": "code",
   "execution_count": 163,
   "outputs": [],
   "source": [
    "control_full[['p_choices', 'prediction']] = control_full[['p_choices', 'prediction']].apply(lambda x: x - 1)\n",
    "treatment_full[['p_choices_ca', 'p_choices_cm', 'message', \n",
    "                'prediction_ca', 'prediction_cm']] = treatment_full[['p_choices_ca', 'p_choices_cm', 'message', 'prediction_ca', 'prediction_cm']].apply(lambda x: x - 1)"
   ],
   "metadata": {
    "collapsed": false,
    "ExecuteTime": {
     "end_time": "2023-12-13T21:10:24.545467Z",
     "start_time": "2023-12-13T21:10:24.155477100Z"
    }
   }
  },
  {
   "cell_type": "code",
   "execution_count": 169,
   "outputs": [
    {
     "data": {
      "text/plain": "'\\\\begin{tabular}{llrrrr}\\n\\\\toprule\\n & index & id & p_choices & prediction & cost \\\\\\\\\\n\\\\midrule\\n0 & count & 220.000000 & 220.000000 & 220.000000 & 220.000000 \\\\\\\\\\n1 & mean & 10.500000 & 0.622727 & 0.650000 & 100.000000 \\\\\\\\\\n2 & std & 6.358757 & 0.485809 & 0.478057 & 57.576631 \\\\\\\\\\n3 & min & 0.000000 & 0.000000 & 0.000000 & 10.000000 \\\\\\\\\\n4 & 25% & 5.000000 & 0.000000 & 0.000000 & 50.000000 \\\\\\\\\\n5 & 50% & 10.500000 & 1.000000 & 1.000000 & 100.000000 \\\\\\\\\\n6 & 75% & 16.000000 & 1.000000 & 1.000000 & 150.000000 \\\\\\\\\\n7 & max & 21.000000 & 1.000000 & 1.000000 & 190.000000 \\\\\\\\\\n\\\\bottomrule\\n\\\\end{tabular}\\n'"
     },
     "execution_count": 169,
     "metadata": {},
     "output_type": "execute_result"
    }
   ],
   "source": [
    "control_full.describe().reset_index().to_latex()"
   ],
   "metadata": {
    "collapsed": false,
    "ExecuteTime": {
     "end_time": "2023-12-13T21:12:30.676526Z",
     "start_time": "2023-12-13T21:12:30.491417900Z"
    }
   }
  }
 ],
 "metadata": {
  "kernelspec": {
   "display_name": "Python 3",
   "language": "python",
   "name": "python3"
  },
  "language_info": {
   "codemirror_mode": {
    "name": "ipython",
    "version": 2
   },
   "file_extension": ".py",
   "mimetype": "text/x-python",
   "name": "python",
   "nbconvert_exporter": "python",
   "pygments_lexer": "ipython2",
   "version": "2.7.6"
  }
 },
 "nbformat": 4,
 "nbformat_minor": 0
}
